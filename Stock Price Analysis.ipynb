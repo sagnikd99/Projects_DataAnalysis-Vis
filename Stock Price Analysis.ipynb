{
 "cells": [
  {
   "cell_type": "markdown",
   "id": "ea702c50",
   "metadata": {},
   "source": [
    "# A. Examining stocks of AAPL,GOOG,MSFT,AMZN for 2013-2018"
   ]
  },
  {
   "cell_type": "markdown",
   "id": "eb7b3fd1",
   "metadata": {},
   "source": [
    "## 1. Importing the Libraries:"
   ]
  },
  {
   "cell_type": "code",
   "execution_count": 1,
   "id": "8b4d493d",
   "metadata": {},
   "outputs": [],
   "source": [
    "import pandas as pd\n",
    "import numpy as np\n",
    "import matplotlib.pyplot as plt\n",
    "import seaborn as sns\n",
    "import plotly.express as px\n",
    "import plotly.graph_objects as go\n",
    "from plotly.subplots import make_subplots\n",
    "import plotly.io as pio\n",
    "import glob"
   ]
  },
  {
   "cell_type": "markdown",
   "id": "79343d99",
   "metadata": {},
   "source": [
    "## 2. Loading the Data: "
   ]
  },
  {
   "cell_type": "code",
   "execution_count": 2,
   "id": "d13dd2ce",
   "metadata": {},
   "outputs": [
    {
     "data": {
      "text/plain": [
       "['C:\\\\Users\\\\AAA\\\\Downloads\\\\S&P_resources\\\\individual_stocks_5yr\\\\AAL_data.csv',\n",
       " 'C:\\\\Users\\\\AAA\\\\Downloads\\\\S&P_resources\\\\individual_stocks_5yr\\\\AAPL_data.csv',\n",
       " 'C:\\\\Users\\\\AAA\\\\Downloads\\\\S&P_resources\\\\individual_stocks_5yr\\\\AAP_data.csv',\n",
       " 'C:\\\\Users\\\\AAA\\\\Downloads\\\\S&P_resources\\\\individual_stocks_5yr\\\\ABBV_data.csv',\n",
       " 'C:\\\\Users\\\\AAA\\\\Downloads\\\\S&P_resources\\\\individual_stocks_5yr\\\\ABC_data.csv',\n",
       " 'C:\\\\Users\\\\AAA\\\\Downloads\\\\S&P_resources\\\\individual_stocks_5yr\\\\ABT_data.csv',\n",
       " 'C:\\\\Users\\\\AAA\\\\Downloads\\\\S&P_resources\\\\individual_stocks_5yr\\\\ACN_data.csv',\n",
       " 'C:\\\\Users\\\\AAA\\\\Downloads\\\\S&P_resources\\\\individual_stocks_5yr\\\\ADBE_data.csv',\n",
       " 'C:\\\\Users\\\\AAA\\\\Downloads\\\\S&P_resources\\\\individual_stocks_5yr\\\\ADI_data.csv',\n",
       " 'C:\\\\Users\\\\AAA\\\\Downloads\\\\S&P_resources\\\\individual_stocks_5yr\\\\ADM_data.csv',\n",
       " 'C:\\\\Users\\\\AAA\\\\Downloads\\\\S&P_resources\\\\individual_stocks_5yr\\\\ADP_data.csv',\n",
       " 'C:\\\\Users\\\\AAA\\\\Downloads\\\\S&P_resources\\\\individual_stocks_5yr\\\\ADSK_data.csv',\n",
       " 'C:\\\\Users\\\\AAA\\\\Downloads\\\\S&P_resources\\\\individual_stocks_5yr\\\\ADS_data.csv',\n",
       " 'C:\\\\Users\\\\AAA\\\\Downloads\\\\S&P_resources\\\\individual_stocks_5yr\\\\AEE_data.csv',\n",
       " 'C:\\\\Users\\\\AAA\\\\Downloads\\\\S&P_resources\\\\individual_stocks_5yr\\\\AEP_data.csv',\n",
       " 'C:\\\\Users\\\\AAA\\\\Downloads\\\\S&P_resources\\\\individual_stocks_5yr\\\\AES_data.csv',\n",
       " 'C:\\\\Users\\\\AAA\\\\Downloads\\\\S&P_resources\\\\individual_stocks_5yr\\\\AET_data.csv',\n",
       " 'C:\\\\Users\\\\AAA\\\\Downloads\\\\S&P_resources\\\\individual_stocks_5yr\\\\AFL_data.csv',\n",
       " 'C:\\\\Users\\\\AAA\\\\Downloads\\\\S&P_resources\\\\individual_stocks_5yr\\\\AGN_data.csv',\n",
       " 'C:\\\\Users\\\\AAA\\\\Downloads\\\\S&P_resources\\\\individual_stocks_5yr\\\\AIG_data.csv',\n",
       " 'C:\\\\Users\\\\AAA\\\\Downloads\\\\S&P_resources\\\\individual_stocks_5yr\\\\AIV_data.csv',\n",
       " 'C:\\\\Users\\\\AAA\\\\Downloads\\\\S&P_resources\\\\individual_stocks_5yr\\\\AIZ_data.csv',\n",
       " 'C:\\\\Users\\\\AAA\\\\Downloads\\\\S&P_resources\\\\individual_stocks_5yr\\\\AJG_data.csv',\n",
       " 'C:\\\\Users\\\\AAA\\\\Downloads\\\\S&P_resources\\\\individual_stocks_5yr\\\\AKAM_data.csv',\n",
       " 'C:\\\\Users\\\\AAA\\\\Downloads\\\\S&P_resources\\\\individual_stocks_5yr\\\\ALB_data.csv',\n",
       " 'C:\\\\Users\\\\AAA\\\\Downloads\\\\S&P_resources\\\\individual_stocks_5yr\\\\ALGN_data.csv',\n",
       " 'C:\\\\Users\\\\AAA\\\\Downloads\\\\S&P_resources\\\\individual_stocks_5yr\\\\ALK_data.csv',\n",
       " 'C:\\\\Users\\\\AAA\\\\Downloads\\\\S&P_resources\\\\individual_stocks_5yr\\\\ALLE_data.csv',\n",
       " 'C:\\\\Users\\\\AAA\\\\Downloads\\\\S&P_resources\\\\individual_stocks_5yr\\\\ALL_data.csv',\n",
       " 'C:\\\\Users\\\\AAA\\\\Downloads\\\\S&P_resources\\\\individual_stocks_5yr\\\\ALXN_data.csv',\n",
       " 'C:\\\\Users\\\\AAA\\\\Downloads\\\\S&P_resources\\\\individual_stocks_5yr\\\\AMAT_data.csv',\n",
       " 'C:\\\\Users\\\\AAA\\\\Downloads\\\\S&P_resources\\\\individual_stocks_5yr\\\\AMD_data.csv',\n",
       " 'C:\\\\Users\\\\AAA\\\\Downloads\\\\S&P_resources\\\\individual_stocks_5yr\\\\AME_data.csv',\n",
       " 'C:\\\\Users\\\\AAA\\\\Downloads\\\\S&P_resources\\\\individual_stocks_5yr\\\\AMGN_data.csv',\n",
       " 'C:\\\\Users\\\\AAA\\\\Downloads\\\\S&P_resources\\\\individual_stocks_5yr\\\\AMG_data.csv',\n",
       " 'C:\\\\Users\\\\AAA\\\\Downloads\\\\S&P_resources\\\\individual_stocks_5yr\\\\AMP_data.csv',\n",
       " 'C:\\\\Users\\\\AAA\\\\Downloads\\\\S&P_resources\\\\individual_stocks_5yr\\\\AMT_data.csv',\n",
       " 'C:\\\\Users\\\\AAA\\\\Downloads\\\\S&P_resources\\\\individual_stocks_5yr\\\\AMZN_data.csv',\n",
       " 'C:\\\\Users\\\\AAA\\\\Downloads\\\\S&P_resources\\\\individual_stocks_5yr\\\\ANDV_data.csv',\n",
       " 'C:\\\\Users\\\\AAA\\\\Downloads\\\\S&P_resources\\\\individual_stocks_5yr\\\\ANSS_data.csv',\n",
       " 'C:\\\\Users\\\\AAA\\\\Downloads\\\\S&P_resources\\\\individual_stocks_5yr\\\\ANTM_data.csv',\n",
       " 'C:\\\\Users\\\\AAA\\\\Downloads\\\\S&P_resources\\\\individual_stocks_5yr\\\\AON_data.csv',\n",
       " 'C:\\\\Users\\\\AAA\\\\Downloads\\\\S&P_resources\\\\individual_stocks_5yr\\\\AOS_data.csv',\n",
       " 'C:\\\\Users\\\\AAA\\\\Downloads\\\\S&P_resources\\\\individual_stocks_5yr\\\\APA_data.csv',\n",
       " 'C:\\\\Users\\\\AAA\\\\Downloads\\\\S&P_resources\\\\individual_stocks_5yr\\\\APC_data.csv',\n",
       " 'C:\\\\Users\\\\AAA\\\\Downloads\\\\S&P_resources\\\\individual_stocks_5yr\\\\APD_data.csv',\n",
       " 'C:\\\\Users\\\\AAA\\\\Downloads\\\\S&P_resources\\\\individual_stocks_5yr\\\\APH_data.csv',\n",
       " 'C:\\\\Users\\\\AAA\\\\Downloads\\\\S&P_resources\\\\individual_stocks_5yr\\\\APTV_data.csv',\n",
       " 'C:\\\\Users\\\\AAA\\\\Downloads\\\\S&P_resources\\\\individual_stocks_5yr\\\\ARE_data.csv',\n",
       " 'C:\\\\Users\\\\AAA\\\\Downloads\\\\S&P_resources\\\\individual_stocks_5yr\\\\ARNC_data.csv',\n",
       " 'C:\\\\Users\\\\AAA\\\\Downloads\\\\S&P_resources\\\\individual_stocks_5yr\\\\ATVI_data.csv',\n",
       " 'C:\\\\Users\\\\AAA\\\\Downloads\\\\S&P_resources\\\\individual_stocks_5yr\\\\AVB_data.csv',\n",
       " 'C:\\\\Users\\\\AAA\\\\Downloads\\\\S&P_resources\\\\individual_stocks_5yr\\\\AVGO_data.csv',\n",
       " 'C:\\\\Users\\\\AAA\\\\Downloads\\\\S&P_resources\\\\individual_stocks_5yr\\\\AVY_data.csv',\n",
       " 'C:\\\\Users\\\\AAA\\\\Downloads\\\\S&P_resources\\\\individual_stocks_5yr\\\\AWK_data.csv',\n",
       " 'C:\\\\Users\\\\AAA\\\\Downloads\\\\S&P_resources\\\\individual_stocks_5yr\\\\AXP_data.csv',\n",
       " 'C:\\\\Users\\\\AAA\\\\Downloads\\\\S&P_resources\\\\individual_stocks_5yr\\\\AYI_data.csv',\n",
       " 'C:\\\\Users\\\\AAA\\\\Downloads\\\\S&P_resources\\\\individual_stocks_5yr\\\\AZO_data.csv',\n",
       " 'C:\\\\Users\\\\AAA\\\\Downloads\\\\S&P_resources\\\\individual_stocks_5yr\\\\A_data.csv',\n",
       " 'C:\\\\Users\\\\AAA\\\\Downloads\\\\S&P_resources\\\\individual_stocks_5yr\\\\BAC_data.csv',\n",
       " 'C:\\\\Users\\\\AAA\\\\Downloads\\\\S&P_resources\\\\individual_stocks_5yr\\\\BAX_data.csv',\n",
       " 'C:\\\\Users\\\\AAA\\\\Downloads\\\\S&P_resources\\\\individual_stocks_5yr\\\\BA_data.csv',\n",
       " 'C:\\\\Users\\\\AAA\\\\Downloads\\\\S&P_resources\\\\individual_stocks_5yr\\\\BBT_data.csv',\n",
       " 'C:\\\\Users\\\\AAA\\\\Downloads\\\\S&P_resources\\\\individual_stocks_5yr\\\\BBY_data.csv',\n",
       " 'C:\\\\Users\\\\AAA\\\\Downloads\\\\S&P_resources\\\\individual_stocks_5yr\\\\BDX_data.csv',\n",
       " 'C:\\\\Users\\\\AAA\\\\Downloads\\\\S&P_resources\\\\individual_stocks_5yr\\\\BEN_data.csv',\n",
       " 'C:\\\\Users\\\\AAA\\\\Downloads\\\\S&P_resources\\\\individual_stocks_5yr\\\\BF.B_data.csv',\n",
       " 'C:\\\\Users\\\\AAA\\\\Downloads\\\\S&P_resources\\\\individual_stocks_5yr\\\\BHF_data.csv',\n",
       " 'C:\\\\Users\\\\AAA\\\\Downloads\\\\S&P_resources\\\\individual_stocks_5yr\\\\BHGE_data.csv',\n",
       " 'C:\\\\Users\\\\AAA\\\\Downloads\\\\S&P_resources\\\\individual_stocks_5yr\\\\BIIB_data.csv',\n",
       " 'C:\\\\Users\\\\AAA\\\\Downloads\\\\S&P_resources\\\\individual_stocks_5yr\\\\BK_data.csv',\n",
       " 'C:\\\\Users\\\\AAA\\\\Downloads\\\\S&P_resources\\\\individual_stocks_5yr\\\\BLK_data.csv',\n",
       " 'C:\\\\Users\\\\AAA\\\\Downloads\\\\S&P_resources\\\\individual_stocks_5yr\\\\BLL_data.csv',\n",
       " 'C:\\\\Users\\\\AAA\\\\Downloads\\\\S&P_resources\\\\individual_stocks_5yr\\\\BMY_data.csv',\n",
       " 'C:\\\\Users\\\\AAA\\\\Downloads\\\\S&P_resources\\\\individual_stocks_5yr\\\\BRK.B_data.csv',\n",
       " 'C:\\\\Users\\\\AAA\\\\Downloads\\\\S&P_resources\\\\individual_stocks_5yr\\\\BSX_data.csv',\n",
       " 'C:\\\\Users\\\\AAA\\\\Downloads\\\\S&P_resources\\\\individual_stocks_5yr\\\\BWA_data.csv',\n",
       " 'C:\\\\Users\\\\AAA\\\\Downloads\\\\S&P_resources\\\\individual_stocks_5yr\\\\BXP_data.csv',\n",
       " 'C:\\\\Users\\\\AAA\\\\Downloads\\\\S&P_resources\\\\individual_stocks_5yr\\\\CAG_data.csv',\n",
       " 'C:\\\\Users\\\\AAA\\\\Downloads\\\\S&P_resources\\\\individual_stocks_5yr\\\\CAH_data.csv',\n",
       " 'C:\\\\Users\\\\AAA\\\\Downloads\\\\S&P_resources\\\\individual_stocks_5yr\\\\CAT_data.csv',\n",
       " 'C:\\\\Users\\\\AAA\\\\Downloads\\\\S&P_resources\\\\individual_stocks_5yr\\\\CA_data.csv',\n",
       " 'C:\\\\Users\\\\AAA\\\\Downloads\\\\S&P_resources\\\\individual_stocks_5yr\\\\CBG_data.csv',\n",
       " 'C:\\\\Users\\\\AAA\\\\Downloads\\\\S&P_resources\\\\individual_stocks_5yr\\\\CBOE_data.csv',\n",
       " 'C:\\\\Users\\\\AAA\\\\Downloads\\\\S&P_resources\\\\individual_stocks_5yr\\\\CBS_data.csv',\n",
       " 'C:\\\\Users\\\\AAA\\\\Downloads\\\\S&P_resources\\\\individual_stocks_5yr\\\\CB_data.csv',\n",
       " 'C:\\\\Users\\\\AAA\\\\Downloads\\\\S&P_resources\\\\individual_stocks_5yr\\\\CCI_data.csv',\n",
       " 'C:\\\\Users\\\\AAA\\\\Downloads\\\\S&P_resources\\\\individual_stocks_5yr\\\\CCL_data.csv',\n",
       " 'C:\\\\Users\\\\AAA\\\\Downloads\\\\S&P_resources\\\\individual_stocks_5yr\\\\CDNS_data.csv',\n",
       " 'C:\\\\Users\\\\AAA\\\\Downloads\\\\S&P_resources\\\\individual_stocks_5yr\\\\CELG_data.csv',\n",
       " 'C:\\\\Users\\\\AAA\\\\Downloads\\\\S&P_resources\\\\individual_stocks_5yr\\\\CERN_data.csv',\n",
       " 'C:\\\\Users\\\\AAA\\\\Downloads\\\\S&P_resources\\\\individual_stocks_5yr\\\\CFG_data.csv',\n",
       " 'C:\\\\Users\\\\AAA\\\\Downloads\\\\S&P_resources\\\\individual_stocks_5yr\\\\CF_data.csv',\n",
       " 'C:\\\\Users\\\\AAA\\\\Downloads\\\\S&P_resources\\\\individual_stocks_5yr\\\\CHD_data.csv',\n",
       " 'C:\\\\Users\\\\AAA\\\\Downloads\\\\S&P_resources\\\\individual_stocks_5yr\\\\CHK_data.csv',\n",
       " 'C:\\\\Users\\\\AAA\\\\Downloads\\\\S&P_resources\\\\individual_stocks_5yr\\\\CHRW_data.csv',\n",
       " 'C:\\\\Users\\\\AAA\\\\Downloads\\\\S&P_resources\\\\individual_stocks_5yr\\\\CHTR_data.csv',\n",
       " 'C:\\\\Users\\\\AAA\\\\Downloads\\\\S&P_resources\\\\individual_stocks_5yr\\\\CINF_data.csv',\n",
       " 'C:\\\\Users\\\\AAA\\\\Downloads\\\\S&P_resources\\\\individual_stocks_5yr\\\\CI_data.csv',\n",
       " 'C:\\\\Users\\\\AAA\\\\Downloads\\\\S&P_resources\\\\individual_stocks_5yr\\\\CLX_data.csv',\n",
       " 'C:\\\\Users\\\\AAA\\\\Downloads\\\\S&P_resources\\\\individual_stocks_5yr\\\\CL_data.csv',\n",
       " 'C:\\\\Users\\\\AAA\\\\Downloads\\\\S&P_resources\\\\individual_stocks_5yr\\\\CMA_data.csv',\n",
       " 'C:\\\\Users\\\\AAA\\\\Downloads\\\\S&P_resources\\\\individual_stocks_5yr\\\\CMCSA_data.csv',\n",
       " 'C:\\\\Users\\\\AAA\\\\Downloads\\\\S&P_resources\\\\individual_stocks_5yr\\\\CME_data.csv',\n",
       " 'C:\\\\Users\\\\AAA\\\\Downloads\\\\S&P_resources\\\\individual_stocks_5yr\\\\CMG_data.csv',\n",
       " 'C:\\\\Users\\\\AAA\\\\Downloads\\\\S&P_resources\\\\individual_stocks_5yr\\\\CMI_data.csv',\n",
       " 'C:\\\\Users\\\\AAA\\\\Downloads\\\\S&P_resources\\\\individual_stocks_5yr\\\\CMS_data.csv',\n",
       " 'C:\\\\Users\\\\AAA\\\\Downloads\\\\S&P_resources\\\\individual_stocks_5yr\\\\CNC_data.csv',\n",
       " 'C:\\\\Users\\\\AAA\\\\Downloads\\\\S&P_resources\\\\individual_stocks_5yr\\\\CNP_data.csv',\n",
       " 'C:\\\\Users\\\\AAA\\\\Downloads\\\\S&P_resources\\\\individual_stocks_5yr\\\\COF_data.csv',\n",
       " 'C:\\\\Users\\\\AAA\\\\Downloads\\\\S&P_resources\\\\individual_stocks_5yr\\\\COG_data.csv',\n",
       " 'C:\\\\Users\\\\AAA\\\\Downloads\\\\S&P_resources\\\\individual_stocks_5yr\\\\COL_data.csv',\n",
       " 'C:\\\\Users\\\\AAA\\\\Downloads\\\\S&P_resources\\\\individual_stocks_5yr\\\\COO_data.csv',\n",
       " 'C:\\\\Users\\\\AAA\\\\Downloads\\\\S&P_resources\\\\individual_stocks_5yr\\\\COP_data.csv',\n",
       " 'C:\\\\Users\\\\AAA\\\\Downloads\\\\S&P_resources\\\\individual_stocks_5yr\\\\COST_data.csv',\n",
       " 'C:\\\\Users\\\\AAA\\\\Downloads\\\\S&P_resources\\\\individual_stocks_5yr\\\\COTY_data.csv',\n",
       " 'C:\\\\Users\\\\AAA\\\\Downloads\\\\S&P_resources\\\\individual_stocks_5yr\\\\CPB_data.csv',\n",
       " 'C:\\\\Users\\\\AAA\\\\Downloads\\\\S&P_resources\\\\individual_stocks_5yr\\\\CRM_data.csv',\n",
       " 'C:\\\\Users\\\\AAA\\\\Downloads\\\\S&P_resources\\\\individual_stocks_5yr\\\\CSCO_data.csv',\n",
       " 'C:\\\\Users\\\\AAA\\\\Downloads\\\\S&P_resources\\\\individual_stocks_5yr\\\\CSRA_data.csv',\n",
       " 'C:\\\\Users\\\\AAA\\\\Downloads\\\\S&P_resources\\\\individual_stocks_5yr\\\\CSX_data.csv',\n",
       " 'C:\\\\Users\\\\AAA\\\\Downloads\\\\S&P_resources\\\\individual_stocks_5yr\\\\CTAS_data.csv',\n",
       " 'C:\\\\Users\\\\AAA\\\\Downloads\\\\S&P_resources\\\\individual_stocks_5yr\\\\CTL_data.csv',\n",
       " 'C:\\\\Users\\\\AAA\\\\Downloads\\\\S&P_resources\\\\individual_stocks_5yr\\\\CTSH_data.csv',\n",
       " 'C:\\\\Users\\\\AAA\\\\Downloads\\\\S&P_resources\\\\individual_stocks_5yr\\\\CTXS_data.csv',\n",
       " 'C:\\\\Users\\\\AAA\\\\Downloads\\\\S&P_resources\\\\individual_stocks_5yr\\\\CVS_data.csv',\n",
       " 'C:\\\\Users\\\\AAA\\\\Downloads\\\\S&P_resources\\\\individual_stocks_5yr\\\\CVX_data.csv',\n",
       " 'C:\\\\Users\\\\AAA\\\\Downloads\\\\S&P_resources\\\\individual_stocks_5yr\\\\CXO_data.csv',\n",
       " 'C:\\\\Users\\\\AAA\\\\Downloads\\\\S&P_resources\\\\individual_stocks_5yr\\\\C_data.csv',\n",
       " 'C:\\\\Users\\\\AAA\\\\Downloads\\\\S&P_resources\\\\individual_stocks_5yr\\\\DAL_data.csv',\n",
       " 'C:\\\\Users\\\\AAA\\\\Downloads\\\\S&P_resources\\\\individual_stocks_5yr\\\\DE_data.csv',\n",
       " 'C:\\\\Users\\\\AAA\\\\Downloads\\\\S&P_resources\\\\individual_stocks_5yr\\\\DFS_data.csv',\n",
       " 'C:\\\\Users\\\\AAA\\\\Downloads\\\\S&P_resources\\\\individual_stocks_5yr\\\\DGX_data.csv',\n",
       " 'C:\\\\Users\\\\AAA\\\\Downloads\\\\S&P_resources\\\\individual_stocks_5yr\\\\DG_data.csv',\n",
       " 'C:\\\\Users\\\\AAA\\\\Downloads\\\\S&P_resources\\\\individual_stocks_5yr\\\\DHI_data.csv',\n",
       " 'C:\\\\Users\\\\AAA\\\\Downloads\\\\S&P_resources\\\\individual_stocks_5yr\\\\DHR_data.csv',\n",
       " 'C:\\\\Users\\\\AAA\\\\Downloads\\\\S&P_resources\\\\individual_stocks_5yr\\\\DISCA_data.csv',\n",
       " 'C:\\\\Users\\\\AAA\\\\Downloads\\\\S&P_resources\\\\individual_stocks_5yr\\\\DISCK_data.csv',\n",
       " 'C:\\\\Users\\\\AAA\\\\Downloads\\\\S&P_resources\\\\individual_stocks_5yr\\\\DISH_data.csv',\n",
       " 'C:\\\\Users\\\\AAA\\\\Downloads\\\\S&P_resources\\\\individual_stocks_5yr\\\\DIS_data.csv',\n",
       " 'C:\\\\Users\\\\AAA\\\\Downloads\\\\S&P_resources\\\\individual_stocks_5yr\\\\DLR_data.csv',\n",
       " 'C:\\\\Users\\\\AAA\\\\Downloads\\\\S&P_resources\\\\individual_stocks_5yr\\\\DLTR_data.csv',\n",
       " 'C:\\\\Users\\\\AAA\\\\Downloads\\\\S&P_resources\\\\individual_stocks_5yr\\\\DOV_data.csv',\n",
       " 'C:\\\\Users\\\\AAA\\\\Downloads\\\\S&P_resources\\\\individual_stocks_5yr\\\\DPS_data.csv',\n",
       " 'C:\\\\Users\\\\AAA\\\\Downloads\\\\S&P_resources\\\\individual_stocks_5yr\\\\DRE_data.csv',\n",
       " 'C:\\\\Users\\\\AAA\\\\Downloads\\\\S&P_resources\\\\individual_stocks_5yr\\\\DRI_data.csv',\n",
       " 'C:\\\\Users\\\\AAA\\\\Downloads\\\\S&P_resources\\\\individual_stocks_5yr\\\\DTE_data.csv',\n",
       " 'C:\\\\Users\\\\AAA\\\\Downloads\\\\S&P_resources\\\\individual_stocks_5yr\\\\DUK_data.csv',\n",
       " 'C:\\\\Users\\\\AAA\\\\Downloads\\\\S&P_resources\\\\individual_stocks_5yr\\\\DVA_data.csv',\n",
       " 'C:\\\\Users\\\\AAA\\\\Downloads\\\\S&P_resources\\\\individual_stocks_5yr\\\\DVN_data.csv',\n",
       " 'C:\\\\Users\\\\AAA\\\\Downloads\\\\S&P_resources\\\\individual_stocks_5yr\\\\DWDP_data.csv',\n",
       " 'C:\\\\Users\\\\AAA\\\\Downloads\\\\S&P_resources\\\\individual_stocks_5yr\\\\DXC_data.csv',\n",
       " 'C:\\\\Users\\\\AAA\\\\Downloads\\\\S&P_resources\\\\individual_stocks_5yr\\\\D_data.csv',\n",
       " 'C:\\\\Users\\\\AAA\\\\Downloads\\\\S&P_resources\\\\individual_stocks_5yr\\\\EA_data.csv',\n",
       " 'C:\\\\Users\\\\AAA\\\\Downloads\\\\S&P_resources\\\\individual_stocks_5yr\\\\EBAY_data.csv',\n",
       " 'C:\\\\Users\\\\AAA\\\\Downloads\\\\S&P_resources\\\\individual_stocks_5yr\\\\ECL_data.csv',\n",
       " 'C:\\\\Users\\\\AAA\\\\Downloads\\\\S&P_resources\\\\individual_stocks_5yr\\\\ED_data.csv',\n",
       " 'C:\\\\Users\\\\AAA\\\\Downloads\\\\S&P_resources\\\\individual_stocks_5yr\\\\EFX_data.csv',\n",
       " 'C:\\\\Users\\\\AAA\\\\Downloads\\\\S&P_resources\\\\individual_stocks_5yr\\\\EIX_data.csv',\n",
       " 'C:\\\\Users\\\\AAA\\\\Downloads\\\\S&P_resources\\\\individual_stocks_5yr\\\\EL_data.csv',\n",
       " 'C:\\\\Users\\\\AAA\\\\Downloads\\\\S&P_resources\\\\individual_stocks_5yr\\\\EMN_data.csv',\n",
       " 'C:\\\\Users\\\\AAA\\\\Downloads\\\\S&P_resources\\\\individual_stocks_5yr\\\\EMR_data.csv',\n",
       " 'C:\\\\Users\\\\AAA\\\\Downloads\\\\S&P_resources\\\\individual_stocks_5yr\\\\EOG_data.csv',\n",
       " 'C:\\\\Users\\\\AAA\\\\Downloads\\\\S&P_resources\\\\individual_stocks_5yr\\\\EQIX_data.csv',\n",
       " 'C:\\\\Users\\\\AAA\\\\Downloads\\\\S&P_resources\\\\individual_stocks_5yr\\\\EQR_data.csv',\n",
       " 'C:\\\\Users\\\\AAA\\\\Downloads\\\\S&P_resources\\\\individual_stocks_5yr\\\\EQT_data.csv',\n",
       " 'C:\\\\Users\\\\AAA\\\\Downloads\\\\S&P_resources\\\\individual_stocks_5yr\\\\ESRX_data.csv',\n",
       " 'C:\\\\Users\\\\AAA\\\\Downloads\\\\S&P_resources\\\\individual_stocks_5yr\\\\ESS_data.csv',\n",
       " 'C:\\\\Users\\\\AAA\\\\Downloads\\\\S&P_resources\\\\individual_stocks_5yr\\\\ES_data.csv',\n",
       " 'C:\\\\Users\\\\AAA\\\\Downloads\\\\S&P_resources\\\\individual_stocks_5yr\\\\ETFC_data.csv',\n",
       " 'C:\\\\Users\\\\AAA\\\\Downloads\\\\S&P_resources\\\\individual_stocks_5yr\\\\ETN_data.csv',\n",
       " 'C:\\\\Users\\\\AAA\\\\Downloads\\\\S&P_resources\\\\individual_stocks_5yr\\\\ETR_data.csv',\n",
       " 'C:\\\\Users\\\\AAA\\\\Downloads\\\\S&P_resources\\\\individual_stocks_5yr\\\\EVHC_data.csv',\n",
       " 'C:\\\\Users\\\\AAA\\\\Downloads\\\\S&P_resources\\\\individual_stocks_5yr\\\\EW_data.csv',\n",
       " 'C:\\\\Users\\\\AAA\\\\Downloads\\\\S&P_resources\\\\individual_stocks_5yr\\\\EXC_data.csv',\n",
       " 'C:\\\\Users\\\\AAA\\\\Downloads\\\\S&P_resources\\\\individual_stocks_5yr\\\\EXPD_data.csv',\n",
       " 'C:\\\\Users\\\\AAA\\\\Downloads\\\\S&P_resources\\\\individual_stocks_5yr\\\\EXPE_data.csv',\n",
       " 'C:\\\\Users\\\\AAA\\\\Downloads\\\\S&P_resources\\\\individual_stocks_5yr\\\\EXR_data.csv',\n",
       " 'C:\\\\Users\\\\AAA\\\\Downloads\\\\S&P_resources\\\\individual_stocks_5yr\\\\FAST_data.csv',\n",
       " 'C:\\\\Users\\\\AAA\\\\Downloads\\\\S&P_resources\\\\individual_stocks_5yr\\\\FBHS_data.csv',\n",
       " 'C:\\\\Users\\\\AAA\\\\Downloads\\\\S&P_resources\\\\individual_stocks_5yr\\\\FB_data.csv',\n",
       " 'C:\\\\Users\\\\AAA\\\\Downloads\\\\S&P_resources\\\\individual_stocks_5yr\\\\FCX_data.csv',\n",
       " 'C:\\\\Users\\\\AAA\\\\Downloads\\\\S&P_resources\\\\individual_stocks_5yr\\\\FDX_data.csv',\n",
       " 'C:\\\\Users\\\\AAA\\\\Downloads\\\\S&P_resources\\\\individual_stocks_5yr\\\\FE_data.csv',\n",
       " 'C:\\\\Users\\\\AAA\\\\Downloads\\\\S&P_resources\\\\individual_stocks_5yr\\\\FFIV_data.csv',\n",
       " 'C:\\\\Users\\\\AAA\\\\Downloads\\\\S&P_resources\\\\individual_stocks_5yr\\\\FISV_data.csv',\n",
       " 'C:\\\\Users\\\\AAA\\\\Downloads\\\\S&P_resources\\\\individual_stocks_5yr\\\\FIS_data.csv',\n",
       " 'C:\\\\Users\\\\AAA\\\\Downloads\\\\S&P_resources\\\\individual_stocks_5yr\\\\FITB_data.csv',\n",
       " 'C:\\\\Users\\\\AAA\\\\Downloads\\\\S&P_resources\\\\individual_stocks_5yr\\\\FLIR_data.csv',\n",
       " 'C:\\\\Users\\\\AAA\\\\Downloads\\\\S&P_resources\\\\individual_stocks_5yr\\\\FLR_data.csv',\n",
       " 'C:\\\\Users\\\\AAA\\\\Downloads\\\\S&P_resources\\\\individual_stocks_5yr\\\\FLS_data.csv',\n",
       " 'C:\\\\Users\\\\AAA\\\\Downloads\\\\S&P_resources\\\\individual_stocks_5yr\\\\FL_data.csv',\n",
       " 'C:\\\\Users\\\\AAA\\\\Downloads\\\\S&P_resources\\\\individual_stocks_5yr\\\\FMC_data.csv',\n",
       " 'C:\\\\Users\\\\AAA\\\\Downloads\\\\S&P_resources\\\\individual_stocks_5yr\\\\FOXA_data.csv',\n",
       " 'C:\\\\Users\\\\AAA\\\\Downloads\\\\S&P_resources\\\\individual_stocks_5yr\\\\FOX_data.csv',\n",
       " 'C:\\\\Users\\\\AAA\\\\Downloads\\\\S&P_resources\\\\individual_stocks_5yr\\\\FRT_data.csv',\n",
       " 'C:\\\\Users\\\\AAA\\\\Downloads\\\\S&P_resources\\\\individual_stocks_5yr\\\\FTI_data.csv',\n",
       " 'C:\\\\Users\\\\AAA\\\\Downloads\\\\S&P_resources\\\\individual_stocks_5yr\\\\FTV_data.csv',\n",
       " 'C:\\\\Users\\\\AAA\\\\Downloads\\\\S&P_resources\\\\individual_stocks_5yr\\\\F_data.csv',\n",
       " 'C:\\\\Users\\\\AAA\\\\Downloads\\\\S&P_resources\\\\individual_stocks_5yr\\\\GD_data.csv',\n",
       " 'C:\\\\Users\\\\AAA\\\\Downloads\\\\S&P_resources\\\\individual_stocks_5yr\\\\GE_data.csv',\n",
       " 'C:\\\\Users\\\\AAA\\\\Downloads\\\\S&P_resources\\\\individual_stocks_5yr\\\\GGP_data.csv',\n",
       " 'C:\\\\Users\\\\AAA\\\\Downloads\\\\S&P_resources\\\\individual_stocks_5yr\\\\GILD_data.csv',\n",
       " 'C:\\\\Users\\\\AAA\\\\Downloads\\\\S&P_resources\\\\individual_stocks_5yr\\\\GIS_data.csv',\n",
       " 'C:\\\\Users\\\\AAA\\\\Downloads\\\\S&P_resources\\\\individual_stocks_5yr\\\\GLW_data.csv',\n",
       " 'C:\\\\Users\\\\AAA\\\\Downloads\\\\S&P_resources\\\\individual_stocks_5yr\\\\GM_data.csv',\n",
       " 'C:\\\\Users\\\\AAA\\\\Downloads\\\\S&P_resources\\\\individual_stocks_5yr\\\\GOOGL_data.csv',\n",
       " 'C:\\\\Users\\\\AAA\\\\Downloads\\\\S&P_resources\\\\individual_stocks_5yr\\\\GOOG_data.csv',\n",
       " 'C:\\\\Users\\\\AAA\\\\Downloads\\\\S&P_resources\\\\individual_stocks_5yr\\\\GPC_data.csv',\n",
       " 'C:\\\\Users\\\\AAA\\\\Downloads\\\\S&P_resources\\\\individual_stocks_5yr\\\\GPN_data.csv',\n",
       " 'C:\\\\Users\\\\AAA\\\\Downloads\\\\S&P_resources\\\\individual_stocks_5yr\\\\GPS_data.csv',\n",
       " 'C:\\\\Users\\\\AAA\\\\Downloads\\\\S&P_resources\\\\individual_stocks_5yr\\\\GRMN_data.csv',\n",
       " 'C:\\\\Users\\\\AAA\\\\Downloads\\\\S&P_resources\\\\individual_stocks_5yr\\\\GS_data.csv',\n",
       " 'C:\\\\Users\\\\AAA\\\\Downloads\\\\S&P_resources\\\\individual_stocks_5yr\\\\GT_data.csv',\n",
       " 'C:\\\\Users\\\\AAA\\\\Downloads\\\\S&P_resources\\\\individual_stocks_5yr\\\\GWW_data.csv',\n",
       " 'C:\\\\Users\\\\AAA\\\\Downloads\\\\S&P_resources\\\\individual_stocks_5yr\\\\HAL_data.csv',\n",
       " 'C:\\\\Users\\\\AAA\\\\Downloads\\\\S&P_resources\\\\individual_stocks_5yr\\\\HAS_data.csv',\n",
       " 'C:\\\\Users\\\\AAA\\\\Downloads\\\\S&P_resources\\\\individual_stocks_5yr\\\\HBAN_data.csv',\n",
       " 'C:\\\\Users\\\\AAA\\\\Downloads\\\\S&P_resources\\\\individual_stocks_5yr\\\\HBI_data.csv',\n",
       " 'C:\\\\Users\\\\AAA\\\\Downloads\\\\S&P_resources\\\\individual_stocks_5yr\\\\HCA_data.csv',\n",
       " 'C:\\\\Users\\\\AAA\\\\Downloads\\\\S&P_resources\\\\individual_stocks_5yr\\\\HCN_data.csv',\n",
       " 'C:\\\\Users\\\\AAA\\\\Downloads\\\\S&P_resources\\\\individual_stocks_5yr\\\\HCP_data.csv',\n",
       " 'C:\\\\Users\\\\AAA\\\\Downloads\\\\S&P_resources\\\\individual_stocks_5yr\\\\HD_data.csv',\n",
       " 'C:\\\\Users\\\\AAA\\\\Downloads\\\\S&P_resources\\\\individual_stocks_5yr\\\\HES_data.csv',\n",
       " 'C:\\\\Users\\\\AAA\\\\Downloads\\\\S&P_resources\\\\individual_stocks_5yr\\\\HIG_data.csv',\n",
       " 'C:\\\\Users\\\\AAA\\\\Downloads\\\\S&P_resources\\\\individual_stocks_5yr\\\\HII_data.csv',\n",
       " 'C:\\\\Users\\\\AAA\\\\Downloads\\\\S&P_resources\\\\individual_stocks_5yr\\\\HLT_data.csv',\n",
       " 'C:\\\\Users\\\\AAA\\\\Downloads\\\\S&P_resources\\\\individual_stocks_5yr\\\\HOG_data.csv',\n",
       " 'C:\\\\Users\\\\AAA\\\\Downloads\\\\S&P_resources\\\\individual_stocks_5yr\\\\HOLX_data.csv',\n",
       " 'C:\\\\Users\\\\AAA\\\\Downloads\\\\S&P_resources\\\\individual_stocks_5yr\\\\HON_data.csv',\n",
       " 'C:\\\\Users\\\\AAA\\\\Downloads\\\\S&P_resources\\\\individual_stocks_5yr\\\\HPE_data.csv',\n",
       " 'C:\\\\Users\\\\AAA\\\\Downloads\\\\S&P_resources\\\\individual_stocks_5yr\\\\HPQ_data.csv',\n",
       " 'C:\\\\Users\\\\AAA\\\\Downloads\\\\S&P_resources\\\\individual_stocks_5yr\\\\HP_data.csv',\n",
       " 'C:\\\\Users\\\\AAA\\\\Downloads\\\\S&P_resources\\\\individual_stocks_5yr\\\\HRB_data.csv',\n",
       " 'C:\\\\Users\\\\AAA\\\\Downloads\\\\S&P_resources\\\\individual_stocks_5yr\\\\HRL_data.csv',\n",
       " 'C:\\\\Users\\\\AAA\\\\Downloads\\\\S&P_resources\\\\individual_stocks_5yr\\\\HRS_data.csv',\n",
       " 'C:\\\\Users\\\\AAA\\\\Downloads\\\\S&P_resources\\\\individual_stocks_5yr\\\\HSIC_data.csv',\n",
       " 'C:\\\\Users\\\\AAA\\\\Downloads\\\\S&P_resources\\\\individual_stocks_5yr\\\\HST_data.csv',\n",
       " 'C:\\\\Users\\\\AAA\\\\Downloads\\\\S&P_resources\\\\individual_stocks_5yr\\\\HSY_data.csv',\n",
       " 'C:\\\\Users\\\\AAA\\\\Downloads\\\\S&P_resources\\\\individual_stocks_5yr\\\\HUM_data.csv',\n",
       " 'C:\\\\Users\\\\AAA\\\\Downloads\\\\S&P_resources\\\\individual_stocks_5yr\\\\IBM_data.csv',\n",
       " 'C:\\\\Users\\\\AAA\\\\Downloads\\\\S&P_resources\\\\individual_stocks_5yr\\\\ICE_data.csv',\n",
       " 'C:\\\\Users\\\\AAA\\\\Downloads\\\\S&P_resources\\\\individual_stocks_5yr\\\\IDXX_data.csv',\n",
       " 'C:\\\\Users\\\\AAA\\\\Downloads\\\\S&P_resources\\\\individual_stocks_5yr\\\\IFF_data.csv',\n",
       " 'C:\\\\Users\\\\AAA\\\\Downloads\\\\S&P_resources\\\\individual_stocks_5yr\\\\ILMN_data.csv',\n",
       " 'C:\\\\Users\\\\AAA\\\\Downloads\\\\S&P_resources\\\\individual_stocks_5yr\\\\INCY_data.csv',\n",
       " 'C:\\\\Users\\\\AAA\\\\Downloads\\\\S&P_resources\\\\individual_stocks_5yr\\\\INFO_data.csv',\n",
       " 'C:\\\\Users\\\\AAA\\\\Downloads\\\\S&P_resources\\\\individual_stocks_5yr\\\\INTC_data.csv',\n",
       " 'C:\\\\Users\\\\AAA\\\\Downloads\\\\S&P_resources\\\\individual_stocks_5yr\\\\INTU_data.csv',\n",
       " 'C:\\\\Users\\\\AAA\\\\Downloads\\\\S&P_resources\\\\individual_stocks_5yr\\\\IPG_data.csv',\n",
       " 'C:\\\\Users\\\\AAA\\\\Downloads\\\\S&P_resources\\\\individual_stocks_5yr\\\\IP_data.csv',\n",
       " 'C:\\\\Users\\\\AAA\\\\Downloads\\\\S&P_resources\\\\individual_stocks_5yr\\\\IQV_data.csv',\n",
       " 'C:\\\\Users\\\\AAA\\\\Downloads\\\\S&P_resources\\\\individual_stocks_5yr\\\\IRM_data.csv',\n",
       " 'C:\\\\Users\\\\AAA\\\\Downloads\\\\S&P_resources\\\\individual_stocks_5yr\\\\IR_data.csv',\n",
       " 'C:\\\\Users\\\\AAA\\\\Downloads\\\\S&P_resources\\\\individual_stocks_5yr\\\\ISRG_data.csv',\n",
       " 'C:\\\\Users\\\\AAA\\\\Downloads\\\\S&P_resources\\\\individual_stocks_5yr\\\\ITW_data.csv',\n",
       " 'C:\\\\Users\\\\AAA\\\\Downloads\\\\S&P_resources\\\\individual_stocks_5yr\\\\IT_data.csv',\n",
       " 'C:\\\\Users\\\\AAA\\\\Downloads\\\\S&P_resources\\\\individual_stocks_5yr\\\\IVZ_data.csv',\n",
       " 'C:\\\\Users\\\\AAA\\\\Downloads\\\\S&P_resources\\\\individual_stocks_5yr\\\\JBHT_data.csv',\n",
       " 'C:\\\\Users\\\\AAA\\\\Downloads\\\\S&P_resources\\\\individual_stocks_5yr\\\\JCI_data.csv',\n",
       " 'C:\\\\Users\\\\AAA\\\\Downloads\\\\S&P_resources\\\\individual_stocks_5yr\\\\JEC_data.csv',\n",
       " 'C:\\\\Users\\\\AAA\\\\Downloads\\\\S&P_resources\\\\individual_stocks_5yr\\\\JNJ_data.csv',\n",
       " 'C:\\\\Users\\\\AAA\\\\Downloads\\\\S&P_resources\\\\individual_stocks_5yr\\\\JNPR_data.csv',\n",
       " 'C:\\\\Users\\\\AAA\\\\Downloads\\\\S&P_resources\\\\individual_stocks_5yr\\\\JPM_data.csv',\n",
       " 'C:\\\\Users\\\\AAA\\\\Downloads\\\\S&P_resources\\\\individual_stocks_5yr\\\\JWN_data.csv',\n",
       " 'C:\\\\Users\\\\AAA\\\\Downloads\\\\S&P_resources\\\\individual_stocks_5yr\\\\KEY_data.csv',\n",
       " 'C:\\\\Users\\\\AAA\\\\Downloads\\\\S&P_resources\\\\individual_stocks_5yr\\\\KHC_data.csv',\n",
       " 'C:\\\\Users\\\\AAA\\\\Downloads\\\\S&P_resources\\\\individual_stocks_5yr\\\\KIM_data.csv',\n",
       " 'C:\\\\Users\\\\AAA\\\\Downloads\\\\S&P_resources\\\\individual_stocks_5yr\\\\KLAC_data.csv',\n",
       " 'C:\\\\Users\\\\AAA\\\\Downloads\\\\S&P_resources\\\\individual_stocks_5yr\\\\KMB_data.csv',\n",
       " 'C:\\\\Users\\\\AAA\\\\Downloads\\\\S&P_resources\\\\individual_stocks_5yr\\\\KMI_data.csv',\n",
       " 'C:\\\\Users\\\\AAA\\\\Downloads\\\\S&P_resources\\\\individual_stocks_5yr\\\\KMX_data.csv',\n",
       " 'C:\\\\Users\\\\AAA\\\\Downloads\\\\S&P_resources\\\\individual_stocks_5yr\\\\KORS_data.csv',\n",
       " 'C:\\\\Users\\\\AAA\\\\Downloads\\\\S&P_resources\\\\individual_stocks_5yr\\\\KO_data.csv',\n",
       " 'C:\\\\Users\\\\AAA\\\\Downloads\\\\S&P_resources\\\\individual_stocks_5yr\\\\KR_data.csv',\n",
       " 'C:\\\\Users\\\\AAA\\\\Downloads\\\\S&P_resources\\\\individual_stocks_5yr\\\\KSS_data.csv',\n",
       " 'C:\\\\Users\\\\AAA\\\\Downloads\\\\S&P_resources\\\\individual_stocks_5yr\\\\KSU_data.csv',\n",
       " 'C:\\\\Users\\\\AAA\\\\Downloads\\\\S&P_resources\\\\individual_stocks_5yr\\\\K_data.csv',\n",
       " 'C:\\\\Users\\\\AAA\\\\Downloads\\\\S&P_resources\\\\individual_stocks_5yr\\\\LB_data.csv',\n",
       " 'C:\\\\Users\\\\AAA\\\\Downloads\\\\S&P_resources\\\\individual_stocks_5yr\\\\LEG_data.csv',\n",
       " 'C:\\\\Users\\\\AAA\\\\Downloads\\\\S&P_resources\\\\individual_stocks_5yr\\\\LEN_data.csv',\n",
       " 'C:\\\\Users\\\\AAA\\\\Downloads\\\\S&P_resources\\\\individual_stocks_5yr\\\\LH_data.csv',\n",
       " 'C:\\\\Users\\\\AAA\\\\Downloads\\\\S&P_resources\\\\individual_stocks_5yr\\\\LKQ_data.csv',\n",
       " 'C:\\\\Users\\\\AAA\\\\Downloads\\\\S&P_resources\\\\individual_stocks_5yr\\\\LLL_data.csv',\n",
       " 'C:\\\\Users\\\\AAA\\\\Downloads\\\\S&P_resources\\\\individual_stocks_5yr\\\\LLY_data.csv',\n",
       " 'C:\\\\Users\\\\AAA\\\\Downloads\\\\S&P_resources\\\\individual_stocks_5yr\\\\LMT_data.csv',\n",
       " 'C:\\\\Users\\\\AAA\\\\Downloads\\\\S&P_resources\\\\individual_stocks_5yr\\\\LNC_data.csv',\n",
       " 'C:\\\\Users\\\\AAA\\\\Downloads\\\\S&P_resources\\\\individual_stocks_5yr\\\\LNT_data.csv',\n",
       " 'C:\\\\Users\\\\AAA\\\\Downloads\\\\S&P_resources\\\\individual_stocks_5yr\\\\LOW_data.csv',\n",
       " 'C:\\\\Users\\\\AAA\\\\Downloads\\\\S&P_resources\\\\individual_stocks_5yr\\\\LRCX_data.csv',\n",
       " 'C:\\\\Users\\\\AAA\\\\Downloads\\\\S&P_resources\\\\individual_stocks_5yr\\\\LUK_data.csv',\n",
       " 'C:\\\\Users\\\\AAA\\\\Downloads\\\\S&P_resources\\\\individual_stocks_5yr\\\\LUV_data.csv',\n",
       " 'C:\\\\Users\\\\AAA\\\\Downloads\\\\S&P_resources\\\\individual_stocks_5yr\\\\LYB_data.csv',\n",
       " 'C:\\\\Users\\\\AAA\\\\Downloads\\\\S&P_resources\\\\individual_stocks_5yr\\\\L_data.csv',\n",
       " 'C:\\\\Users\\\\AAA\\\\Downloads\\\\S&P_resources\\\\individual_stocks_5yr\\\\MAA_data.csv',\n",
       " 'C:\\\\Users\\\\AAA\\\\Downloads\\\\S&P_resources\\\\individual_stocks_5yr\\\\MAC_data.csv',\n",
       " 'C:\\\\Users\\\\AAA\\\\Downloads\\\\S&P_resources\\\\individual_stocks_5yr\\\\MAR_data.csv',\n",
       " 'C:\\\\Users\\\\AAA\\\\Downloads\\\\S&P_resources\\\\individual_stocks_5yr\\\\MAS_data.csv',\n",
       " 'C:\\\\Users\\\\AAA\\\\Downloads\\\\S&P_resources\\\\individual_stocks_5yr\\\\MAT_data.csv',\n",
       " 'C:\\\\Users\\\\AAA\\\\Downloads\\\\S&P_resources\\\\individual_stocks_5yr\\\\MA_data.csv',\n",
       " 'C:\\\\Users\\\\AAA\\\\Downloads\\\\S&P_resources\\\\individual_stocks_5yr\\\\MCD_data.csv',\n",
       " 'C:\\\\Users\\\\AAA\\\\Downloads\\\\S&P_resources\\\\individual_stocks_5yr\\\\MCHP_data.csv',\n",
       " 'C:\\\\Users\\\\AAA\\\\Downloads\\\\S&P_resources\\\\individual_stocks_5yr\\\\MCK_data.csv',\n",
       " 'C:\\\\Users\\\\AAA\\\\Downloads\\\\S&P_resources\\\\individual_stocks_5yr\\\\MCO_data.csv',\n",
       " 'C:\\\\Users\\\\AAA\\\\Downloads\\\\S&P_resources\\\\individual_stocks_5yr\\\\MDLZ_data.csv',\n",
       " 'C:\\\\Users\\\\AAA\\\\Downloads\\\\S&P_resources\\\\individual_stocks_5yr\\\\MDT_data.csv',\n",
       " 'C:\\\\Users\\\\AAA\\\\Downloads\\\\S&P_resources\\\\individual_stocks_5yr\\\\MET_data.csv',\n",
       " 'C:\\\\Users\\\\AAA\\\\Downloads\\\\S&P_resources\\\\individual_stocks_5yr\\\\MGM_data.csv',\n",
       " 'C:\\\\Users\\\\AAA\\\\Downloads\\\\S&P_resources\\\\individual_stocks_5yr\\\\MHK_data.csv',\n",
       " 'C:\\\\Users\\\\AAA\\\\Downloads\\\\S&P_resources\\\\individual_stocks_5yr\\\\MKC_data.csv',\n",
       " 'C:\\\\Users\\\\AAA\\\\Downloads\\\\S&P_resources\\\\individual_stocks_5yr\\\\MLM_data.csv',\n",
       " 'C:\\\\Users\\\\AAA\\\\Downloads\\\\S&P_resources\\\\individual_stocks_5yr\\\\MMC_data.csv',\n",
       " 'C:\\\\Users\\\\AAA\\\\Downloads\\\\S&P_resources\\\\individual_stocks_5yr\\\\MMM_data.csv',\n",
       " 'C:\\\\Users\\\\AAA\\\\Downloads\\\\S&P_resources\\\\individual_stocks_5yr\\\\MNST_data.csv',\n",
       " 'C:\\\\Users\\\\AAA\\\\Downloads\\\\S&P_resources\\\\individual_stocks_5yr\\\\MON_data.csv',\n",
       " 'C:\\\\Users\\\\AAA\\\\Downloads\\\\S&P_resources\\\\individual_stocks_5yr\\\\MOS_data.csv',\n",
       " 'C:\\\\Users\\\\AAA\\\\Downloads\\\\S&P_resources\\\\individual_stocks_5yr\\\\MO_data.csv',\n",
       " 'C:\\\\Users\\\\AAA\\\\Downloads\\\\S&P_resources\\\\individual_stocks_5yr\\\\MPC_data.csv',\n",
       " 'C:\\\\Users\\\\AAA\\\\Downloads\\\\S&P_resources\\\\individual_stocks_5yr\\\\MRK_data.csv',\n",
       " 'C:\\\\Users\\\\AAA\\\\Downloads\\\\S&P_resources\\\\individual_stocks_5yr\\\\MRO_data.csv',\n",
       " 'C:\\\\Users\\\\AAA\\\\Downloads\\\\S&P_resources\\\\individual_stocks_5yr\\\\MSFT_data.csv',\n",
       " 'C:\\\\Users\\\\AAA\\\\Downloads\\\\S&P_resources\\\\individual_stocks_5yr\\\\MSI_data.csv',\n",
       " 'C:\\\\Users\\\\AAA\\\\Downloads\\\\S&P_resources\\\\individual_stocks_5yr\\\\MS_data.csv',\n",
       " 'C:\\\\Users\\\\AAA\\\\Downloads\\\\S&P_resources\\\\individual_stocks_5yr\\\\MTB_data.csv',\n",
       " 'C:\\\\Users\\\\AAA\\\\Downloads\\\\S&P_resources\\\\individual_stocks_5yr\\\\MTD_data.csv',\n",
       " 'C:\\\\Users\\\\AAA\\\\Downloads\\\\S&P_resources\\\\individual_stocks_5yr\\\\MU_data.csv',\n",
       " 'C:\\\\Users\\\\AAA\\\\Downloads\\\\S&P_resources\\\\individual_stocks_5yr\\\\MYL_data.csv',\n",
       " 'C:\\\\Users\\\\AAA\\\\Downloads\\\\S&P_resources\\\\individual_stocks_5yr\\\\M_data.csv',\n",
       " 'C:\\\\Users\\\\AAA\\\\Downloads\\\\S&P_resources\\\\individual_stocks_5yr\\\\NAVI_data.csv',\n",
       " 'C:\\\\Users\\\\AAA\\\\Downloads\\\\S&P_resources\\\\individual_stocks_5yr\\\\NBL_data.csv',\n",
       " 'C:\\\\Users\\\\AAA\\\\Downloads\\\\S&P_resources\\\\individual_stocks_5yr\\\\NCLH_data.csv',\n",
       " 'C:\\\\Users\\\\AAA\\\\Downloads\\\\S&P_resources\\\\individual_stocks_5yr\\\\NDAQ_data.csv',\n",
       " 'C:\\\\Users\\\\AAA\\\\Downloads\\\\S&P_resources\\\\individual_stocks_5yr\\\\NEE_data.csv',\n",
       " 'C:\\\\Users\\\\AAA\\\\Downloads\\\\S&P_resources\\\\individual_stocks_5yr\\\\NEM_data.csv',\n",
       " 'C:\\\\Users\\\\AAA\\\\Downloads\\\\S&P_resources\\\\individual_stocks_5yr\\\\NFLX_data.csv',\n",
       " 'C:\\\\Users\\\\AAA\\\\Downloads\\\\S&P_resources\\\\individual_stocks_5yr\\\\NFX_data.csv',\n",
       " 'C:\\\\Users\\\\AAA\\\\Downloads\\\\S&P_resources\\\\individual_stocks_5yr\\\\NI_data.csv',\n",
       " 'C:\\\\Users\\\\AAA\\\\Downloads\\\\S&P_resources\\\\individual_stocks_5yr\\\\NKE_data.csv',\n",
       " 'C:\\\\Users\\\\AAA\\\\Downloads\\\\S&P_resources\\\\individual_stocks_5yr\\\\NLSN_data.csv',\n",
       " 'C:\\\\Users\\\\AAA\\\\Downloads\\\\S&P_resources\\\\individual_stocks_5yr\\\\NOC_data.csv',\n",
       " 'C:\\\\Users\\\\AAA\\\\Downloads\\\\S&P_resources\\\\individual_stocks_5yr\\\\NOV_data.csv',\n",
       " 'C:\\\\Users\\\\AAA\\\\Downloads\\\\S&P_resources\\\\individual_stocks_5yr\\\\NRG_data.csv',\n",
       " 'C:\\\\Users\\\\AAA\\\\Downloads\\\\S&P_resources\\\\individual_stocks_5yr\\\\NSC_data.csv',\n",
       " 'C:\\\\Users\\\\AAA\\\\Downloads\\\\S&P_resources\\\\individual_stocks_5yr\\\\NTAP_data.csv',\n",
       " 'C:\\\\Users\\\\AAA\\\\Downloads\\\\S&P_resources\\\\individual_stocks_5yr\\\\NTRS_data.csv',\n",
       " 'C:\\\\Users\\\\AAA\\\\Downloads\\\\S&P_resources\\\\individual_stocks_5yr\\\\NUE_data.csv',\n",
       " 'C:\\\\Users\\\\AAA\\\\Downloads\\\\S&P_resources\\\\individual_stocks_5yr\\\\NVDA_data.csv',\n",
       " 'C:\\\\Users\\\\AAA\\\\Downloads\\\\S&P_resources\\\\individual_stocks_5yr\\\\NWL_data.csv',\n",
       " 'C:\\\\Users\\\\AAA\\\\Downloads\\\\S&P_resources\\\\individual_stocks_5yr\\\\NWSA_data.csv',\n",
       " 'C:\\\\Users\\\\AAA\\\\Downloads\\\\S&P_resources\\\\individual_stocks_5yr\\\\NWS_data.csv',\n",
       " 'C:\\\\Users\\\\AAA\\\\Downloads\\\\S&P_resources\\\\individual_stocks_5yr\\\\OKE_data.csv',\n",
       " 'C:\\\\Users\\\\AAA\\\\Downloads\\\\S&P_resources\\\\individual_stocks_5yr\\\\OMC_data.csv',\n",
       " 'C:\\\\Users\\\\AAA\\\\Downloads\\\\S&P_resources\\\\individual_stocks_5yr\\\\ORCL_data.csv',\n",
       " 'C:\\\\Users\\\\AAA\\\\Downloads\\\\S&P_resources\\\\individual_stocks_5yr\\\\ORLY_data.csv',\n",
       " 'C:\\\\Users\\\\AAA\\\\Downloads\\\\S&P_resources\\\\individual_stocks_5yr\\\\OXY_data.csv',\n",
       " 'C:\\\\Users\\\\AAA\\\\Downloads\\\\S&P_resources\\\\individual_stocks_5yr\\\\O_data.csv',\n",
       " 'C:\\\\Users\\\\AAA\\\\Downloads\\\\S&P_resources\\\\individual_stocks_5yr\\\\PAYX_data.csv',\n",
       " 'C:\\\\Users\\\\AAA\\\\Downloads\\\\S&P_resources\\\\individual_stocks_5yr\\\\PBCT_data.csv',\n",
       " 'C:\\\\Users\\\\AAA\\\\Downloads\\\\S&P_resources\\\\individual_stocks_5yr\\\\PCAR_data.csv',\n",
       " 'C:\\\\Users\\\\AAA\\\\Downloads\\\\S&P_resources\\\\individual_stocks_5yr\\\\PCG_data.csv',\n",
       " 'C:\\\\Users\\\\AAA\\\\Downloads\\\\S&P_resources\\\\individual_stocks_5yr\\\\PCLN_data.csv',\n",
       " 'C:\\\\Users\\\\AAA\\\\Downloads\\\\S&P_resources\\\\individual_stocks_5yr\\\\PDCO_data.csv',\n",
       " 'C:\\\\Users\\\\AAA\\\\Downloads\\\\S&P_resources\\\\individual_stocks_5yr\\\\PEG_data.csv',\n",
       " 'C:\\\\Users\\\\AAA\\\\Downloads\\\\S&P_resources\\\\individual_stocks_5yr\\\\PEP_data.csv',\n",
       " 'C:\\\\Users\\\\AAA\\\\Downloads\\\\S&P_resources\\\\individual_stocks_5yr\\\\PFE_data.csv',\n",
       " 'C:\\\\Users\\\\AAA\\\\Downloads\\\\S&P_resources\\\\individual_stocks_5yr\\\\PFG_data.csv',\n",
       " 'C:\\\\Users\\\\AAA\\\\Downloads\\\\S&P_resources\\\\individual_stocks_5yr\\\\PGR_data.csv',\n",
       " 'C:\\\\Users\\\\AAA\\\\Downloads\\\\S&P_resources\\\\individual_stocks_5yr\\\\PG_data.csv',\n",
       " 'C:\\\\Users\\\\AAA\\\\Downloads\\\\S&P_resources\\\\individual_stocks_5yr\\\\PHM_data.csv',\n",
       " 'C:\\\\Users\\\\AAA\\\\Downloads\\\\S&P_resources\\\\individual_stocks_5yr\\\\PH_data.csv',\n",
       " 'C:\\\\Users\\\\AAA\\\\Downloads\\\\S&P_resources\\\\individual_stocks_5yr\\\\PKG_data.csv',\n",
       " 'C:\\\\Users\\\\AAA\\\\Downloads\\\\S&P_resources\\\\individual_stocks_5yr\\\\PKI_data.csv',\n",
       " 'C:\\\\Users\\\\AAA\\\\Downloads\\\\S&P_resources\\\\individual_stocks_5yr\\\\PLD_data.csv',\n",
       " 'C:\\\\Users\\\\AAA\\\\Downloads\\\\S&P_resources\\\\individual_stocks_5yr\\\\PM_data.csv',\n",
       " 'C:\\\\Users\\\\AAA\\\\Downloads\\\\S&P_resources\\\\individual_stocks_5yr\\\\PNC_data.csv',\n",
       " 'C:\\\\Users\\\\AAA\\\\Downloads\\\\S&P_resources\\\\individual_stocks_5yr\\\\PNR_data.csv',\n",
       " 'C:\\\\Users\\\\AAA\\\\Downloads\\\\S&P_resources\\\\individual_stocks_5yr\\\\PNW_data.csv',\n",
       " 'C:\\\\Users\\\\AAA\\\\Downloads\\\\S&P_resources\\\\individual_stocks_5yr\\\\PPG_data.csv',\n",
       " 'C:\\\\Users\\\\AAA\\\\Downloads\\\\S&P_resources\\\\individual_stocks_5yr\\\\PPL_data.csv',\n",
       " 'C:\\\\Users\\\\AAA\\\\Downloads\\\\S&P_resources\\\\individual_stocks_5yr\\\\PRGO_data.csv',\n",
       " 'C:\\\\Users\\\\AAA\\\\Downloads\\\\S&P_resources\\\\individual_stocks_5yr\\\\PRU_data.csv',\n",
       " 'C:\\\\Users\\\\AAA\\\\Downloads\\\\S&P_resources\\\\individual_stocks_5yr\\\\PSA_data.csv',\n",
       " 'C:\\\\Users\\\\AAA\\\\Downloads\\\\S&P_resources\\\\individual_stocks_5yr\\\\PSX_data.csv',\n",
       " 'C:\\\\Users\\\\AAA\\\\Downloads\\\\S&P_resources\\\\individual_stocks_5yr\\\\PVH_data.csv',\n",
       " 'C:\\\\Users\\\\AAA\\\\Downloads\\\\S&P_resources\\\\individual_stocks_5yr\\\\PWR_data.csv',\n",
       " 'C:\\\\Users\\\\AAA\\\\Downloads\\\\S&P_resources\\\\individual_stocks_5yr\\\\PXD_data.csv',\n",
       " 'C:\\\\Users\\\\AAA\\\\Downloads\\\\S&P_resources\\\\individual_stocks_5yr\\\\PX_data.csv',\n",
       " 'C:\\\\Users\\\\AAA\\\\Downloads\\\\S&P_resources\\\\individual_stocks_5yr\\\\PYPL_data.csv',\n",
       " 'C:\\\\Users\\\\AAA\\\\Downloads\\\\S&P_resources\\\\individual_stocks_5yr\\\\QCOM_data.csv',\n",
       " 'C:\\\\Users\\\\AAA\\\\Downloads\\\\S&P_resources\\\\individual_stocks_5yr\\\\QRVO_data.csv',\n",
       " 'C:\\\\Users\\\\AAA\\\\Downloads\\\\S&P_resources\\\\individual_stocks_5yr\\\\RCL_data.csv',\n",
       " 'C:\\\\Users\\\\AAA\\\\Downloads\\\\S&P_resources\\\\individual_stocks_5yr\\\\REGN_data.csv',\n",
       " 'C:\\\\Users\\\\AAA\\\\Downloads\\\\S&P_resources\\\\individual_stocks_5yr\\\\REG_data.csv',\n",
       " 'C:\\\\Users\\\\AAA\\\\Downloads\\\\S&P_resources\\\\individual_stocks_5yr\\\\RE_data.csv',\n",
       " 'C:\\\\Users\\\\AAA\\\\Downloads\\\\S&P_resources\\\\individual_stocks_5yr\\\\RF_data.csv',\n",
       " 'C:\\\\Users\\\\AAA\\\\Downloads\\\\S&P_resources\\\\individual_stocks_5yr\\\\RHI_data.csv',\n",
       " 'C:\\\\Users\\\\AAA\\\\Downloads\\\\S&P_resources\\\\individual_stocks_5yr\\\\RHT_data.csv',\n",
       " 'C:\\\\Users\\\\AAA\\\\Downloads\\\\S&P_resources\\\\individual_stocks_5yr\\\\RJF_data.csv',\n",
       " 'C:\\\\Users\\\\AAA\\\\Downloads\\\\S&P_resources\\\\individual_stocks_5yr\\\\RL_data.csv',\n",
       " 'C:\\\\Users\\\\AAA\\\\Downloads\\\\S&P_resources\\\\individual_stocks_5yr\\\\RMD_data.csv',\n",
       " 'C:\\\\Users\\\\AAA\\\\Downloads\\\\S&P_resources\\\\individual_stocks_5yr\\\\ROK_data.csv',\n",
       " 'C:\\\\Users\\\\AAA\\\\Downloads\\\\S&P_resources\\\\individual_stocks_5yr\\\\ROP_data.csv',\n",
       " 'C:\\\\Users\\\\AAA\\\\Downloads\\\\S&P_resources\\\\individual_stocks_5yr\\\\ROST_data.csv',\n",
       " 'C:\\\\Users\\\\AAA\\\\Downloads\\\\S&P_resources\\\\individual_stocks_5yr\\\\RRC_data.csv',\n",
       " 'C:\\\\Users\\\\AAA\\\\Downloads\\\\S&P_resources\\\\individual_stocks_5yr\\\\RSG_data.csv',\n",
       " 'C:\\\\Users\\\\AAA\\\\Downloads\\\\S&P_resources\\\\individual_stocks_5yr\\\\RTN_data.csv',\n",
       " 'C:\\\\Users\\\\AAA\\\\Downloads\\\\S&P_resources\\\\individual_stocks_5yr\\\\SBAC_data.csv',\n",
       " 'C:\\\\Users\\\\AAA\\\\Downloads\\\\S&P_resources\\\\individual_stocks_5yr\\\\SBUX_data.csv',\n",
       " 'C:\\\\Users\\\\AAA\\\\Downloads\\\\S&P_resources\\\\individual_stocks_5yr\\\\SCG_data.csv',\n",
       " 'C:\\\\Users\\\\AAA\\\\Downloads\\\\S&P_resources\\\\individual_stocks_5yr\\\\SCHW_data.csv',\n",
       " 'C:\\\\Users\\\\AAA\\\\Downloads\\\\S&P_resources\\\\individual_stocks_5yr\\\\SEE_data.csv',\n",
       " 'C:\\\\Users\\\\AAA\\\\Downloads\\\\S&P_resources\\\\individual_stocks_5yr\\\\SHW_data.csv',\n",
       " 'C:\\\\Users\\\\AAA\\\\Downloads\\\\S&P_resources\\\\individual_stocks_5yr\\\\SIG_data.csv',\n",
       " 'C:\\\\Users\\\\AAA\\\\Downloads\\\\S&P_resources\\\\individual_stocks_5yr\\\\SJM_data.csv',\n",
       " 'C:\\\\Users\\\\AAA\\\\Downloads\\\\S&P_resources\\\\individual_stocks_5yr\\\\SLB_data.csv',\n",
       " 'C:\\\\Users\\\\AAA\\\\Downloads\\\\S&P_resources\\\\individual_stocks_5yr\\\\SLG_data.csv',\n",
       " 'C:\\\\Users\\\\AAA\\\\Downloads\\\\S&P_resources\\\\individual_stocks_5yr\\\\SNA_data.csv',\n",
       " 'C:\\\\Users\\\\AAA\\\\Downloads\\\\S&P_resources\\\\individual_stocks_5yr\\\\SNI_data.csv',\n",
       " 'C:\\\\Users\\\\AAA\\\\Downloads\\\\S&P_resources\\\\individual_stocks_5yr\\\\SNPS_data.csv',\n",
       " 'C:\\\\Users\\\\AAA\\\\Downloads\\\\S&P_resources\\\\individual_stocks_5yr\\\\SO_data.csv',\n",
       " 'C:\\\\Users\\\\AAA\\\\Downloads\\\\S&P_resources\\\\individual_stocks_5yr\\\\SPGI_data.csv',\n",
       " 'C:\\\\Users\\\\AAA\\\\Downloads\\\\S&P_resources\\\\individual_stocks_5yr\\\\SPG_data.csv',\n",
       " 'C:\\\\Users\\\\AAA\\\\Downloads\\\\S&P_resources\\\\individual_stocks_5yr\\\\SRCL_data.csv',\n",
       " 'C:\\\\Users\\\\AAA\\\\Downloads\\\\S&P_resources\\\\individual_stocks_5yr\\\\SRE_data.csv',\n",
       " 'C:\\\\Users\\\\AAA\\\\Downloads\\\\S&P_resources\\\\individual_stocks_5yr\\\\STI_data.csv',\n",
       " 'C:\\\\Users\\\\AAA\\\\Downloads\\\\S&P_resources\\\\individual_stocks_5yr\\\\STT_data.csv',\n",
       " 'C:\\\\Users\\\\AAA\\\\Downloads\\\\S&P_resources\\\\individual_stocks_5yr\\\\STX_data.csv',\n",
       " 'C:\\\\Users\\\\AAA\\\\Downloads\\\\S&P_resources\\\\individual_stocks_5yr\\\\STZ_data.csv',\n",
       " 'C:\\\\Users\\\\AAA\\\\Downloads\\\\S&P_resources\\\\individual_stocks_5yr\\\\SWKS_data.csv',\n",
       " 'C:\\\\Users\\\\AAA\\\\Downloads\\\\S&P_resources\\\\individual_stocks_5yr\\\\SWK_data.csv',\n",
       " 'C:\\\\Users\\\\AAA\\\\Downloads\\\\S&P_resources\\\\individual_stocks_5yr\\\\SYF_data.csv',\n",
       " 'C:\\\\Users\\\\AAA\\\\Downloads\\\\S&P_resources\\\\individual_stocks_5yr\\\\SYK_data.csv',\n",
       " 'C:\\\\Users\\\\AAA\\\\Downloads\\\\S&P_resources\\\\individual_stocks_5yr\\\\SYMC_data.csv',\n",
       " 'C:\\\\Users\\\\AAA\\\\Downloads\\\\S&P_resources\\\\individual_stocks_5yr\\\\SYY_data.csv',\n",
       " 'C:\\\\Users\\\\AAA\\\\Downloads\\\\S&P_resources\\\\individual_stocks_5yr\\\\TAP_data.csv',\n",
       " 'C:\\\\Users\\\\AAA\\\\Downloads\\\\S&P_resources\\\\individual_stocks_5yr\\\\TDG_data.csv',\n",
       " 'C:\\\\Users\\\\AAA\\\\Downloads\\\\S&P_resources\\\\individual_stocks_5yr\\\\TEL_data.csv',\n",
       " 'C:\\\\Users\\\\AAA\\\\Downloads\\\\S&P_resources\\\\individual_stocks_5yr\\\\TGT_data.csv',\n",
       " 'C:\\\\Users\\\\AAA\\\\Downloads\\\\S&P_resources\\\\individual_stocks_5yr\\\\TIF_data.csv',\n",
       " 'C:\\\\Users\\\\AAA\\\\Downloads\\\\S&P_resources\\\\individual_stocks_5yr\\\\TJX_data.csv',\n",
       " 'C:\\\\Users\\\\AAA\\\\Downloads\\\\S&P_resources\\\\individual_stocks_5yr\\\\TMK_data.csv',\n",
       " 'C:\\\\Users\\\\AAA\\\\Downloads\\\\S&P_resources\\\\individual_stocks_5yr\\\\TMO_data.csv',\n",
       " 'C:\\\\Users\\\\AAA\\\\Downloads\\\\S&P_resources\\\\individual_stocks_5yr\\\\TPR_data.csv',\n",
       " 'C:\\\\Users\\\\AAA\\\\Downloads\\\\S&P_resources\\\\individual_stocks_5yr\\\\TRIP_data.csv',\n",
       " 'C:\\\\Users\\\\AAA\\\\Downloads\\\\S&P_resources\\\\individual_stocks_5yr\\\\TROW_data.csv',\n",
       " 'C:\\\\Users\\\\AAA\\\\Downloads\\\\S&P_resources\\\\individual_stocks_5yr\\\\TRV_data.csv',\n",
       " 'C:\\\\Users\\\\AAA\\\\Downloads\\\\S&P_resources\\\\individual_stocks_5yr\\\\TSCO_data.csv',\n",
       " 'C:\\\\Users\\\\AAA\\\\Downloads\\\\S&P_resources\\\\individual_stocks_5yr\\\\TSN_data.csv',\n",
       " 'C:\\\\Users\\\\AAA\\\\Downloads\\\\S&P_resources\\\\individual_stocks_5yr\\\\TSS_data.csv',\n",
       " 'C:\\\\Users\\\\AAA\\\\Downloads\\\\S&P_resources\\\\individual_stocks_5yr\\\\TWX_data.csv',\n",
       " 'C:\\\\Users\\\\AAA\\\\Downloads\\\\S&P_resources\\\\individual_stocks_5yr\\\\TXN_data.csv',\n",
       " 'C:\\\\Users\\\\AAA\\\\Downloads\\\\S&P_resources\\\\individual_stocks_5yr\\\\TXT_data.csv',\n",
       " 'C:\\\\Users\\\\AAA\\\\Downloads\\\\S&P_resources\\\\individual_stocks_5yr\\\\T_data.csv',\n",
       " 'C:\\\\Users\\\\AAA\\\\Downloads\\\\S&P_resources\\\\individual_stocks_5yr\\\\UAA_data.csv',\n",
       " 'C:\\\\Users\\\\AAA\\\\Downloads\\\\S&P_resources\\\\individual_stocks_5yr\\\\UAL_data.csv',\n",
       " 'C:\\\\Users\\\\AAA\\\\Downloads\\\\S&P_resources\\\\individual_stocks_5yr\\\\UA_data.csv',\n",
       " 'C:\\\\Users\\\\AAA\\\\Downloads\\\\S&P_resources\\\\individual_stocks_5yr\\\\UDR_data.csv',\n",
       " 'C:\\\\Users\\\\AAA\\\\Downloads\\\\S&P_resources\\\\individual_stocks_5yr\\\\UHS_data.csv',\n",
       " 'C:\\\\Users\\\\AAA\\\\Downloads\\\\S&P_resources\\\\individual_stocks_5yr\\\\ULTA_data.csv',\n",
       " 'C:\\\\Users\\\\AAA\\\\Downloads\\\\S&P_resources\\\\individual_stocks_5yr\\\\UNH_data.csv',\n",
       " 'C:\\\\Users\\\\AAA\\\\Downloads\\\\S&P_resources\\\\individual_stocks_5yr\\\\UNM_data.csv',\n",
       " 'C:\\\\Users\\\\AAA\\\\Downloads\\\\S&P_resources\\\\individual_stocks_5yr\\\\UNP_data.csv',\n",
       " 'C:\\\\Users\\\\AAA\\\\Downloads\\\\S&P_resources\\\\individual_stocks_5yr\\\\UPS_data.csv',\n",
       " 'C:\\\\Users\\\\AAA\\\\Downloads\\\\S&P_resources\\\\individual_stocks_5yr\\\\URI_data.csv',\n",
       " 'C:\\\\Users\\\\AAA\\\\Downloads\\\\S&P_resources\\\\individual_stocks_5yr\\\\USB_data.csv',\n",
       " 'C:\\\\Users\\\\AAA\\\\Downloads\\\\S&P_resources\\\\individual_stocks_5yr\\\\UTX_data.csv',\n",
       " 'C:\\\\Users\\\\AAA\\\\Downloads\\\\S&P_resources\\\\individual_stocks_5yr\\\\VAR_data.csv',\n",
       " 'C:\\\\Users\\\\AAA\\\\Downloads\\\\S&P_resources\\\\individual_stocks_5yr\\\\VFC_data.csv',\n",
       " 'C:\\\\Users\\\\AAA\\\\Downloads\\\\S&P_resources\\\\individual_stocks_5yr\\\\VIAB_data.csv',\n",
       " 'C:\\\\Users\\\\AAA\\\\Downloads\\\\S&P_resources\\\\individual_stocks_5yr\\\\VLO_data.csv',\n",
       " 'C:\\\\Users\\\\AAA\\\\Downloads\\\\S&P_resources\\\\individual_stocks_5yr\\\\VMC_data.csv',\n",
       " 'C:\\\\Users\\\\AAA\\\\Downloads\\\\S&P_resources\\\\individual_stocks_5yr\\\\VNO_data.csv',\n",
       " 'C:\\\\Users\\\\AAA\\\\Downloads\\\\S&P_resources\\\\individual_stocks_5yr\\\\VRSK_data.csv',\n",
       " 'C:\\\\Users\\\\AAA\\\\Downloads\\\\S&P_resources\\\\individual_stocks_5yr\\\\VRSN_data.csv',\n",
       " 'C:\\\\Users\\\\AAA\\\\Downloads\\\\S&P_resources\\\\individual_stocks_5yr\\\\VRTX_data.csv',\n",
       " 'C:\\\\Users\\\\AAA\\\\Downloads\\\\S&P_resources\\\\individual_stocks_5yr\\\\VTR_data.csv',\n",
       " 'C:\\\\Users\\\\AAA\\\\Downloads\\\\S&P_resources\\\\individual_stocks_5yr\\\\VZ_data.csv',\n",
       " 'C:\\\\Users\\\\AAA\\\\Downloads\\\\S&P_resources\\\\individual_stocks_5yr\\\\V_data.csv',\n",
       " 'C:\\\\Users\\\\AAA\\\\Downloads\\\\S&P_resources\\\\individual_stocks_5yr\\\\WAT_data.csv',\n",
       " 'C:\\\\Users\\\\AAA\\\\Downloads\\\\S&P_resources\\\\individual_stocks_5yr\\\\WBA_data.csv',\n",
       " 'C:\\\\Users\\\\AAA\\\\Downloads\\\\S&P_resources\\\\individual_stocks_5yr\\\\WDC_data.csv',\n",
       " 'C:\\\\Users\\\\AAA\\\\Downloads\\\\S&P_resources\\\\individual_stocks_5yr\\\\WEC_data.csv',\n",
       " 'C:\\\\Users\\\\AAA\\\\Downloads\\\\S&P_resources\\\\individual_stocks_5yr\\\\WFC_data.csv',\n",
       " 'C:\\\\Users\\\\AAA\\\\Downloads\\\\S&P_resources\\\\individual_stocks_5yr\\\\WHR_data.csv',\n",
       " 'C:\\\\Users\\\\AAA\\\\Downloads\\\\S&P_resources\\\\individual_stocks_5yr\\\\WLTW_data.csv',\n",
       " 'C:\\\\Users\\\\AAA\\\\Downloads\\\\S&P_resources\\\\individual_stocks_5yr\\\\WMB_data.csv',\n",
       " 'C:\\\\Users\\\\AAA\\\\Downloads\\\\S&P_resources\\\\individual_stocks_5yr\\\\WMT_data.csv',\n",
       " 'C:\\\\Users\\\\AAA\\\\Downloads\\\\S&P_resources\\\\individual_stocks_5yr\\\\WM_data.csv',\n",
       " 'C:\\\\Users\\\\AAA\\\\Downloads\\\\S&P_resources\\\\individual_stocks_5yr\\\\WRK_data.csv',\n",
       " 'C:\\\\Users\\\\AAA\\\\Downloads\\\\S&P_resources\\\\individual_stocks_5yr\\\\WU_data.csv',\n",
       " 'C:\\\\Users\\\\AAA\\\\Downloads\\\\S&P_resources\\\\individual_stocks_5yr\\\\WYNN_data.csv',\n",
       " 'C:\\\\Users\\\\AAA\\\\Downloads\\\\S&P_resources\\\\individual_stocks_5yr\\\\WYN_data.csv',\n",
       " 'C:\\\\Users\\\\AAA\\\\Downloads\\\\S&P_resources\\\\individual_stocks_5yr\\\\WY_data.csv',\n",
       " 'C:\\\\Users\\\\AAA\\\\Downloads\\\\S&P_resources\\\\individual_stocks_5yr\\\\XEC_data.csv',\n",
       " 'C:\\\\Users\\\\AAA\\\\Downloads\\\\S&P_resources\\\\individual_stocks_5yr\\\\XEL_data.csv',\n",
       " 'C:\\\\Users\\\\AAA\\\\Downloads\\\\S&P_resources\\\\individual_stocks_5yr\\\\XLNX_data.csv',\n",
       " 'C:\\\\Users\\\\AAA\\\\Downloads\\\\S&P_resources\\\\individual_stocks_5yr\\\\XL_data.csv',\n",
       " 'C:\\\\Users\\\\AAA\\\\Downloads\\\\S&P_resources\\\\individual_stocks_5yr\\\\XOM_data.csv',\n",
       " 'C:\\\\Users\\\\AAA\\\\Downloads\\\\S&P_resources\\\\individual_stocks_5yr\\\\XRAY_data.csv',\n",
       " 'C:\\\\Users\\\\AAA\\\\Downloads\\\\S&P_resources\\\\individual_stocks_5yr\\\\XRX_data.csv',\n",
       " 'C:\\\\Users\\\\AAA\\\\Downloads\\\\S&P_resources\\\\individual_stocks_5yr\\\\XYL_data.csv',\n",
       " 'C:\\\\Users\\\\AAA\\\\Downloads\\\\S&P_resources\\\\individual_stocks_5yr\\\\YUM_data.csv',\n",
       " 'C:\\\\Users\\\\AAA\\\\Downloads\\\\S&P_resources\\\\individual_stocks_5yr\\\\ZBH_data.csv',\n",
       " 'C:\\\\Users\\\\AAA\\\\Downloads\\\\S&P_resources\\\\individual_stocks_5yr\\\\ZION_data.csv',\n",
       " 'C:\\\\Users\\\\AAA\\\\Downloads\\\\S&P_resources\\\\individual_stocks_5yr\\\\ZTS_data.csv']"
      ]
     },
     "execution_count": 2,
     "metadata": {},
     "output_type": "execute_result"
    }
   ],
   "source": [
    "glob.glob(r\"C:\\Users\\AAA\\Downloads\\S&P_resources\\individual_stocks_5yr/*csv\")"
   ]
  },
  {
   "cell_type": "code",
   "execution_count": 3,
   "id": "adeb4ce6",
   "metadata": {},
   "outputs": [
    {
     "data": {
      "text/plain": [
       "505"
      ]
     },
     "execution_count": 3,
     "metadata": {},
     "output_type": "execute_result"
    }
   ],
   "source": [
    "#number of csv files\n",
    "len(glob.glob(r\"C:\\Users\\AAA\\Downloads\\S&P_resources\\individual_stocks_5yr/*csv\"))"
   ]
  },
  {
   "cell_type": "code",
   "execution_count": 4,
   "id": "3a28ae71",
   "metadata": {},
   "outputs": [],
   "source": [
    "#analysing stocks of 4 Big Tech companies: Apple, Amazon, Google, Microsoft\n",
    "company_list = [\n",
    "    r'C:\\\\Users\\\\AAA\\\\Downloads\\\\S&P_resources\\\\individual_stocks_5yr\\\\AAPL_data.csv',\n",
    "    r'C:\\\\Users\\\\AAA\\\\Downloads\\\\S&P_resources\\\\individual_stocks_5yr\\\\AMZN_data.csv',\n",
    "    r'C:\\\\Users\\\\AAA\\\\Downloads\\\\S&P_resources\\\\individual_stocks_5yr\\\\GOOG_data.csv',\n",
    "    r'C:\\\\Users\\\\AAA\\\\Downloads\\\\S&P_resources\\\\individual_stocks_5yr\\\\MSFT_data.csv',\n",
    "]"
   ]
  },
  {
   "cell_type": "code",
   "execution_count": 5,
   "id": "bd7dc0f3",
   "metadata": {},
   "outputs": [],
   "source": [
    "all_data = pd.DataFrame()\n",
    "\n",
    "for file in company_list:\n",
    "    \n",
    "    current_df = pd.read_csv(file)\n",
    "    all_data = pd.concat([current_df, all_data] , ignore_index=True)"
   ]
  },
  {
   "cell_type": "markdown",
   "id": "4fca544a",
   "metadata": {},
   "source": [
    "## 3. Exploratory Data Analysis:"
   ]
  },
  {
   "cell_type": "code",
   "execution_count": 6,
   "id": "39e88779",
   "metadata": {},
   "outputs": [
    {
     "data": {
      "text/plain": [
       "(4752, 7)"
      ]
     },
     "execution_count": 6,
     "metadata": {},
     "output_type": "execute_result"
    }
   ],
   "source": [
    "all_data.shape\n"
   ]
  },
  {
   "cell_type": "code",
   "execution_count": 7,
   "id": "a3a64840",
   "metadata": {},
   "outputs": [
    {
     "name": "stdout",
     "output_type": "stream",
     "text": [
      "<class 'pandas.core.frame.DataFrame'>\n",
      "RangeIndex: 4752 entries, 0 to 4751\n",
      "Data columns (total 7 columns):\n",
      " #   Column  Non-Null Count  Dtype  \n",
      "---  ------  --------------  -----  \n",
      " 0   date    4752 non-null   object \n",
      " 1   open    4752 non-null   float64\n",
      " 2   high    4752 non-null   float64\n",
      " 3   low     4752 non-null   float64\n",
      " 4   close   4752 non-null   float64\n",
      " 5   volume  4752 non-null   int64  \n",
      " 6   Name    4752 non-null   object \n",
      "dtypes: float64(4), int64(1), object(2)\n",
      "memory usage: 260.0+ KB\n"
     ]
    }
   ],
   "source": [
    "all_data.info()"
   ]
  },
  {
   "cell_type": "code",
   "execution_count": 8,
   "id": "c0e0435f",
   "metadata": {},
   "outputs": [
    {
     "data": {
      "text/plain": [
       "array([dtype('O'), dtype('float64'), dtype('int64')], dtype=object)"
      ]
     },
     "execution_count": 8,
     "metadata": {},
     "output_type": "execute_result"
    }
   ],
   "source": [
    "all_data.dtypes.unique()"
   ]
  },
  {
   "cell_type": "code",
   "execution_count": 9,
   "id": "05df3db8",
   "metadata": {},
   "outputs": [
    {
     "data": {
      "text/plain": [
       "Index(['date', 'open', 'high', 'low', 'close', 'volume', 'Name'], dtype='object')"
      ]
     },
     "execution_count": 9,
     "metadata": {},
     "output_type": "execute_result"
    }
   ],
   "source": [
    "all_data.columns"
   ]
  },
  {
   "cell_type": "code",
   "execution_count": 70,
   "id": "e4b2554a",
   "metadata": {},
   "outputs": [
    {
     "data": {
      "text/html": [
       "<div>\n",
       "<style scoped>\n",
       "    .dataframe tbody tr th:only-of-type {\n",
       "        vertical-align: middle;\n",
       "    }\n",
       "\n",
       "    .dataframe tbody tr th {\n",
       "        vertical-align: top;\n",
       "    }\n",
       "\n",
       "    .dataframe thead th {\n",
       "        text-align: right;\n",
       "    }\n",
       "</style>\n",
       "<table border=\"1\" class=\"dataframe\">\n",
       "  <thead>\n",
       "    <tr style=\"text-align: right;\">\n",
       "      <th></th>\n",
       "      <th>date</th>\n",
       "      <th>open</th>\n",
       "      <th>high</th>\n",
       "      <th>low</th>\n",
       "      <th>close</th>\n",
       "      <th>volume</th>\n",
       "      <th>Name</th>\n",
       "    </tr>\n",
       "  </thead>\n",
       "  <tbody>\n",
       "    <tr>\n",
       "      <th>0</th>\n",
       "      <td>2013-02-08</td>\n",
       "      <td>27.35</td>\n",
       "      <td>27.71</td>\n",
       "      <td>27.310</td>\n",
       "      <td>27.55</td>\n",
       "      <td>33318306</td>\n",
       "      <td>MSFT</td>\n",
       "    </tr>\n",
       "    <tr>\n",
       "      <th>1</th>\n",
       "      <td>2013-02-11</td>\n",
       "      <td>27.65</td>\n",
       "      <td>27.92</td>\n",
       "      <td>27.500</td>\n",
       "      <td>27.86</td>\n",
       "      <td>32247549</td>\n",
       "      <td>MSFT</td>\n",
       "    </tr>\n",
       "    <tr>\n",
       "      <th>2</th>\n",
       "      <td>2013-02-12</td>\n",
       "      <td>27.88</td>\n",
       "      <td>28.00</td>\n",
       "      <td>27.750</td>\n",
       "      <td>27.88</td>\n",
       "      <td>35990829</td>\n",
       "      <td>MSFT</td>\n",
       "    </tr>\n",
       "    <tr>\n",
       "      <th>3</th>\n",
       "      <td>2013-02-13</td>\n",
       "      <td>27.93</td>\n",
       "      <td>28.11</td>\n",
       "      <td>27.880</td>\n",
       "      <td>28.03</td>\n",
       "      <td>41715530</td>\n",
       "      <td>MSFT</td>\n",
       "    </tr>\n",
       "    <tr>\n",
       "      <th>4</th>\n",
       "      <td>2013-02-14</td>\n",
       "      <td>27.92</td>\n",
       "      <td>28.06</td>\n",
       "      <td>27.870</td>\n",
       "      <td>28.04</td>\n",
       "      <td>32663174</td>\n",
       "      <td>MSFT</td>\n",
       "    </tr>\n",
       "    <tr>\n",
       "      <th>5</th>\n",
       "      <td>2013-02-15</td>\n",
       "      <td>28.04</td>\n",
       "      <td>28.16</td>\n",
       "      <td>27.875</td>\n",
       "      <td>28.01</td>\n",
       "      <td>49650538</td>\n",
       "      <td>MSFT</td>\n",
       "    </tr>\n",
       "  </tbody>\n",
       "</table>\n",
       "</div>"
      ],
      "text/plain": [
       "        date   open   high     low  close    volume  Name\n",
       "0 2013-02-08  27.35  27.71  27.310  27.55  33318306  MSFT\n",
       "1 2013-02-11  27.65  27.92  27.500  27.86  32247549  MSFT\n",
       "2 2013-02-12  27.88  28.00  27.750  27.88  35990829  MSFT\n",
       "3 2013-02-13  27.93  28.11  27.880  28.03  41715530  MSFT\n",
       "4 2013-02-14  27.92  28.06  27.870  28.04  32663174  MSFT\n",
       "5 2013-02-15  28.04  28.16  27.875  28.01  49650538  MSFT"
      ]
     },
     "execution_count": 70,
     "metadata": {},
     "output_type": "execute_result"
    }
   ],
   "source": [
    "all_data.head(6)\n"
   ]
  },
  {
   "cell_type": "code",
   "execution_count": 11,
   "id": "8bf66af8",
   "metadata": {},
   "outputs": [
    {
     "data": {
      "text/plain": [
       "array(['MSFT', 'GOOG', 'AMZN', 'AAPL'], dtype=object)"
      ]
     },
     "execution_count": 11,
     "metadata": {},
     "output_type": "execute_result"
    }
   ],
   "source": [
    "all_data['Name'].unique()"
   ]
  },
  {
   "cell_type": "markdown",
   "id": "70bf4113",
   "metadata": {},
   "source": [
    "## 4. Data Cleaning:\n",
    "\n"
   ]
  },
  {
   "cell_type": "code",
   "execution_count": 12,
   "id": "aef2d1e0",
   "metadata": {},
   "outputs": [
    {
     "data": {
      "text/plain": [
       "0"
      ]
     },
     "execution_count": 12,
     "metadata": {},
     "output_type": "execute_result"
    }
   ],
   "source": [
    "all_data.duplicated().sum()"
   ]
  },
  {
   "cell_type": "code",
   "execution_count": 13,
   "id": "9ec10faa",
   "metadata": {},
   "outputs": [
    {
     "data": {
      "text/plain": [
       "date      0\n",
       "open      0\n",
       "high      0\n",
       "low       0\n",
       "close     0\n",
       "volume    0\n",
       "Name      0\n",
       "dtype: int64"
      ]
     },
     "execution_count": 13,
     "metadata": {},
     "output_type": "execute_result"
    }
   ],
   "source": [
    "all_data.isnull().sum()"
   ]
  },
  {
   "cell_type": "code",
   "execution_count": 14,
   "id": "aa168a84",
   "metadata": {},
   "outputs": [],
   "source": [
    "all_data['date'] = pd.to_datetime(all_data['date'])"
   ]
  },
  {
   "cell_type": "markdown",
   "id": "e91d6e4d",
   "metadata": {},
   "source": [
    "## 5. Analysing Change in Closing Prices of the stocks overtime:"
   ]
  },
  {
   "cell_type": "code",
   "execution_count": 15,
   "id": "41ea85da",
   "metadata": {},
   "outputs": [],
   "source": [
    "comp_list = all_data['Name'].unique()"
   ]
  },
  {
   "cell_type": "code",
   "execution_count": 16,
   "id": "3fc03957",
   "metadata": {},
   "outputs": [
    {
     "data": {
      "image/png": "[encoded data removed]",
      "text/plain": [
       "<Figure size 2000x1500 with 4 Axes>"
      ]
     },
     "metadata": {},
     "output_type": "display_data"
    }
   ],
   "source": [
    "plt.figure(figsize=(20,15))\n",
    "\n",
    "for index, company in enumerate(comp_list, 1):\n",
    "    plt.subplot(2,2,index)\n",
    "    filter1 = all_data['Name']==company\n",
    "    df = all_data[filter1]\n",
    "    plt.plot(df['date'],df['close'])\n",
    "    plt.title(company)\n",
    "    \n",
    "    "
   ]
  },
  {
   "cell_type": "markdown",
   "id": "1255354e",
   "metadata": {},
   "source": [
    "### Observations:\n",
    "\n",
    "1. AMZN: had the highest growth of closing price of around 600%\n",
    "2. MSFT: second highest growth of around 240%\n",
    "3. AAPL: third highest growth of around 120%\n",
    "4. GOOG: recorded a comparative slow growth of only 90% overtime"
   ]
  },
  {
   "cell_type": "markdown",
   "id": "99c75883",
   "metadata": {},
   "source": [
    "## 6. Analysing Moving Average of the Stocks\n"
   ]
  },
  {
   "cell_type": "markdown",
   "id": "2c9818ff",
   "metadata": {},
   "source": [
    "Moving Average calculates the average value of a specified number of data points within a defined window or period, and as new data becomes available, the average is recalculated by adding the most recent data point and removing the oldest one within the window.\n",
    "\n",
    "Shorter-term moving averages (e.g., close 10) respond more quickly to recent price changes, while longer-term moving averages (e.g., close 50) provide a broader perspective of the overall trend."
   ]
  },
  {
   "cell_type": "code",
   "execution_count": 17,
   "id": "31bde6ea",
   "metadata": {},
   "outputs": [
    {
     "data": {
      "text/plain": [
       "0         NaN\n",
       "1         NaN\n",
       "2         NaN\n",
       "3         NaN\n",
       "4         NaN\n",
       "5         NaN\n",
       "6         NaN\n",
       "7         NaN\n",
       "8         NaN\n",
       "9     27.8535\n",
       "10    27.8355\n",
       "11    27.7865\n",
       "12    27.7795\n",
       "13    27.7565\n",
       "14    27.7475\n",
       "Name: close, dtype: float64"
      ]
     },
     "execution_count": 17,
     "metadata": {},
     "output_type": "execute_result"
    }
   ],
   "source": [
    "all_data['close'].rolling(window=10).mean().head(15)"
   ]
  },
  {
   "cell_type": "code",
   "execution_count": 18,
   "id": "452063b3",
   "metadata": {},
   "outputs": [],
   "source": [
    "new_data = all_data.copy()"
   ]
  },
  {
   "cell_type": "code",
   "execution_count": 19,
   "id": "edcdbf0e",
   "metadata": {},
   "outputs": [],
   "source": [
    "window = [10, 20, 50]\n",
    "\n",
    "for win in window:\n",
    "    new_data['close_'+ str(win)] = new_data['close'].rolling(win).mean()"
   ]
  },
  {
   "cell_type": "code",
   "execution_count": 20,
   "id": "912b7a46",
   "metadata": {},
   "outputs": [
    {
     "data": {
      "text/html": [
       "<div>\n",
       "<style scoped>\n",
       "    .dataframe tbody tr th:only-of-type {\n",
       "        vertical-align: middle;\n",
       "    }\n",
       "\n",
       "    .dataframe tbody tr th {\n",
       "        vertical-align: top;\n",
       "    }\n",
       "\n",
       "    .dataframe thead th {\n",
       "        text-align: right;\n",
       "    }\n",
       "</style>\n",
       "<table border=\"1\" class=\"dataframe\">\n",
       "  <thead>\n",
       "    <tr style=\"text-align: right;\">\n",
       "      <th></th>\n",
       "      <th>date</th>\n",
       "      <th>open</th>\n",
       "      <th>high</th>\n",
       "      <th>low</th>\n",
       "      <th>close</th>\n",
       "      <th>volume</th>\n",
       "      <th>Name</th>\n",
       "      <th>close_10</th>\n",
       "      <th>close_20</th>\n",
       "      <th>close_50</th>\n",
       "    </tr>\n",
       "  </thead>\n",
       "  <tbody>\n",
       "    <tr>\n",
       "      <th>0</th>\n",
       "      <td>2013-02-08</td>\n",
       "      <td>27.3500</td>\n",
       "      <td>27.71</td>\n",
       "      <td>27.310</td>\n",
       "      <td>27.550</td>\n",
       "      <td>33318306</td>\n",
       "      <td>MSFT</td>\n",
       "      <td>NaN</td>\n",
       "      <td>NaN</td>\n",
       "      <td>NaN</td>\n",
       "    </tr>\n",
       "    <tr>\n",
       "      <th>1</th>\n",
       "      <td>2013-02-11</td>\n",
       "      <td>27.6500</td>\n",
       "      <td>27.92</td>\n",
       "      <td>27.500</td>\n",
       "      <td>27.860</td>\n",
       "      <td>32247549</td>\n",
       "      <td>MSFT</td>\n",
       "      <td>NaN</td>\n",
       "      <td>NaN</td>\n",
       "      <td>NaN</td>\n",
       "    </tr>\n",
       "    <tr>\n",
       "      <th>2</th>\n",
       "      <td>2013-02-12</td>\n",
       "      <td>27.8800</td>\n",
       "      <td>28.00</td>\n",
       "      <td>27.750</td>\n",
       "      <td>27.880</td>\n",
       "      <td>35990829</td>\n",
       "      <td>MSFT</td>\n",
       "      <td>NaN</td>\n",
       "      <td>NaN</td>\n",
       "      <td>NaN</td>\n",
       "    </tr>\n",
       "    <tr>\n",
       "      <th>3</th>\n",
       "      <td>2013-02-13</td>\n",
       "      <td>27.9300</td>\n",
       "      <td>28.11</td>\n",
       "      <td>27.880</td>\n",
       "      <td>28.030</td>\n",
       "      <td>41715530</td>\n",
       "      <td>MSFT</td>\n",
       "      <td>NaN</td>\n",
       "      <td>NaN</td>\n",
       "      <td>NaN</td>\n",
       "    </tr>\n",
       "    <tr>\n",
       "      <th>4</th>\n",
       "      <td>2013-02-14</td>\n",
       "      <td>27.9200</td>\n",
       "      <td>28.06</td>\n",
       "      <td>27.870</td>\n",
       "      <td>28.040</td>\n",
       "      <td>32663174</td>\n",
       "      <td>MSFT</td>\n",
       "      <td>NaN</td>\n",
       "      <td>NaN</td>\n",
       "      <td>NaN</td>\n",
       "    </tr>\n",
       "    <tr>\n",
       "      <th>5</th>\n",
       "      <td>2013-02-15</td>\n",
       "      <td>28.0400</td>\n",
       "      <td>28.16</td>\n",
       "      <td>27.875</td>\n",
       "      <td>28.010</td>\n",
       "      <td>49650538</td>\n",
       "      <td>MSFT</td>\n",
       "      <td>NaN</td>\n",
       "      <td>NaN</td>\n",
       "      <td>NaN</td>\n",
       "    </tr>\n",
       "    <tr>\n",
       "      <th>6</th>\n",
       "      <td>2013-02-19</td>\n",
       "      <td>27.8801</td>\n",
       "      <td>28.09</td>\n",
       "      <td>27.800</td>\n",
       "      <td>28.045</td>\n",
       "      <td>38804616</td>\n",
       "      <td>MSFT</td>\n",
       "      <td>NaN</td>\n",
       "      <td>NaN</td>\n",
       "      <td>NaN</td>\n",
       "    </tr>\n",
       "    <tr>\n",
       "      <th>7</th>\n",
       "      <td>2013-02-20</td>\n",
       "      <td>28.1300</td>\n",
       "      <td>28.20</td>\n",
       "      <td>27.830</td>\n",
       "      <td>27.870</td>\n",
       "      <td>44109412</td>\n",
       "      <td>MSFT</td>\n",
       "      <td>NaN</td>\n",
       "      <td>NaN</td>\n",
       "      <td>NaN</td>\n",
       "    </tr>\n",
       "    <tr>\n",
       "      <th>8</th>\n",
       "      <td>2013-02-21</td>\n",
       "      <td>27.7400</td>\n",
       "      <td>27.74</td>\n",
       "      <td>27.230</td>\n",
       "      <td>27.490</td>\n",
       "      <td>49078338</td>\n",
       "      <td>MSFT</td>\n",
       "      <td>NaN</td>\n",
       "      <td>NaN</td>\n",
       "      <td>NaN</td>\n",
       "    </tr>\n",
       "    <tr>\n",
       "      <th>9</th>\n",
       "      <td>2013-02-22</td>\n",
       "      <td>27.6800</td>\n",
       "      <td>27.76</td>\n",
       "      <td>27.480</td>\n",
       "      <td>27.760</td>\n",
       "      <td>31425726</td>\n",
       "      <td>MSFT</td>\n",
       "      <td>27.8535</td>\n",
       "      <td>NaN</td>\n",
       "      <td>NaN</td>\n",
       "    </tr>\n",
       "    <tr>\n",
       "      <th>10</th>\n",
       "      <td>2013-02-25</td>\n",
       "      <td>27.9700</td>\n",
       "      <td>28.05</td>\n",
       "      <td>27.370</td>\n",
       "      <td>27.370</td>\n",
       "      <td>48011248</td>\n",
       "      <td>MSFT</td>\n",
       "      <td>27.8355</td>\n",
       "      <td>NaN</td>\n",
       "      <td>NaN</td>\n",
       "    </tr>\n",
       "    <tr>\n",
       "      <th>11</th>\n",
       "      <td>2013-02-26</td>\n",
       "      <td>27.3800</td>\n",
       "      <td>27.60</td>\n",
       "      <td>27.340</td>\n",
       "      <td>27.370</td>\n",
       "      <td>49917353</td>\n",
       "      <td>MSFT</td>\n",
       "      <td>27.7865</td>\n",
       "      <td>NaN</td>\n",
       "      <td>NaN</td>\n",
       "    </tr>\n",
       "    <tr>\n",
       "      <th>12</th>\n",
       "      <td>2013-02-27</td>\n",
       "      <td>27.4200</td>\n",
       "      <td>28.00</td>\n",
       "      <td>27.330</td>\n",
       "      <td>27.810</td>\n",
       "      <td>36390889</td>\n",
       "      <td>MSFT</td>\n",
       "      <td>27.7795</td>\n",
       "      <td>NaN</td>\n",
       "      <td>NaN</td>\n",
       "    </tr>\n",
       "    <tr>\n",
       "      <th>13</th>\n",
       "      <td>2013-02-28</td>\n",
       "      <td>27.8800</td>\n",
       "      <td>27.97</td>\n",
       "      <td>27.740</td>\n",
       "      <td>27.800</td>\n",
       "      <td>35836861</td>\n",
       "      <td>MSFT</td>\n",
       "      <td>27.7565</td>\n",
       "      <td>NaN</td>\n",
       "      <td>NaN</td>\n",
       "    </tr>\n",
       "    <tr>\n",
       "      <th>14</th>\n",
       "      <td>2013-03-01</td>\n",
       "      <td>27.7200</td>\n",
       "      <td>27.98</td>\n",
       "      <td>27.520</td>\n",
       "      <td>27.950</td>\n",
       "      <td>34849287</td>\n",
       "      <td>MSFT</td>\n",
       "      <td>27.7475</td>\n",
       "      <td>NaN</td>\n",
       "      <td>NaN</td>\n",
       "    </tr>\n",
       "    <tr>\n",
       "      <th>15</th>\n",
       "      <td>2013-03-04</td>\n",
       "      <td>27.8500</td>\n",
       "      <td>28.15</td>\n",
       "      <td>27.700</td>\n",
       "      <td>28.150</td>\n",
       "      <td>38163549</td>\n",
       "      <td>MSFT</td>\n",
       "      <td>27.7615</td>\n",
       "      <td>NaN</td>\n",
       "      <td>NaN</td>\n",
       "    </tr>\n",
       "    <tr>\n",
       "      <th>16</th>\n",
       "      <td>2013-03-05</td>\n",
       "      <td>28.2900</td>\n",
       "      <td>28.54</td>\n",
       "      <td>28.160</td>\n",
       "      <td>28.350</td>\n",
       "      <td>41431097</td>\n",
       "      <td>MSFT</td>\n",
       "      <td>27.7920</td>\n",
       "      <td>NaN</td>\n",
       "      <td>NaN</td>\n",
       "    </tr>\n",
       "    <tr>\n",
       "      <th>17</th>\n",
       "      <td>2013-03-06</td>\n",
       "      <td>28.2100</td>\n",
       "      <td>28.23</td>\n",
       "      <td>27.780</td>\n",
       "      <td>28.090</td>\n",
       "      <td>51448452</td>\n",
       "      <td>MSFT</td>\n",
       "      <td>27.8140</td>\n",
       "      <td>NaN</td>\n",
       "      <td>NaN</td>\n",
       "    </tr>\n",
       "    <tr>\n",
       "      <th>18</th>\n",
       "      <td>2013-03-07</td>\n",
       "      <td>28.1100</td>\n",
       "      <td>28.28</td>\n",
       "      <td>28.005</td>\n",
       "      <td>28.140</td>\n",
       "      <td>29196691</td>\n",
       "      <td>MSFT</td>\n",
       "      <td>27.8790</td>\n",
       "      <td>NaN</td>\n",
       "      <td>NaN</td>\n",
       "    </tr>\n",
       "    <tr>\n",
       "      <th>19</th>\n",
       "      <td>2013-03-08</td>\n",
       "      <td>28.2500</td>\n",
       "      <td>28.33</td>\n",
       "      <td>27.960</td>\n",
       "      <td>28.000</td>\n",
       "      <td>37667133</td>\n",
       "      <td>MSFT</td>\n",
       "      <td>27.9030</td>\n",
       "      <td>27.87825</td>\n",
       "      <td>NaN</td>\n",
       "    </tr>\n",
       "    <tr>\n",
       "      <th>20</th>\n",
       "      <td>2013-03-11</td>\n",
       "      <td>27.9400</td>\n",
       "      <td>27.97</td>\n",
       "      <td>27.670</td>\n",
       "      <td>27.870</td>\n",
       "      <td>36627200</td>\n",
       "      <td>MSFT</td>\n",
       "      <td>27.9530</td>\n",
       "      <td>27.89425</td>\n",
       "      <td>NaN</td>\n",
       "    </tr>\n",
       "    <tr>\n",
       "      <th>21</th>\n",
       "      <td>2013-03-12</td>\n",
       "      <td>27.8400</td>\n",
       "      <td>27.95</td>\n",
       "      <td>27.640</td>\n",
       "      <td>27.910</td>\n",
       "      <td>39252591</td>\n",
       "      <td>MSFT</td>\n",
       "      <td>28.0070</td>\n",
       "      <td>27.89675</td>\n",
       "      <td>NaN</td>\n",
       "    </tr>\n",
       "    <tr>\n",
       "      <th>22</th>\n",
       "      <td>2013-03-13</td>\n",
       "      <td>27.8700</td>\n",
       "      <td>28.02</td>\n",
       "      <td>27.750</td>\n",
       "      <td>27.915</td>\n",
       "      <td>29093296</td>\n",
       "      <td>MSFT</td>\n",
       "      <td>28.0175</td>\n",
       "      <td>27.89850</td>\n",
       "      <td>NaN</td>\n",
       "    </tr>\n",
       "    <tr>\n",
       "      <th>23</th>\n",
       "      <td>2013-03-14</td>\n",
       "      <td>28.0000</td>\n",
       "      <td>28.16</td>\n",
       "      <td>27.930</td>\n",
       "      <td>28.135</td>\n",
       "      <td>55910657</td>\n",
       "      <td>MSFT</td>\n",
       "      <td>28.0510</td>\n",
       "      <td>27.90375</td>\n",
       "      <td>NaN</td>\n",
       "    </tr>\n",
       "    <tr>\n",
       "      <th>24</th>\n",
       "      <td>2013-03-15</td>\n",
       "      <td>28.0300</td>\n",
       "      <td>28.16</td>\n",
       "      <td>27.980</td>\n",
       "      <td>28.035</td>\n",
       "      <td>92709815</td>\n",
       "      <td>MSFT</td>\n",
       "      <td>28.0595</td>\n",
       "      <td>27.90350</td>\n",
       "      <td>NaN</td>\n",
       "    </tr>\n",
       "  </tbody>\n",
       "</table>\n",
       "</div>"
      ],
      "text/plain": [
       "         date     open   high     low   close    volume  Name  close_10  \\\n",
       "0  2013-02-08  27.3500  27.71  27.310  27.550  33318306  MSFT       NaN   \n",
       "1  2013-02-11  27.6500  27.92  27.500  27.860  32247549  MSFT       NaN   \n",
       "2  2013-02-12  27.8800  28.00  27.750  27.880  35990829  MSFT       NaN   \n",
       "3  2013-02-13  27.9300  28.11  27.880  28.030  41715530  MSFT       NaN   \n",
       "4  2013-02-14  27.9200  28.06  27.870  28.040  32663174  MSFT       NaN   \n",
       "5  2013-02-15  28.0400  28.16  27.875  28.010  49650538  MSFT       NaN   \n",
       "6  2013-02-19  27.8801  28.09  27.800  28.045  38804616  MSFT       NaN   \n",
       "7  2013-02-20  28.1300  28.20  27.830  27.870  44109412  MSFT       NaN   \n",
       "8  2013-02-21  27.7400  27.74  27.230  27.490  49078338  MSFT       NaN   \n",
       "9  2013-02-22  27.6800  27.76  27.480  27.760  31425726  MSFT   27.8535   \n",
       "10 2013-02-25  27.9700  28.05  27.370  27.370  48011248  MSFT   27.8355   \n",
       "11 2013-02-26  27.3800  27.60  27.340  27.370  49917353  MSFT   27.7865   \n",
       "12 2013-02-27  27.4200  28.00  27.330  27.810  36390889  MSFT   27.7795   \n",
       "13 2013-02-28  27.8800  27.97  27.740  27.800  35836861  MSFT   27.7565   \n",
       "14 2013-03-01  27.7200  27.98  27.520  27.950  34849287  MSFT   27.7475   \n",
       "15 2013-03-04  27.8500  28.15  27.700  28.150  38163549  MSFT   27.7615   \n",
       "16 2013-03-05  28.2900  28.54  28.160  28.350  41431097  MSFT   27.7920   \n",
       "17 2013-03-06  28.2100  28.23  27.780  28.090  51448452  MSFT   27.8140   \n",
       "18 2013-03-07  28.1100  28.28  28.005  28.140  29196691  MSFT   27.8790   \n",
       "19 2013-03-08  28.2500  28.33  27.960  28.000  37667133  MSFT   27.9030   \n",
       "20 2013-03-11  27.9400  27.97  27.670  27.870  36627200  MSFT   27.9530   \n",
       "21 2013-03-12  27.8400  27.95  27.640  27.910  39252591  MSFT   28.0070   \n",
       "22 2013-03-13  27.8700  28.02  27.750  27.915  29093296  MSFT   28.0175   \n",
       "23 2013-03-14  28.0000  28.16  27.930  28.135  55910657  MSFT   28.0510   \n",
       "24 2013-03-15  28.0300  28.16  27.980  28.035  92709815  MSFT   28.0595   \n",
       "\n",
       "    close_20  close_50  \n",
       "0        NaN       NaN  \n",
       "1        NaN       NaN  \n",
       "2        NaN       NaN  \n",
       "3        NaN       NaN  \n",
       "4        NaN       NaN  \n",
       "5        NaN       NaN  \n",
       "6        NaN       NaN  \n",
       "7        NaN       NaN  \n",
       "8        NaN       NaN  \n",
       "9        NaN       NaN  \n",
       "10       NaN       NaN  \n",
       "11       NaN       NaN  \n",
       "12       NaN       NaN  \n",
       "13       NaN       NaN  \n",
       "14       NaN       NaN  \n",
       "15       NaN       NaN  \n",
       "16       NaN       NaN  \n",
       "17       NaN       NaN  \n",
       "18       NaN       NaN  \n",
       "19  27.87825       NaN  \n",
       "20  27.89425       NaN  \n",
       "21  27.89675       NaN  \n",
       "22  27.89850       NaN  \n",
       "23  27.90375       NaN  \n",
       "24  27.90350       NaN  "
      ]
     },
     "execution_count": 20,
     "metadata": {},
     "output_type": "execute_result"
    }
   ],
   "source": [
    "new_data.head(25)"
   ]
  },
  {
   "cell_type": "code",
   "execution_count": 21,
   "id": "884931a3",
   "metadata": {},
   "outputs": [],
   "source": [
    "new_data.set_index('date', inplace=True)"
   ]
  },
  {
   "cell_type": "code",
   "execution_count": 22,
   "id": "b3c85af0",
   "metadata": {},
   "outputs": [
    {
     "data": {
      "image/png": "[encoded data removed]",
      "text/plain": [
       "<Figure size 2000x1500 with 4 Axes>"
      ]
     },
     "metadata": {},
     "output_type": "display_data"
    }
   ],
   "source": [
    "plt.figure(figsize=(20,15))\n",
    "\n",
    "for index, company in enumerate(comp_list, 1):\n",
    "    plt.subplot(2,2,index)\n",
    "    filter1 = new_data['Name']==company\n",
    "    df = new_data[filter1]\n",
    "    df[['close_10', 'close_20', 'close_50']].plot(ax=plt.gca())\n",
    "    plt.title(company)\n",
    "    "
   ]
  },
  {
   "cell_type": "markdown",
   "id": "c0527206",
   "metadata": {},
   "source": [
    "### Observations:\n",
    "\n",
    "1. MSFT, GOOG, AMZN have mostly shown and indicated upward or bullish signal throughout and is as a positive sign for the stock's price direction.\n",
    "2. The sudden spike in close 50 for AMZN, AAPL reflected the market's reactions to specific event.\n",
    "3. AAPL signified period of consolidation or a range-bound market where the stock price was oscillating withina narrow range and reflected uncertainty in market."
   ]
  },
  {
   "cell_type": "markdown",
   "id": "e3c914e5",
   "metadata": {},
   "source": [
    "## 7. Co-Relation Analysis of the closing prices of the companies"
   ]
  },
  {
   "cell_type": "code",
   "execution_count": 39,
   "id": "db5449c7",
   "metadata": {},
   "outputs": [
    {
     "data": {
      "text/plain": [
       "['C:\\\\\\\\Users\\\\\\\\AAA\\\\\\\\Downloads\\\\\\\\S&P_resources\\\\\\\\individual_stocks_5yr\\\\\\\\AAPL_data.csv',\n",
       " 'C:\\\\\\\\Users\\\\\\\\AAA\\\\\\\\Downloads\\\\\\\\S&P_resources\\\\\\\\individual_stocks_5yr\\\\\\\\AMZN_data.csv',\n",
       " 'C:\\\\\\\\Users\\\\\\\\AAA\\\\\\\\Downloads\\\\\\\\S&P_resources\\\\\\\\individual_stocks_5yr\\\\\\\\GOOG_data.csv',\n",
       " 'C:\\\\\\\\Users\\\\\\\\AAA\\\\\\\\Downloads\\\\\\\\S&P_resources\\\\\\\\individual_stocks_5yr\\\\\\\\MSFT_data.csv']"
      ]
     },
     "execution_count": 39,
     "metadata": {},
     "output_type": "execute_result"
    }
   ],
   "source": [
    "company_list"
   ]
  },
  {
   "cell_type": "code",
   "execution_count": 40,
   "id": "c09209d7",
   "metadata": {},
   "outputs": [
    {
     "data": {
      "text/plain": [
       "'C:\\\\\\\\Users\\\\\\\\AAA\\\\\\\\Downloads\\\\\\\\S&P_resources\\\\\\\\individual_stocks_5yr\\\\\\\\AAPL_data.csv'"
      ]
     },
     "execution_count": 40,
     "metadata": {},
     "output_type": "execute_result"
    }
   ],
   "source": [
    "company_list[0]"
   ]
  },
  {
   "cell_type": "code",
   "execution_count": 41,
   "id": "7591103d",
   "metadata": {},
   "outputs": [],
   "source": [
    "app = pd.read_csv(company_list[0])\n",
    "amzn = pd.read_csv(company_list[1])\n",
    "google = pd.read_csv(company_list[2])\n",
    "msft = pd.read_csv(company_list[3])"
   ]
  },
  {
   "cell_type": "code",
   "execution_count": 42,
   "id": "ba220ccc",
   "metadata": {},
   "outputs": [],
   "source": [
    "closing_price=pd.DataFrame()"
   ]
  },
  {
   "cell_type": "code",
   "execution_count": 43,
   "id": "2c0730d3",
   "metadata": {},
   "outputs": [],
   "source": [
    "closing_price['apple_close'] = app['close']\n",
    "closing_price['amzn_close'] = amzn['close']\n",
    "closing_price['goog_close'] = google['close']\n",
    "closing_price['msft_close'] = app['close']"
   ]
  },
  {
   "cell_type": "code",
   "execution_count": 44,
   "id": "a24c7ed5",
   "metadata": {},
   "outputs": [
    {
     "data": {
      "text/html": [
       "<div>\n",
       "<style scoped>\n",
       "    .dataframe tbody tr th:only-of-type {\n",
       "        vertical-align: middle;\n",
       "    }\n",
       "\n",
       "    .dataframe tbody tr th {\n",
       "        vertical-align: top;\n",
       "    }\n",
       "\n",
       "    .dataframe thead th {\n",
       "        text-align: right;\n",
       "    }\n",
       "</style>\n",
       "<table border=\"1\" class=\"dataframe\">\n",
       "  <thead>\n",
       "    <tr style=\"text-align: right;\">\n",
       "      <th></th>\n",
       "      <th>apple_close</th>\n",
       "      <th>amzn_close</th>\n",
       "      <th>goog_close</th>\n",
       "      <th>msft_close</th>\n",
       "    </tr>\n",
       "  </thead>\n",
       "  <tbody>\n",
       "    <tr>\n",
       "      <th>0</th>\n",
       "      <td>67.8542</td>\n",
       "      <td>261.95</td>\n",
       "      <td>558.46</td>\n",
       "      <td>67.8542</td>\n",
       "    </tr>\n",
       "    <tr>\n",
       "      <th>1</th>\n",
       "      <td>68.5614</td>\n",
       "      <td>257.21</td>\n",
       "      <td>559.99</td>\n",
       "      <td>68.5614</td>\n",
       "    </tr>\n",
       "    <tr>\n",
       "      <th>2</th>\n",
       "      <td>66.8428</td>\n",
       "      <td>258.70</td>\n",
       "      <td>556.97</td>\n",
       "      <td>66.8428</td>\n",
       "    </tr>\n",
       "    <tr>\n",
       "      <th>3</th>\n",
       "      <td>66.7156</td>\n",
       "      <td>269.47</td>\n",
       "      <td>567.16</td>\n",
       "      <td>66.7156</td>\n",
       "    </tr>\n",
       "    <tr>\n",
       "      <th>4</th>\n",
       "      <td>66.6556</td>\n",
       "      <td>269.24</td>\n",
       "      <td>567.00</td>\n",
       "      <td>66.6556</td>\n",
       "    </tr>\n",
       "    <tr>\n",
       "      <th>...</th>\n",
       "      <td>...</td>\n",
       "      <td>...</td>\n",
       "      <td>...</td>\n",
       "      <td>...</td>\n",
       "    </tr>\n",
       "    <tr>\n",
       "      <th>1254</th>\n",
       "      <td>167.7800</td>\n",
       "      <td>1390.00</td>\n",
       "      <td>NaN</td>\n",
       "      <td>167.7800</td>\n",
       "    </tr>\n",
       "    <tr>\n",
       "      <th>1255</th>\n",
       "      <td>160.5000</td>\n",
       "      <td>1429.95</td>\n",
       "      <td>NaN</td>\n",
       "      <td>160.5000</td>\n",
       "    </tr>\n",
       "    <tr>\n",
       "      <th>1256</th>\n",
       "      <td>156.4900</td>\n",
       "      <td>1390.00</td>\n",
       "      <td>NaN</td>\n",
       "      <td>156.4900</td>\n",
       "    </tr>\n",
       "    <tr>\n",
       "      <th>1257</th>\n",
       "      <td>163.0300</td>\n",
       "      <td>1442.84</td>\n",
       "      <td>NaN</td>\n",
       "      <td>163.0300</td>\n",
       "    </tr>\n",
       "    <tr>\n",
       "      <th>1258</th>\n",
       "      <td>159.5400</td>\n",
       "      <td>1416.78</td>\n",
       "      <td>NaN</td>\n",
       "      <td>159.5400</td>\n",
       "    </tr>\n",
       "  </tbody>\n",
       "</table>\n",
       "<p>1259 rows × 4 columns</p>\n",
       "</div>"
      ],
      "text/plain": [
       "      apple_close  amzn_close  goog_close  msft_close\n",
       "0         67.8542      261.95      558.46     67.8542\n",
       "1         68.5614      257.21      559.99     68.5614\n",
       "2         66.8428      258.70      556.97     66.8428\n",
       "3         66.7156      269.47      567.16     66.7156\n",
       "4         66.6556      269.24      567.00     66.6556\n",
       "...           ...         ...         ...         ...\n",
       "1254     167.7800     1390.00         NaN    167.7800\n",
       "1255     160.5000     1429.95         NaN    160.5000\n",
       "1256     156.4900     1390.00         NaN    156.4900\n",
       "1257     163.0300     1442.84         NaN    163.0300\n",
       "1258     159.5400     1416.78         NaN    159.5400\n",
       "\n",
       "[1259 rows x 4 columns]"
      ]
     },
     "execution_count": 44,
     "metadata": {},
     "output_type": "execute_result"
    }
   ],
   "source": [
    "closing_price"
   ]
  },
  {
   "cell_type": "code",
   "execution_count": 46,
   "id": "a582770a",
   "metadata": {},
   "outputs": [
    {
     "data": {
      "text/html": [
       "<div>\n",
       "<style scoped>\n",
       "    .dataframe tbody tr th:only-of-type {\n",
       "        vertical-align: middle;\n",
       "    }\n",
       "\n",
       "    .dataframe tbody tr th {\n",
       "        vertical-align: top;\n",
       "    }\n",
       "\n",
       "    .dataframe thead th {\n",
       "        text-align: right;\n",
       "    }\n",
       "</style>\n",
       "<table border=\"1\" class=\"dataframe\">\n",
       "  <thead>\n",
       "    <tr style=\"text-align: right;\">\n",
       "      <th></th>\n",
       "      <th>apple_close</th>\n",
       "      <th>amzn_close</th>\n",
       "      <th>goog_close</th>\n",
       "      <th>msft_close</th>\n",
       "    </tr>\n",
       "  </thead>\n",
       "  <tbody>\n",
       "    <tr>\n",
       "      <th>apple_close</th>\n",
       "      <td>1.000000</td>\n",
       "      <td>0.819078</td>\n",
       "      <td>0.640522</td>\n",
       "      <td>1.000000</td>\n",
       "    </tr>\n",
       "    <tr>\n",
       "      <th>amzn_close</th>\n",
       "      <td>0.819078</td>\n",
       "      <td>1.000000</td>\n",
       "      <td>0.888456</td>\n",
       "      <td>0.819078</td>\n",
       "    </tr>\n",
       "    <tr>\n",
       "      <th>goog_close</th>\n",
       "      <td>0.640522</td>\n",
       "      <td>0.888456</td>\n",
       "      <td>1.000000</td>\n",
       "      <td>0.640522</td>\n",
       "    </tr>\n",
       "    <tr>\n",
       "      <th>msft_close</th>\n",
       "      <td>1.000000</td>\n",
       "      <td>0.819078</td>\n",
       "      <td>0.640522</td>\n",
       "      <td>1.000000</td>\n",
       "    </tr>\n",
       "  </tbody>\n",
       "</table>\n",
       "</div>"
      ],
      "text/plain": [
       "             apple_close  amzn_close  goog_close  msft_close\n",
       "apple_close     1.000000    0.819078    0.640522    1.000000\n",
       "amzn_close      0.819078    1.000000    0.888456    0.819078\n",
       "goog_close      0.640522    0.888456    1.000000    0.640522\n",
       "msft_close      1.000000    0.819078    0.640522    1.000000"
      ]
     },
     "execution_count": 46,
     "metadata": {},
     "output_type": "execute_result"
    }
   ],
   "source": [
    "closing_price.corr()"
   ]
  },
  {
   "cell_type": "code",
   "execution_count": 47,
   "id": "ab90016c",
   "metadata": {},
   "outputs": [
    {
     "data": {
      "text/plain": [
       "<Axes: >"
      ]
     },
     "execution_count": 47,
     "metadata": {},
     "output_type": "execute_result"
    },
    {
     "data": {
      "image/png": "[encoded data removed]",
      "text/plain": [
       "<Figure size 640x480 with 2 Axes>"
      ]
     },
     "metadata": {},
     "output_type": "display_data"
    }
   ],
   "source": [
    "sns.heatmap(closing_price.corr(), annot=True)"
   ]
  },
  {
   "cell_type": "markdown",
   "id": "ede14128",
   "metadata": {},
   "source": [
    "### Observation:\n",
    "\n",
    "1. AMZN and GOOG closing prices have a high correlation compared to other attributing to similar macroeconomic factors.\n",
    "2. Even MSFT and AAPL have better correlation with AMZN closing prices."
   ]
  },
  {
   "cell_type": "markdown",
   "id": "7a8de1f8",
   "metadata": {},
   "source": [
    "## 8. Examining Daily Change in closing price and Daily Return in Stocks"
   ]
  },
  {
   "cell_type": "code",
   "execution_count": 48,
   "id": "583650a9",
   "metadata": {},
   "outputs": [
    {
     "data": {
      "text/html": [
       "<div>\n",
       "<style scoped>\n",
       "    .dataframe tbody tr th:only-of-type {\n",
       "        vertical-align: middle;\n",
       "    }\n",
       "\n",
       "    .dataframe tbody tr th {\n",
       "        vertical-align: top;\n",
       "    }\n",
       "\n",
       "    .dataframe thead th {\n",
       "        text-align: right;\n",
       "    }\n",
       "</style>\n",
       "<table border=\"1\" class=\"dataframe\">\n",
       "  <thead>\n",
       "    <tr style=\"text-align: right;\">\n",
       "      <th></th>\n",
       "      <th>apple_close</th>\n",
       "      <th>amzn_close</th>\n",
       "      <th>goog_close</th>\n",
       "      <th>msft_close</th>\n",
       "    </tr>\n",
       "  </thead>\n",
       "  <tbody>\n",
       "    <tr>\n",
       "      <th>0</th>\n",
       "      <td>67.8542</td>\n",
       "      <td>261.95</td>\n",
       "      <td>558.46</td>\n",
       "      <td>67.8542</td>\n",
       "    </tr>\n",
       "    <tr>\n",
       "      <th>1</th>\n",
       "      <td>68.5614</td>\n",
       "      <td>257.21</td>\n",
       "      <td>559.99</td>\n",
       "      <td>68.5614</td>\n",
       "    </tr>\n",
       "    <tr>\n",
       "      <th>2</th>\n",
       "      <td>66.8428</td>\n",
       "      <td>258.70</td>\n",
       "      <td>556.97</td>\n",
       "      <td>66.8428</td>\n",
       "    </tr>\n",
       "    <tr>\n",
       "      <th>3</th>\n",
       "      <td>66.7156</td>\n",
       "      <td>269.47</td>\n",
       "      <td>567.16</td>\n",
       "      <td>66.7156</td>\n",
       "    </tr>\n",
       "    <tr>\n",
       "      <th>4</th>\n",
       "      <td>66.6556</td>\n",
       "      <td>269.24</td>\n",
       "      <td>567.00</td>\n",
       "      <td>66.6556</td>\n",
       "    </tr>\n",
       "    <tr>\n",
       "      <th>...</th>\n",
       "      <td>...</td>\n",
       "      <td>...</td>\n",
       "      <td>...</td>\n",
       "      <td>...</td>\n",
       "    </tr>\n",
       "    <tr>\n",
       "      <th>1254</th>\n",
       "      <td>167.7800</td>\n",
       "      <td>1390.00</td>\n",
       "      <td>NaN</td>\n",
       "      <td>167.7800</td>\n",
       "    </tr>\n",
       "    <tr>\n",
       "      <th>1255</th>\n",
       "      <td>160.5000</td>\n",
       "      <td>1429.95</td>\n",
       "      <td>NaN</td>\n",
       "      <td>160.5000</td>\n",
       "    </tr>\n",
       "    <tr>\n",
       "      <th>1256</th>\n",
       "      <td>156.4900</td>\n",
       "      <td>1390.00</td>\n",
       "      <td>NaN</td>\n",
       "      <td>156.4900</td>\n",
       "    </tr>\n",
       "    <tr>\n",
       "      <th>1257</th>\n",
       "      <td>163.0300</td>\n",
       "      <td>1442.84</td>\n",
       "      <td>NaN</td>\n",
       "      <td>163.0300</td>\n",
       "    </tr>\n",
       "    <tr>\n",
       "      <th>1258</th>\n",
       "      <td>159.5400</td>\n",
       "      <td>1416.78</td>\n",
       "      <td>NaN</td>\n",
       "      <td>159.5400</td>\n",
       "    </tr>\n",
       "  </tbody>\n",
       "</table>\n",
       "<p>1259 rows × 4 columns</p>\n",
       "</div>"
      ],
      "text/plain": [
       "      apple_close  amzn_close  goog_close  msft_close\n",
       "0         67.8542      261.95      558.46     67.8542\n",
       "1         68.5614      257.21      559.99     68.5614\n",
       "2         66.8428      258.70      556.97     66.8428\n",
       "3         66.7156      269.47      567.16     66.7156\n",
       "4         66.6556      269.24      567.00     66.6556\n",
       "...           ...         ...         ...         ...\n",
       "1254     167.7800     1390.00         NaN    167.7800\n",
       "1255     160.5000     1429.95         NaN    160.5000\n",
       "1256     156.4900     1390.00         NaN    156.4900\n",
       "1257     163.0300     1442.84         NaN    163.0300\n",
       "1258     159.5400     1416.78         NaN    159.5400\n",
       "\n",
       "[1259 rows x 4 columns]"
      ]
     },
     "execution_count": 48,
     "metadata": {},
     "output_type": "execute_result"
    }
   ],
   "source": [
    "closing_price"
   ]
  },
  {
   "cell_type": "code",
   "execution_count": 49,
   "id": "8996c21b",
   "metadata": {},
   "outputs": [
    {
     "data": {
      "text/plain": [
       "0        67.8542\n",
       "1        68.5614\n",
       "2        66.8428\n",
       "3        66.7156\n",
       "4        66.6556\n",
       "          ...   \n",
       "1254    167.7800\n",
       "1255    160.5000\n",
       "1256    156.4900\n",
       "1257    163.0300\n",
       "1258    159.5400\n",
       "Name: apple_close, Length: 1259, dtype: float64"
      ]
     },
     "execution_count": 49,
     "metadata": {},
     "output_type": "execute_result"
    }
   ],
   "source": [
    "closing_price['apple_close']"
   ]
  },
  {
   "cell_type": "code",
   "execution_count": 50,
   "id": "afbd0484",
   "metadata": {},
   "outputs": [
    {
     "data": {
      "text/plain": [
       "0            NaN\n",
       "1        67.8542\n",
       "2        68.5614\n",
       "3        66.8428\n",
       "4        66.7156\n",
       "          ...   \n",
       "1254    167.4300\n",
       "1255    167.7800\n",
       "1256    160.5000\n",
       "1257    156.4900\n",
       "1258    163.0300\n",
       "Name: apple_close, Length: 1259, dtype: float64"
      ]
     },
     "execution_count": 50,
     "metadata": {},
     "output_type": "execute_result"
    }
   ],
   "source": [
    "closing_price['apple_close'].shift(1)"
   ]
  },
  {
   "cell_type": "code",
   "execution_count": 51,
   "id": "f3a2dd90",
   "metadata": {},
   "outputs": [
    {
     "data": {
      "text/plain": [
       "0            NaN\n",
       "1       1.042235\n",
       "2      -2.506658\n",
       "3      -0.190297\n",
       "4      -0.089934\n",
       "          ...   \n",
       "1254    0.209043\n",
       "1255   -4.339015\n",
       "1256   -2.498442\n",
       "1257    4.179181\n",
       "1258   -2.140710\n",
       "Name: apple_close, Length: 1259, dtype: float64"
      ]
     },
     "execution_count": 51,
     "metadata": {},
     "output_type": "execute_result"
    }
   ],
   "source": [
    "(closing_price['apple_close'] - closing_price['apple_close'].shift(1))/closing_price['apple_close'].shift(1) *100"
   ]
  },
  {
   "cell_type": "code",
   "execution_count": 52,
   "id": "130c2565",
   "metadata": {},
   "outputs": [],
   "source": [
    "for col in closing_price.columns:\n",
    "    closing_price[col + '_pct_change'] = (closing_price[col] - closing_price[col].shift(1))/closing_price[col].shift(1) *100\n",
    "    "
   ]
  },
  {
   "cell_type": "code",
   "execution_count": 53,
   "id": "bd85c4ec",
   "metadata": {},
   "outputs": [
    {
     "data": {
      "text/html": [
       "<div>\n",
       "<style scoped>\n",
       "    .dataframe tbody tr th:only-of-type {\n",
       "        vertical-align: middle;\n",
       "    }\n",
       "\n",
       "    .dataframe tbody tr th {\n",
       "        vertical-align: top;\n",
       "    }\n",
       "\n",
       "    .dataframe thead th {\n",
       "        text-align: right;\n",
       "    }\n",
       "</style>\n",
       "<table border=\"1\" class=\"dataframe\">\n",
       "  <thead>\n",
       "    <tr style=\"text-align: right;\">\n",
       "      <th></th>\n",
       "      <th>apple_close</th>\n",
       "      <th>amzn_close</th>\n",
       "      <th>goog_close</th>\n",
       "      <th>msft_close</th>\n",
       "      <th>apple_close_pct_change</th>\n",
       "      <th>amzn_close_pct_change</th>\n",
       "      <th>goog_close_pct_change</th>\n",
       "      <th>msft_close_pct_change</th>\n",
       "    </tr>\n",
       "  </thead>\n",
       "  <tbody>\n",
       "    <tr>\n",
       "      <th>0</th>\n",
       "      <td>67.8542</td>\n",
       "      <td>261.95</td>\n",
       "      <td>558.46</td>\n",
       "      <td>67.8542</td>\n",
       "      <td>NaN</td>\n",
       "      <td>NaN</td>\n",
       "      <td>NaN</td>\n",
       "      <td>NaN</td>\n",
       "    </tr>\n",
       "    <tr>\n",
       "      <th>1</th>\n",
       "      <td>68.5614</td>\n",
       "      <td>257.21</td>\n",
       "      <td>559.99</td>\n",
       "      <td>68.5614</td>\n",
       "      <td>1.042235</td>\n",
       "      <td>-1.809506</td>\n",
       "      <td>0.273968</td>\n",
       "      <td>1.042235</td>\n",
       "    </tr>\n",
       "    <tr>\n",
       "      <th>2</th>\n",
       "      <td>66.8428</td>\n",
       "      <td>258.70</td>\n",
       "      <td>556.97</td>\n",
       "      <td>66.8428</td>\n",
       "      <td>-2.506658</td>\n",
       "      <td>0.579293</td>\n",
       "      <td>-0.539295</td>\n",
       "      <td>-2.506658</td>\n",
       "    </tr>\n",
       "    <tr>\n",
       "      <th>3</th>\n",
       "      <td>66.7156</td>\n",
       "      <td>269.47</td>\n",
       "      <td>567.16</td>\n",
       "      <td>66.7156</td>\n",
       "      <td>-0.190297</td>\n",
       "      <td>4.163123</td>\n",
       "      <td>1.829542</td>\n",
       "      <td>-0.190297</td>\n",
       "    </tr>\n",
       "    <tr>\n",
       "      <th>4</th>\n",
       "      <td>66.6556</td>\n",
       "      <td>269.24</td>\n",
       "      <td>567.00</td>\n",
       "      <td>66.6556</td>\n",
       "      <td>-0.089934</td>\n",
       "      <td>-0.085353</td>\n",
       "      <td>-0.028211</td>\n",
       "      <td>-0.089934</td>\n",
       "    </tr>\n",
       "    <tr>\n",
       "      <th>...</th>\n",
       "      <td>...</td>\n",
       "      <td>...</td>\n",
       "      <td>...</td>\n",
       "      <td>...</td>\n",
       "      <td>...</td>\n",
       "      <td>...</td>\n",
       "      <td>...</td>\n",
       "      <td>...</td>\n",
       "    </tr>\n",
       "    <tr>\n",
       "      <th>1254</th>\n",
       "      <td>167.7800</td>\n",
       "      <td>1390.00</td>\n",
       "      <td>NaN</td>\n",
       "      <td>167.7800</td>\n",
       "      <td>0.209043</td>\n",
       "      <td>-4.196734</td>\n",
       "      <td>NaN</td>\n",
       "      <td>0.209043</td>\n",
       "    </tr>\n",
       "    <tr>\n",
       "      <th>1255</th>\n",
       "      <td>160.5000</td>\n",
       "      <td>1429.95</td>\n",
       "      <td>NaN</td>\n",
       "      <td>160.5000</td>\n",
       "      <td>-4.339015</td>\n",
       "      <td>2.874101</td>\n",
       "      <td>NaN</td>\n",
       "      <td>-4.339015</td>\n",
       "    </tr>\n",
       "    <tr>\n",
       "      <th>1256</th>\n",
       "      <td>156.4900</td>\n",
       "      <td>1390.00</td>\n",
       "      <td>NaN</td>\n",
       "      <td>156.4900</td>\n",
       "      <td>-2.498442</td>\n",
       "      <td>-2.793804</td>\n",
       "      <td>NaN</td>\n",
       "      <td>-2.498442</td>\n",
       "    </tr>\n",
       "    <tr>\n",
       "      <th>1257</th>\n",
       "      <td>163.0300</td>\n",
       "      <td>1442.84</td>\n",
       "      <td>NaN</td>\n",
       "      <td>163.0300</td>\n",
       "      <td>4.179181</td>\n",
       "      <td>3.801439</td>\n",
       "      <td>NaN</td>\n",
       "      <td>4.179181</td>\n",
       "    </tr>\n",
       "    <tr>\n",
       "      <th>1258</th>\n",
       "      <td>159.5400</td>\n",
       "      <td>1416.78</td>\n",
       "      <td>NaN</td>\n",
       "      <td>159.5400</td>\n",
       "      <td>-2.140710</td>\n",
       "      <td>-1.806160</td>\n",
       "      <td>NaN</td>\n",
       "      <td>-2.140710</td>\n",
       "    </tr>\n",
       "  </tbody>\n",
       "</table>\n",
       "<p>1259 rows × 8 columns</p>\n",
       "</div>"
      ],
      "text/plain": [
       "      apple_close  amzn_close  goog_close  msft_close  apple_close_pct_change  \\\n",
       "0         67.8542      261.95      558.46     67.8542                     NaN   \n",
       "1         68.5614      257.21      559.99     68.5614                1.042235   \n",
       "2         66.8428      258.70      556.97     66.8428               -2.506658   \n",
       "3         66.7156      269.47      567.16     66.7156               -0.190297   \n",
       "4         66.6556      269.24      567.00     66.6556               -0.089934   \n",
       "...           ...         ...         ...         ...                     ...   \n",
       "1254     167.7800     1390.00         NaN    167.7800                0.209043   \n",
       "1255     160.5000     1429.95         NaN    160.5000               -4.339015   \n",
       "1256     156.4900     1390.00         NaN    156.4900               -2.498442   \n",
       "1257     163.0300     1442.84         NaN    163.0300                4.179181   \n",
       "1258     159.5400     1416.78         NaN    159.5400               -2.140710   \n",
       "\n",
       "      amzn_close_pct_change  goog_close_pct_change  msft_close_pct_change  \n",
       "0                       NaN                    NaN                    NaN  \n",
       "1                 -1.809506               0.273968               1.042235  \n",
       "2                  0.579293              -0.539295              -2.506658  \n",
       "3                  4.163123               1.829542              -0.190297  \n",
       "4                 -0.085353              -0.028211              -0.089934  \n",
       "...                     ...                    ...                    ...  \n",
       "1254              -4.196734                    NaN               0.209043  \n",
       "1255               2.874101                    NaN              -4.339015  \n",
       "1256              -2.793804                    NaN              -2.498442  \n",
       "1257               3.801439                    NaN               4.179181  \n",
       "1258              -1.806160                    NaN              -2.140710  \n",
       "\n",
       "[1259 rows x 8 columns]"
      ]
     },
     "execution_count": 53,
     "metadata": {},
     "output_type": "execute_result"
    }
   ],
   "source": [
    "closing_price"
   ]
  },
  {
   "cell_type": "code",
   "execution_count": 54,
   "id": "2b08a52d",
   "metadata": {},
   "outputs": [
    {
     "data": {
      "text/plain": [
       "Index(['apple_close', 'amzn_close', 'goog_close', 'msft_close',\n",
       "       'apple_close_pct_change', 'amzn_close_pct_change',\n",
       "       'goog_close_pct_change', 'msft_close_pct_change'],\n",
       "      dtype='object')"
      ]
     },
     "execution_count": 54,
     "metadata": {},
     "output_type": "execute_result"
    }
   ],
   "source": [
    "closing_price.columns"
   ]
  },
  {
   "cell_type": "code",
   "execution_count": 55,
   "id": "15503993",
   "metadata": {},
   "outputs": [],
   "source": [
    "closing_p =closing_price[['apple_close_pct_change', 'amzn_close_pct_change',\n",
    "       'goog_close_pct_change', 'msft_close_pct_change']]"
   ]
  },
  {
   "cell_type": "code",
   "execution_count": 56,
   "id": "752d5c26",
   "metadata": {},
   "outputs": [
    {
     "data": {
      "text/html": [
       "<div>\n",
       "<style scoped>\n",
       "    .dataframe tbody tr th:only-of-type {\n",
       "        vertical-align: middle;\n",
       "    }\n",
       "\n",
       "    .dataframe tbody tr th {\n",
       "        vertical-align: top;\n",
       "    }\n",
       "\n",
       "    .dataframe thead th {\n",
       "        text-align: right;\n",
       "    }\n",
       "</style>\n",
       "<table border=\"1\" class=\"dataframe\">\n",
       "  <thead>\n",
       "    <tr style=\"text-align: right;\">\n",
       "      <th></th>\n",
       "      <th>apple_close_pct_change</th>\n",
       "      <th>amzn_close_pct_change</th>\n",
       "      <th>goog_close_pct_change</th>\n",
       "      <th>msft_close_pct_change</th>\n",
       "    </tr>\n",
       "  </thead>\n",
       "  <tbody>\n",
       "    <tr>\n",
       "      <th>0</th>\n",
       "      <td>NaN</td>\n",
       "      <td>NaN</td>\n",
       "      <td>NaN</td>\n",
       "      <td>NaN</td>\n",
       "    </tr>\n",
       "    <tr>\n",
       "      <th>1</th>\n",
       "      <td>1.042235</td>\n",
       "      <td>-1.809506</td>\n",
       "      <td>0.273968</td>\n",
       "      <td>1.042235</td>\n",
       "    </tr>\n",
       "    <tr>\n",
       "      <th>2</th>\n",
       "      <td>-2.506658</td>\n",
       "      <td>0.579293</td>\n",
       "      <td>-0.539295</td>\n",
       "      <td>-2.506658</td>\n",
       "    </tr>\n",
       "    <tr>\n",
       "      <th>3</th>\n",
       "      <td>-0.190297</td>\n",
       "      <td>4.163123</td>\n",
       "      <td>1.829542</td>\n",
       "      <td>-0.190297</td>\n",
       "    </tr>\n",
       "    <tr>\n",
       "      <th>4</th>\n",
       "      <td>-0.089934</td>\n",
       "      <td>-0.085353</td>\n",
       "      <td>-0.028211</td>\n",
       "      <td>-0.089934</td>\n",
       "    </tr>\n",
       "    <tr>\n",
       "      <th>...</th>\n",
       "      <td>...</td>\n",
       "      <td>...</td>\n",
       "      <td>...</td>\n",
       "      <td>...</td>\n",
       "    </tr>\n",
       "    <tr>\n",
       "      <th>1254</th>\n",
       "      <td>0.209043</td>\n",
       "      <td>-4.196734</td>\n",
       "      <td>NaN</td>\n",
       "      <td>0.209043</td>\n",
       "    </tr>\n",
       "    <tr>\n",
       "      <th>1255</th>\n",
       "      <td>-4.339015</td>\n",
       "      <td>2.874101</td>\n",
       "      <td>NaN</td>\n",
       "      <td>-4.339015</td>\n",
       "    </tr>\n",
       "    <tr>\n",
       "      <th>1256</th>\n",
       "      <td>-2.498442</td>\n",
       "      <td>-2.793804</td>\n",
       "      <td>NaN</td>\n",
       "      <td>-2.498442</td>\n",
       "    </tr>\n",
       "    <tr>\n",
       "      <th>1257</th>\n",
       "      <td>4.179181</td>\n",
       "      <td>3.801439</td>\n",
       "      <td>NaN</td>\n",
       "      <td>4.179181</td>\n",
       "    </tr>\n",
       "    <tr>\n",
       "      <th>1258</th>\n",
       "      <td>-2.140710</td>\n",
       "      <td>-1.806160</td>\n",
       "      <td>NaN</td>\n",
       "      <td>-2.140710</td>\n",
       "    </tr>\n",
       "  </tbody>\n",
       "</table>\n",
       "<p>1259 rows × 4 columns</p>\n",
       "</div>"
      ],
      "text/plain": [
       "      apple_close_pct_change  amzn_close_pct_change  goog_close_pct_change  \\\n",
       "0                        NaN                    NaN                    NaN   \n",
       "1                   1.042235              -1.809506               0.273968   \n",
       "2                  -2.506658               0.579293              -0.539295   \n",
       "3                  -0.190297               4.163123               1.829542   \n",
       "4                  -0.089934              -0.085353              -0.028211   \n",
       "...                      ...                    ...                    ...   \n",
       "1254                0.209043              -4.196734                    NaN   \n",
       "1255               -4.339015               2.874101                    NaN   \n",
       "1256               -2.498442              -2.793804                    NaN   \n",
       "1257                4.179181               3.801439                    NaN   \n",
       "1258               -2.140710              -1.806160                    NaN   \n",
       "\n",
       "      msft_close_pct_change  \n",
       "0                       NaN  \n",
       "1                  1.042235  \n",
       "2                 -2.506658  \n",
       "3                 -0.190297  \n",
       "4                 -0.089934  \n",
       "...                     ...  \n",
       "1254               0.209043  \n",
       "1255              -4.339015  \n",
       "1256              -2.498442  \n",
       "1257               4.179181  \n",
       "1258              -2.140710  \n",
       "\n",
       "[1259 rows x 4 columns]"
      ]
     },
     "execution_count": 56,
     "metadata": {},
     "output_type": "execute_result"
    }
   ],
   "source": [
    "closing_p"
   ]
  },
  {
   "cell_type": "code",
   "execution_count": 75,
   "id": "fd3c6df1",
   "metadata": {},
   "outputs": [
    {
     "data": {
      "text/html": [
       "<div>\n",
       "<style scoped>\n",
       "    .dataframe tbody tr th:only-of-type {\n",
       "        vertical-align: middle;\n",
       "    }\n",
       "\n",
       "    .dataframe tbody tr th {\n",
       "        vertical-align: top;\n",
       "    }\n",
       "\n",
       "    .dataframe thead th {\n",
       "        text-align: right;\n",
       "    }\n",
       "</style>\n",
       "<table border=\"1\" class=\"dataframe\">\n",
       "  <thead>\n",
       "    <tr style=\"text-align: right;\">\n",
       "      <th></th>\n",
       "      <th>apple_close_pct_change</th>\n",
       "      <th>amzn_close_pct_change</th>\n",
       "      <th>goog_close_pct_change</th>\n",
       "      <th>msft_close_pct_change</th>\n",
       "    </tr>\n",
       "  </thead>\n",
       "  <tbody>\n",
       "    <tr>\n",
       "      <th>apple_close_pct_change</th>\n",
       "      <td>1.00</td>\n",
       "      <td>0.29</td>\n",
       "      <td>0.04</td>\n",
       "      <td>1.00</td>\n",
       "    </tr>\n",
       "    <tr>\n",
       "      <th>amzn_close_pct_change</th>\n",
       "      <td>0.29</td>\n",
       "      <td>1.00</td>\n",
       "      <td>0.03</td>\n",
       "      <td>0.29</td>\n",
       "    </tr>\n",
       "    <tr>\n",
       "      <th>goog_close_pct_change</th>\n",
       "      <td>0.04</td>\n",
       "      <td>0.03</td>\n",
       "      <td>1.00</td>\n",
       "      <td>0.04</td>\n",
       "    </tr>\n",
       "    <tr>\n",
       "      <th>msft_close_pct_change</th>\n",
       "      <td>1.00</td>\n",
       "      <td>0.29</td>\n",
       "      <td>0.04</td>\n",
       "      <td>1.00</td>\n",
       "    </tr>\n",
       "  </tbody>\n",
       "</table>\n",
       "</div>"
      ],
      "text/plain": [
       "                        apple_close_pct_change  amzn_close_pct_change  \\\n",
       "apple_close_pct_change                    1.00                   0.29   \n",
       "amzn_close_pct_change                     0.29                   1.00   \n",
       "goog_close_pct_change                     0.04                   0.03   \n",
       "msft_close_pct_change                     1.00                   0.29   \n",
       "\n",
       "                        goog_close_pct_change  msft_close_pct_change  \n",
       "apple_close_pct_change                   0.04                   1.00  \n",
       "amzn_close_pct_change                    0.03                   0.29  \n",
       "goog_close_pct_change                    1.00                   0.04  \n",
       "msft_close_pct_change                    0.04                   1.00  "
      ]
     },
     "execution_count": 75,
     "metadata": {},
     "output_type": "execute_result"
    }
   ],
   "source": [
    "closing_p.corr().round(2)"
   ]
  },
  {
   "cell_type": "code",
   "execution_count": 76,
   "id": "413a939a",
   "metadata": {},
   "outputs": [
    {
     "data": {
      "text/plain": [
       "<Axes: >"
      ]
     },
     "execution_count": 76,
     "metadata": {},
     "output_type": "execute_result"
    },
    {
     "data": {
      "image/png": "[encoded data removed]",
      "text/plain": [
       "<Figure size 640x480 with 2 Axes>"
      ]
     },
     "metadata": {},
     "output_type": "display_data"
    }
   ],
   "source": [
    "sns.heatmap(closing_p.corr().round(2), annot=True)"
   ]
  },
  {
   "cell_type": "markdown",
   "id": "76310013",
   "metadata": {},
   "source": [
    "### Observation:\n",
    "\n",
    "1. Very sparse correlation."
   ]
  },
  {
   "cell_type": "markdown",
   "id": "1d759dbc",
   "metadata": {},
   "source": [
    "# B. Examining Stocks of AAPL,GOOG,MSFT,NTFLX for 2023"
   ]
  },
  {
   "cell_type": "code",
   "execution_count": 68,
   "id": "5583e32c",
   "metadata": {},
   "outputs": [
    {
     "data": {
      "text/html": [
       "<div>\n",
       "<style scoped>\n",
       "    .dataframe tbody tr th:only-of-type {\n",
       "        vertical-align: middle;\n",
       "    }\n",
       "\n",
       "    .dataframe tbody tr th {\n",
       "        vertical-align: top;\n",
       "    }\n",
       "\n",
       "    .dataframe thead th {\n",
       "        text-align: right;\n",
       "    }\n",
       "</style>\n",
       "<table border=\"1\" class=\"dataframe\">\n",
       "  <thead>\n",
       "    <tr style=\"text-align: right;\">\n",
       "      <th></th>\n",
       "      <th>Ticker</th>\n",
       "      <th>Date</th>\n",
       "      <th>Open</th>\n",
       "      <th>High</th>\n",
       "      <th>Low</th>\n",
       "      <th>Close</th>\n",
       "      <th>Adj Close</th>\n",
       "      <th>Volume</th>\n",
       "    </tr>\n",
       "  </thead>\n",
       "  <tbody>\n",
       "    <tr>\n",
       "      <th>0</th>\n",
       "      <td>AAPL</td>\n",
       "      <td>2023-02-07</td>\n",
       "      <td>150.639999</td>\n",
       "      <td>155.229996</td>\n",
       "      <td>150.639999</td>\n",
       "      <td>154.649994</td>\n",
       "      <td>154.414230</td>\n",
       "      <td>83322600</td>\n",
       "    </tr>\n",
       "    <tr>\n",
       "      <th>1</th>\n",
       "      <td>AAPL</td>\n",
       "      <td>2023-02-08</td>\n",
       "      <td>153.880005</td>\n",
       "      <td>154.580002</td>\n",
       "      <td>151.169998</td>\n",
       "      <td>151.919998</td>\n",
       "      <td>151.688400</td>\n",
       "      <td>64120100</td>\n",
       "    </tr>\n",
       "    <tr>\n",
       "      <th>2</th>\n",
       "      <td>AAPL</td>\n",
       "      <td>2023-02-09</td>\n",
       "      <td>153.779999</td>\n",
       "      <td>154.330002</td>\n",
       "      <td>150.419998</td>\n",
       "      <td>150.869995</td>\n",
       "      <td>150.639999</td>\n",
       "      <td>56007100</td>\n",
       "    </tr>\n",
       "    <tr>\n",
       "      <th>3</th>\n",
       "      <td>AAPL</td>\n",
       "      <td>2023-02-10</td>\n",
       "      <td>149.460007</td>\n",
       "      <td>151.339996</td>\n",
       "      <td>149.220001</td>\n",
       "      <td>151.009995</td>\n",
       "      <td>151.009995</td>\n",
       "      <td>57450700</td>\n",
       "    </tr>\n",
       "    <tr>\n",
       "      <th>4</th>\n",
       "      <td>AAPL</td>\n",
       "      <td>2023-02-13</td>\n",
       "      <td>150.949997</td>\n",
       "      <td>154.259995</td>\n",
       "      <td>150.919998</td>\n",
       "      <td>153.850006</td>\n",
       "      <td>153.850006</td>\n",
       "      <td>62199000</td>\n",
       "    </tr>\n",
       "    <tr>\n",
       "      <th>5</th>\n",
       "      <td>AAPL</td>\n",
       "      <td>2023-02-14</td>\n",
       "      <td>152.119995</td>\n",
       "      <td>153.770004</td>\n",
       "      <td>150.860001</td>\n",
       "      <td>153.199997</td>\n",
       "      <td>153.199997</td>\n",
       "      <td>61707600</td>\n",
       "    </tr>\n",
       "    <tr>\n",
       "      <th>6</th>\n",
       "      <td>AAPL</td>\n",
       "      <td>2023-02-15</td>\n",
       "      <td>153.110001</td>\n",
       "      <td>155.500000</td>\n",
       "      <td>152.880005</td>\n",
       "      <td>155.330002</td>\n",
       "      <td>155.330002</td>\n",
       "      <td>65573800</td>\n",
       "    </tr>\n",
       "    <tr>\n",
       "      <th>7</th>\n",
       "      <td>AAPL</td>\n",
       "      <td>2023-02-16</td>\n",
       "      <td>153.509995</td>\n",
       "      <td>156.330002</td>\n",
       "      <td>153.350006</td>\n",
       "      <td>153.710007</td>\n",
       "      <td>153.710007</td>\n",
       "      <td>68167900</td>\n",
       "    </tr>\n",
       "    <tr>\n",
       "      <th>8</th>\n",
       "      <td>AAPL</td>\n",
       "      <td>2023-02-17</td>\n",
       "      <td>152.350006</td>\n",
       "      <td>153.000000</td>\n",
       "      <td>150.850006</td>\n",
       "      <td>152.550003</td>\n",
       "      <td>152.550003</td>\n",
       "      <td>59144100</td>\n",
       "    </tr>\n",
       "    <tr>\n",
       "      <th>9</th>\n",
       "      <td>AAPL</td>\n",
       "      <td>2023-02-21</td>\n",
       "      <td>150.199997</td>\n",
       "      <td>151.300003</td>\n",
       "      <td>148.410004</td>\n",
       "      <td>148.479996</td>\n",
       "      <td>148.479996</td>\n",
       "      <td>58867200</td>\n",
       "    </tr>\n",
       "  </tbody>\n",
       "</table>\n",
       "</div>"
      ],
      "text/plain": [
       "  Ticker        Date        Open        High         Low       Close  \\\n",
       "0   AAPL  2023-02-07  150.639999  155.229996  150.639999  154.649994   \n",
       "1   AAPL  2023-02-08  153.880005  154.580002  151.169998  151.919998   \n",
       "2   AAPL  2023-02-09  153.779999  154.330002  150.419998  150.869995   \n",
       "3   AAPL  2023-02-10  149.460007  151.339996  149.220001  151.009995   \n",
       "4   AAPL  2023-02-13  150.949997  154.259995  150.919998  153.850006   \n",
       "5   AAPL  2023-02-14  152.119995  153.770004  150.860001  153.199997   \n",
       "6   AAPL  2023-02-15  153.110001  155.500000  152.880005  155.330002   \n",
       "7   AAPL  2023-02-16  153.509995  156.330002  153.350006  153.710007   \n",
       "8   AAPL  2023-02-17  152.350006  153.000000  150.850006  152.550003   \n",
       "9   AAPL  2023-02-21  150.199997  151.300003  148.410004  148.479996   \n",
       "\n",
       "    Adj Close    Volume  \n",
       "0  154.414230  83322600  \n",
       "1  151.688400  64120100  \n",
       "2  150.639999  56007100  \n",
       "3  151.009995  57450700  \n",
       "4  153.850006  62199000  \n",
       "5  153.199997  61707600  \n",
       "6  155.330002  65573800  \n",
       "7  153.710007  68167900  \n",
       "8  152.550003  59144100  \n",
       "9  148.479996  58867200  "
      ]
     },
     "execution_count": 68,
     "metadata": {},
     "output_type": "execute_result"
    }
   ],
   "source": [
    "stocks_data = pd.read_csv(r'C:\\Users\\AAA\\Desktop/stocks.csv')\n",
    "stocks_data.head(10)"
   ]
  },
  {
   "cell_type": "code",
   "execution_count": 61,
   "id": "2aeef4e6",
   "metadata": {},
   "outputs": [
    {
     "data": {
      "text/html": [
       "<div>\n",
       "<style scoped>\n",
       "    .dataframe tbody tr th:only-of-type {\n",
       "        vertical-align: middle;\n",
       "    }\n",
       "\n",
       "    .dataframe tbody tr th {\n",
       "        vertical-align: top;\n",
       "    }\n",
       "\n",
       "    .dataframe thead th {\n",
       "        text-align: right;\n",
       "    }\n",
       "</style>\n",
       "<table border=\"1\" class=\"dataframe\">\n",
       "  <thead>\n",
       "    <tr style=\"text-align: right;\">\n",
       "      <th></th>\n",
       "      <th>count</th>\n",
       "      <th>mean</th>\n",
       "      <th>std</th>\n",
       "      <th>min</th>\n",
       "      <th>25%</th>\n",
       "      <th>50%</th>\n",
       "      <th>75%</th>\n",
       "      <th>max</th>\n",
       "    </tr>\n",
       "    <tr>\n",
       "      <th>Ticker</th>\n",
       "      <th></th>\n",
       "      <th></th>\n",
       "      <th></th>\n",
       "      <th></th>\n",
       "      <th></th>\n",
       "      <th></th>\n",
       "      <th></th>\n",
       "      <th></th>\n",
       "    </tr>\n",
       "  </thead>\n",
       "  <tbody>\n",
       "    <tr>\n",
       "      <th>AAPL</th>\n",
       "      <td>62.0</td>\n",
       "      <td>158.240645</td>\n",
       "      <td>7.360485</td>\n",
       "      <td>145.309998</td>\n",
       "      <td>152.077499</td>\n",
       "      <td>158.055000</td>\n",
       "      <td>165.162506</td>\n",
       "      <td>173.570007</td>\n",
       "    </tr>\n",
       "    <tr>\n",
       "      <th>GOOG</th>\n",
       "      <td>62.0</td>\n",
       "      <td>100.631532</td>\n",
       "      <td>6.279464</td>\n",
       "      <td>89.349998</td>\n",
       "      <td>94.702501</td>\n",
       "      <td>102.759998</td>\n",
       "      <td>105.962503</td>\n",
       "      <td>109.459999</td>\n",
       "    </tr>\n",
       "    <tr>\n",
       "      <th>MSFT</th>\n",
       "      <td>62.0</td>\n",
       "      <td>275.039839</td>\n",
       "      <td>17.676231</td>\n",
       "      <td>246.270004</td>\n",
       "      <td>258.742500</td>\n",
       "      <td>275.810013</td>\n",
       "      <td>287.217506</td>\n",
       "      <td>310.649994</td>\n",
       "    </tr>\n",
       "    <tr>\n",
       "      <th>NFLX</th>\n",
       "      <td>62.0</td>\n",
       "      <td>327.614677</td>\n",
       "      <td>18.554419</td>\n",
       "      <td>292.760010</td>\n",
       "      <td>315.672493</td>\n",
       "      <td>325.600006</td>\n",
       "      <td>338.899994</td>\n",
       "      <td>366.829987</td>\n",
       "    </tr>\n",
       "  </tbody>\n",
       "</table>\n",
       "</div>"
      ],
      "text/plain": [
       "        count        mean        std         min         25%         50%  \\\n",
       "Ticker                                                                     \n",
       "AAPL     62.0  158.240645   7.360485  145.309998  152.077499  158.055000   \n",
       "GOOG     62.0  100.631532   6.279464   89.349998   94.702501  102.759998   \n",
       "MSFT     62.0  275.039839  17.676231  246.270004  258.742500  275.810013   \n",
       "NFLX     62.0  327.614677  18.554419  292.760010  315.672493  325.600006   \n",
       "\n",
       "               75%         max  \n",
       "Ticker                          \n",
       "AAPL    165.162506  173.570007  \n",
       "GOOG    105.962503  109.459999  \n",
       "MSFT    287.217506  310.649994  \n",
       "NFLX    338.899994  366.829987  "
      ]
     },
     "execution_count": 61,
     "metadata": {},
     "output_type": "execute_result"
    }
   ],
   "source": [
    "# Descriptive Statistics for each stock\n",
    "descriptive_stats = stocks_data.groupby('Ticker')['Close'].describe()\n",
    "descriptive_stats"
   ]
  },
  {
   "cell_type": "markdown",
   "id": "032fe5d1",
   "metadata": {},
   "source": [
    "## 1. Time Series Analysis"
   ]
  },
  {
   "cell_type": "code",
   "execution_count": 62,
   "id": "2ee83453",
   "metadata": {},
   "outputs": [
    {
     "data": {
      "application/vnd.plotly.v1+json": {
       "config": {
        "plotlyServerURL": "https://plot.ly"
       },
       "data": [
        {
         "name": "AAPL",
         "type": "scatter",
         "x": [
          "2023-02-07T00:00:00",
          "2023-02-08T00:00:00",
          "2023-02-09T00:00:00",
          "2023-02-10T00:00:00",
          "2023-02-13T00:00:00",
          "2023-02-14T00:00:00",
          "2023-02-15T00:00:00",
          "2023-02-16T00:00:00",
          "2023-02-17T00:00:00",
          "2023-02-21T00:00:00",
          "2023-02-22T00:00:00",
          "2023-02-23T00:00:00",
          "2023-02-24T00:00:00",
          "2023-02-27T00:00:00",
          "2023-02-28T00:00:00",
          "2023-03-01T00:00:00",
          "2023-03-02T00:00:00",
          "2023-03-03T00:00:00",
          "2023-03-06T00:00:00",
          "2023-03-07T00:00:00",
          "2023-03-08T00:00:00",
          "2023-03-09T00:00:00",
          "2023-03-10T00:00:00",
          "2023-03-13T00:00:00",
          "2023-03-14T00:00:00",
          "2023-03-15T00:00:00",
          "2023-03-16T00:00:00",
          "2023-03-17T00:00:00",
          "2023-03-20T00:00:00",
          "2023-03-21T00:00:00",
          "2023-03-22T00:00:00",
          "2023-03-23T00:00:00",
          "2023-03-24T00:00:00",
          "2023-03-27T00:00:00",
          "2023-03-28T00:00:00",
          "2023-03-29T00:00:00",
          "2023-03-30T00:00:00",
          "2023-03-31T00:00:00",
          "2023-04-03T00:00:00",
          "2023-04-04T00:00:00",
          "2023-04-05T00:00:00",
          "2023-04-06T00:00:00",
          "2023-04-10T00:00:00",
          "2023-04-11T00:00:00",
          "2023-04-12T00:00:00",
          "2023-04-13T00:00:00",
          "2023-04-14T00:00:00",
          "2023-04-17T00:00:00",
          "2023-04-18T00:00:00",
          "2023-04-19T00:00:00",
          "2023-04-20T00:00:00",
          "2023-04-21T00:00:00",
          "2023-04-24T00:00:00",
          "2023-04-25T00:00:00",
          "2023-04-26T00:00:00",
          "2023-04-27T00:00:00",
          "2023-04-28T00:00:00",
          "2023-05-01T00:00:00",
          "2023-05-02T00:00:00",
          "2023-05-03T00:00:00",
          "2023-05-04T00:00:00",
          "2023-05-05T00:00:00"
         ],
         "xaxis": "x",
         "y": [
          154.64999389648438,
          151.9199981689453,
          150.8699951171875,
          151.00999450683594,
          153.85000610351562,
          153.1999969482422,
          155.3300018310547,
          153.7100067138672,
          152.5500030517578,
          148.47999572753906,
          148.91000366210938,
          149.39999389648438,
          146.7100067138672,
          147.9199981689453,
          147.41000366210938,
          145.30999755859375,
          145.91000366210938,
          151.02999877929688,
          153.8300018310547,
          151.60000610351562,
          152.8699951171875,
          150.58999633789062,
          148.5,
          150.47000122070312,
          152.58999633789062,
          152.99000549316406,
          155.85000610351562,
          155,
          157.39999389648438,
          159.27999877929688,
          157.8300018310547,
          158.92999267578125,
          160.25,
          158.27999877929688,
          157.64999389648438,
          160.77000427246094,
          162.36000061035156,
          164.89999389648438,
          166.1699981689453,
          165.6300048828125,
          163.75999450683594,
          164.66000366210938,
          162.02999877929688,
          160.8000030517578,
          160.10000610351562,
          165.55999755859375,
          165.2100067138672,
          165.22999572753906,
          166.47000122070312,
          167.6300048828125,
          166.64999389648438,
          165.02000427246094,
          165.3300018310547,
          163.77000427246094,
          163.75999450683594,
          168.41000366210938,
          169.67999267578125,
          169.58999633789062,
          168.5399932861328,
          167.4499969482422,
          165.7899932861328,
          173.57000732421875
         ],
         "yaxis": "y"
        },
        {
         "name": "GOOG",
         "type": "scatter",
         "x": [
          "2023-02-07T00:00:00",
          "2023-02-08T00:00:00",
          "2023-02-09T00:00:00",
          "2023-02-10T00:00:00",
          "2023-02-13T00:00:00",
          "2023-02-14T00:00:00",
          "2023-02-15T00:00:00",
          "2023-02-16T00:00:00",
          "2023-02-17T00:00:00",
          "2023-02-21T00:00:00",
          "2023-02-22T00:00:00",
          "2023-02-23T00:00:00",
          "2023-02-24T00:00:00",
          "2023-02-27T00:00:00",
          "2023-02-28T00:00:00",
          "2023-03-01T00:00:00",
          "2023-03-02T00:00:00",
          "2023-03-03T00:00:00",
          "2023-03-06T00:00:00",
          "2023-03-07T00:00:00",
          "2023-03-08T00:00:00",
          "2023-03-09T00:00:00",
          "2023-03-10T00:00:00",
          "2023-03-13T00:00:00",
          "2023-03-14T00:00:00",
          "2023-03-15T00:00:00",
          "2023-03-16T00:00:00",
          "2023-03-17T00:00:00",
          "2023-03-20T00:00:00",
          "2023-03-21T00:00:00",
          "2023-03-22T00:00:00",
          "2023-03-23T00:00:00",
          "2023-03-24T00:00:00",
          "2023-03-27T00:00:00",
          "2023-03-28T00:00:00",
          "2023-03-29T00:00:00",
          "2023-03-30T00:00:00",
          "2023-03-31T00:00:00",
          "2023-04-03T00:00:00",
          "2023-04-04T00:00:00",
          "2023-04-05T00:00:00",
          "2023-04-06T00:00:00",
          "2023-04-10T00:00:00",
          "2023-04-11T00:00:00",
          "2023-04-12T00:00:00",
          "2023-04-13T00:00:00",
          "2023-04-14T00:00:00",
          "2023-04-17T00:00:00",
          "2023-04-18T00:00:00",
          "2023-04-19T00:00:00",
          "2023-04-20T00:00:00",
          "2023-04-21T00:00:00",
          "2023-04-24T00:00:00",
          "2023-04-25T00:00:00",
          "2023-04-26T00:00:00",
          "2023-04-27T00:00:00",
          "2023-04-28T00:00:00",
          "2023-05-01T00:00:00",
          "2023-05-02T00:00:00",
          "2023-05-03T00:00:00",
          "2023-05-04T00:00:00",
          "2023-05-05T00:00:00"
         ],
         "xaxis": "x",
         "y": [
          108.04000091552734,
          100,
          95.45999908447266,
          94.86000061035156,
          95,
          94.9499969482422,
          97.0999984741211,
          95.77999877929688,
          94.58999633789062,
          92.0500030517578,
          91.8000030517578,
          91.06999969482422,
          89.3499984741211,
          90.0999984741211,
          90.3000030517578,
          90.51000213623048,
          92.30999755859376,
          94.0199966430664,
          95.58000183105467,
          94.16999816894533,
          94.6500015258789,
          92.66000366210938,
          91.01000213623048,
          91.66000366210938,
          94.25,
          96.5500030517578,
          101.06999969482422,
          102.45999908447266,
          101.93000030517578,
          105.83999633789062,
          104.22000122070312,
          106.26000213623048,
          106.05999755859376,
          103.05999755859376,
          101.36000061035156,
          101.9000015258789,
          101.31999969482422,
          104,
          104.91000366210938,
          105.12000274658205,
          104.9499969482422,
          108.9000015258789,
          106.9499969482422,
          106.12000274658205,
          105.22000122070312,
          108.19000244140624,
          109.45999908447266,
          106.41999816894533,
          105.12000274658205,
          105.0199966430664,
          105.9000015258789,
          105.91000366210938,
          106.77999877929688,
          104.61000061035156,
          104.4499969482422,
          108.37000274658205,
          108.22000122070312,
          107.70999908447266,
          105.9800033569336,
          106.12000274658205,
          105.20999908447266,
          106.21499633789062
         ],
         "yaxis": "y"
        },
        {
         "name": "MSFT",
         "type": "scatter",
         "x": [
          "2023-02-07T00:00:00",
          "2023-02-08T00:00:00",
          "2023-02-09T00:00:00",
          "2023-02-10T00:00:00",
          "2023-02-13T00:00:00",
          "2023-02-14T00:00:00",
          "2023-02-15T00:00:00",
          "2023-02-16T00:00:00",
          "2023-02-17T00:00:00",
          "2023-02-21T00:00:00",
          "2023-02-22T00:00:00",
          "2023-02-23T00:00:00",
          "2023-02-24T00:00:00",
          "2023-02-27T00:00:00",
          "2023-02-28T00:00:00",
          "2023-03-01T00:00:00",
          "2023-03-02T00:00:00",
          "2023-03-03T00:00:00",
          "2023-03-06T00:00:00",
          "2023-03-07T00:00:00",
          "2023-03-08T00:00:00",
          "2023-03-09T00:00:00",
          "2023-03-10T00:00:00",
          "2023-03-13T00:00:00",
          "2023-03-14T00:00:00",
          "2023-03-15T00:00:00",
          "2023-03-16T00:00:00",
          "2023-03-17T00:00:00",
          "2023-03-20T00:00:00",
          "2023-03-21T00:00:00",
          "2023-03-22T00:00:00",
          "2023-03-23T00:00:00",
          "2023-03-24T00:00:00",
          "2023-03-27T00:00:00",
          "2023-03-28T00:00:00",
          "2023-03-29T00:00:00",
          "2023-03-30T00:00:00",
          "2023-03-31T00:00:00",
          "2023-04-03T00:00:00",
          "2023-04-04T00:00:00",
          "2023-04-05T00:00:00",
          "2023-04-06T00:00:00",
          "2023-04-10T00:00:00",
          "2023-04-11T00:00:00",
          "2023-04-12T00:00:00",
          "2023-04-13T00:00:00",
          "2023-04-14T00:00:00",
          "2023-04-17T00:00:00",
          "2023-04-18T00:00:00",
          "2023-04-19T00:00:00",
          "2023-04-20T00:00:00",
          "2023-04-21T00:00:00",
          "2023-04-24T00:00:00",
          "2023-04-25T00:00:00",
          "2023-04-26T00:00:00",
          "2023-04-27T00:00:00",
          "2023-04-28T00:00:00",
          "2023-05-01T00:00:00",
          "2023-05-02T00:00:00",
          "2023-05-03T00:00:00",
          "2023-05-04T00:00:00",
          "2023-05-05T00:00:00"
         ],
         "xaxis": "x",
         "y": [
          267.5599975585937,
          266.7300109863281,
          263.6199951171875,
          263.1000061035156,
          271.32000732421875,
          272.1700134277344,
          269.32000732421875,
          262.1499938964844,
          258.0599975585937,
          252.6699981689453,
          251.50999450683597,
          254.7700042724609,
          249.22000122070312,
          250.16000366210935,
          249.4199981689453,
          246.2700042724609,
          251.1100006103516,
          255.2899932861328,
          256.8699951171875,
          254.1499938964844,
          253.6999969482422,
          252.32000732421875,
          248.58999633789065,
          253.9199981689453,
          260.7900085449219,
          265.44000244140625,
          276.20001220703125,
          279.42999267578125,
          272.2300109863281,
          273.7799987792969,
          272.2900085449219,
          277.6600036621094,
          280.57000732421875,
          276.3800048828125,
          275.2300109863281,
          280.510009765625,
          284.04998779296875,
          288.29998779296875,
          287.2300109863281,
          287.17999267578125,
          284.3399963378906,
          291.6000061035156,
          289.3900146484375,
          282.8299865722656,
          283.489990234375,
          289.8399963378906,
          286.1400146484375,
          288.79998779296875,
          288.3699951171875,
          288.45001220703125,
          286.1099853515625,
          285.760009765625,
          281.7699890136719,
          275.4200134277344,
          295.3699951171875,
          304.8299865722656,
          307.260009765625,
          305.5599975585937,
          305.4100036621094,
          304.3999938964844,
          305.4100036621094,
          310.6499938964844
         ],
         "yaxis": "y"
        },
        {
         "name": "NFLX",
         "type": "scatter",
         "x": [
          "2023-02-07T00:00:00",
          "2023-02-08T00:00:00",
          "2023-02-09T00:00:00",
          "2023-02-10T00:00:00",
          "2023-02-13T00:00:00",
          "2023-02-14T00:00:00",
          "2023-02-15T00:00:00",
          "2023-02-16T00:00:00",
          "2023-02-17T00:00:00",
          "2023-02-21T00:00:00",
          "2023-02-22T00:00:00",
          "2023-02-23T00:00:00",
          "2023-02-24T00:00:00",
          "2023-02-27T00:00:00",
          "2023-02-28T00:00:00",
          "2023-03-01T00:00:00",
          "2023-03-02T00:00:00",
          "2023-03-03T00:00:00",
          "2023-03-06T00:00:00",
          "2023-03-07T00:00:00",
          "2023-03-08T00:00:00",
          "2023-03-09T00:00:00",
          "2023-03-10T00:00:00",
          "2023-03-13T00:00:00",
          "2023-03-14T00:00:00",
          "2023-03-15T00:00:00",
          "2023-03-16T00:00:00",
          "2023-03-17T00:00:00",
          "2023-03-20T00:00:00",
          "2023-03-21T00:00:00",
          "2023-03-22T00:00:00",
          "2023-03-23T00:00:00",
          "2023-03-24T00:00:00",
          "2023-03-27T00:00:00",
          "2023-03-28T00:00:00",
          "2023-03-29T00:00:00",
          "2023-03-30T00:00:00",
          "2023-03-31T00:00:00",
          "2023-04-03T00:00:00",
          "2023-04-04T00:00:00",
          "2023-04-05T00:00:00",
          "2023-04-06T00:00:00",
          "2023-04-10T00:00:00",
          "2023-04-11T00:00:00",
          "2023-04-12T00:00:00",
          "2023-04-13T00:00:00",
          "2023-04-14T00:00:00",
          "2023-04-17T00:00:00",
          "2023-04-18T00:00:00",
          "2023-04-19T00:00:00",
          "2023-04-20T00:00:00",
          "2023-04-21T00:00:00",
          "2023-04-24T00:00:00",
          "2023-04-25T00:00:00",
          "2023-04-26T00:00:00",
          "2023-04-27T00:00:00",
          "2023-04-28T00:00:00",
          "2023-05-01T00:00:00",
          "2023-05-02T00:00:00",
          "2023-05-03T00:00:00",
          "2023-05-04T00:00:00",
          "2023-05-05T00:00:00"
         ],
         "xaxis": "x",
         "y": [
          362.9500122070313,
          366.8299865722656,
          362.5,
          347.3599853515625,
          358.57000732421875,
          359.9599914550781,
          361.4200134277344,
          350.7099914550781,
          347.9599914550781,
          337.5,
          334.8800048828125,
          323.6499938964844,
          317.1499938964844,
          323.0299987792969,
          322.1300048828125,
          313.4800109863281,
          311.8800048828125,
          315.17999267578125,
          312.0299987792969,
          308.4700012207031,
          311.7900085449219,
          297.7799987792969,
          292.760009765625,
          293.510009765625,
          294.94000244140625,
          303.7900085449219,
          310.0599975585937,
          303.5,
          305.1300048828125,
          305.7900085449219,
          293.8999938964844,
          320.3699951171875,
          328.3900146484375,
          327.6600036621094,
          323.5199890136719,
          332.0299987792969,
          338.42999267578125,
          345.4800109863281,
          348.2799987792969,
          346.75,
          342.3500061035156,
          339.3299865722656,
          338.989990234375,
          338.2099914550781,
          331.0299987792969,
          346.19000244140625,
          338.6300048828125,
          332.7200012207031,
          333.70001220703125,
          323.1199951171875,
          325.3500061035156,
          327.9800109863281,
          329.0199890136719,
          322.54998779296875,
          321.1499938964844,
          325.8500061035156,
          329.92999267578125,
          324.1199951171875,
          317.54998779296875,
          319.29998779296875,
          320.7799987792969,
          322.760009765625
         ],
         "yaxis": "y"
        }
       ],
       "layout": {
        "legend": {
         "title": {
          "text": "Ticker"
         }
        },
        "showlegend": true,
        "template": {
         "data": {
          "bar": [
           {
            "error_x": {
             "color": "#2a3f5f"
            },
            "error_y": {
             "color": "#2a3f5f"
            },
            "marker": {
             "line": {
              "color": "#E5ECF6",
              "width": 0.5
             },
             "pattern": {
              "fillmode": "overlay",
              "size": 10,
              "solidity": 0.2
             }
            },
            "type": "bar"
           }
          ],
          "barpolar": [
           {
            "marker": {
             "line": {
              "color": "#E5ECF6",
              "width": 0.5
             },
             "pattern": {
              "fillmode": "overlay",
              "size": 10,
              "solidity": 0.2
             }
            },
            "type": "barpolar"
           }
          ],
          "carpet": [
           {
            "aaxis": {
             "endlinecolor": "#2a3f5f",
             "gridcolor": "white",
             "linecolor": "white",
             "minorgridcolor": "white",
             "startlinecolor": "#2a3f5f"
            },
            "baxis": {
             "endlinecolor": "#2a3f5f",
             "gridcolor": "white",
             "linecolor": "white",
             "minorgridcolor": "white",
             "startlinecolor": "#2a3f5f"
            },
            "type": "carpet"
           }
          ],
          "choropleth": [
           {
            "colorbar": {
             "outlinewidth": 0,
             "ticks": ""
            },
            "type": "choropleth"
           }
          ],
          "contour": [
           {
            "colorbar": {
             "outlinewidth": 0,
             "ticks": ""
            },
            "colorscale": [
             [
              0,
              "#0d0887"
             ],
             [
              0.1111111111111111,
              "#46039f"
             ],
             [
              0.2222222222222222,
              "#7201a8"
             ],
             [
              0.3333333333333333,
              "#9c179e"
             ],
             [
              0.4444444444444444,
              "#bd3786"
             ],
             [
              0.5555555555555556,
              "#d8576b"
             ],
             [
              0.6666666666666666,
              "#ed7953"
             ],
             [
              0.7777777777777778,
              "#fb9f3a"
             ],
             [
              0.8888888888888888,
              "#fdca26"
             ],
             [
              1,
              "#f0f921"
             ]
            ],
            "type": "contour"
           }
          ],
          "contourcarpet": [
           {
            "colorbar": {
             "outlinewidth": 0,
             "ticks": ""
            },
            "type": "contourcarpet"
           }
          ],
          "heatmap": [
           {
            "colorbar": {
             "outlinewidth": 0,
             "ticks": ""
            },
            "colorscale": [
             [
              0,
              "#0d0887"
             ],
             [
              0.1111111111111111,
              "#46039f"
             ],
             [
              0.2222222222222222,
              "#7201a8"
             ],
             [
              0.3333333333333333,
              "#9c179e"
             ],
             [
              0.4444444444444444,
              "#bd3786"
             ],
             [
              0.5555555555555556,
              "#d8576b"
             ],
             [
              0.6666666666666666,
              "#ed7953"
             ],
             [
              0.7777777777777778,
              "#fb9f3a"
             ],
             [
              0.8888888888888888,
              "#fdca26"
             ],
             [
              1,
              "#f0f921"
             ]
            ],
            "type": "heatmap"
           }
          ],
          "heatmapgl": [
           {
            "colorbar": {
             "outlinewidth": 0,
             "ticks": ""
            },
            "colorscale": [
             [
              0,
              "#0d0887"
             ],
             [
              0.1111111111111111,
              "#46039f"
             ],
             [
              0.2222222222222222,
              "#7201a8"
             ],
             [
              0.3333333333333333,
              "#9c179e"
             ],
             [
              0.4444444444444444,
              "#bd3786"
             ],
             [
              0.5555555555555556,
              "#d8576b"
             ],
             [
              0.6666666666666666,
              "#ed7953"
             ],
             [
              0.7777777777777778,
              "#fb9f3a"
             ],
             [
              0.8888888888888888,
              "#fdca26"
             ],
             [
              1,
              "#f0f921"
             ]
            ],
            "type": "heatmapgl"
           }
          ],
          "histogram": [
           {
            "marker": {
             "pattern": {
              "fillmode": "overlay",
              "size": 10,
              "solidity": 0.2
             }
            },
            "type": "histogram"
           }
          ],
          "histogram2d": [
           {
            "colorbar": {
             "outlinewidth": 0,
             "ticks": ""
            },
            "colorscale": [
             [
              0,
              "#0d0887"
             ],
             [
              0.1111111111111111,
              "#46039f"
             ],
             [
              0.2222222222222222,
              "#7201a8"
             ],
             [
              0.3333333333333333,
              "#9c179e"
             ],
             [
              0.4444444444444444,
              "#bd3786"
             ],
             [
              0.5555555555555556,
              "#d8576b"
             ],
             [
              0.6666666666666666,
              "#ed7953"
             ],
             [
              0.7777777777777778,
              "#fb9f3a"
             ],
             [
              0.8888888888888888,
              "#fdca26"
             ],
             [
              1,
              "#f0f921"
             ]
            ],
            "type": "histogram2d"
           }
          ],
          "histogram2dcontour": [
           {
            "colorbar": {
             "outlinewidth": 0,
             "ticks": ""
            },
            "colorscale": [
             [
              0,
              "#0d0887"
             ],
             [
              0.1111111111111111,
              "#46039f"
             ],
             [
              0.2222222222222222,
              "#7201a8"
             ],
             [
              0.3333333333333333,
              "#9c179e"
             ],
             [
              0.4444444444444444,
              "#bd3786"
             ],
             [
              0.5555555555555556,
              "#d8576b"
             ],
             [
              0.6666666666666666,
              "#ed7953"
             ],
             [
              0.7777777777777778,
              "#fb9f3a"
             ],
             [
              0.8888888888888888,
              "#fdca26"
             ],
             [
              1,
              "#f0f921"
             ]
            ],
            "type": "histogram2dcontour"
           }
          ],
          "mesh3d": [
           {
            "colorbar": {
             "outlinewidth": 0,
             "ticks": ""
            },
            "type": "mesh3d"
           }
          ],
          "parcoords": [
           {
            "line": {
             "colorbar": {
              "outlinewidth": 0,
              "ticks": ""
             }
            },
            "type": "parcoords"
           }
          ],
          "pie": [
           {
            "automargin": true,
            "type": "pie"
           }
          ],
          "scatter": [
           {
            "fillpattern": {
             "fillmode": "overlay",
             "size": 10,
             "solidity": 0.2
            },
            "type": "scatter"
           }
          ],
          "scatter3d": [
           {
            "line": {
             "colorbar": {
              "outlinewidth": 0,
              "ticks": ""
             }
            },
            "marker": {
             "colorbar": {
              "outlinewidth": 0,
              "ticks": ""
             }
            },
            "type": "scatter3d"
           }
          ],
          "scattercarpet": [
           {
            "marker": {
             "colorbar": {
              "outlinewidth": 0,
              "ticks": ""
             }
            },
            "type": "scattercarpet"
           }
          ],
          "scattergeo": [
           {
            "marker": {
             "colorbar": {
              "outlinewidth": 0,
              "ticks": ""
             }
            },
            "type": "scattergeo"
           }
          ],
          "scattergl": [
           {
            "marker": {
             "colorbar": {
              "outlinewidth": 0,
              "ticks": ""
             }
            },
            "type": "scattergl"
           }
          ],
          "scattermapbox": [
           {
            "marker": {
             "colorbar": {
              "outlinewidth": 0,
              "ticks": ""
             }
            },
            "type": "scattermapbox"
           }
          ],
          "scatterpolar": [
           {
            "marker": {
             "colorbar": {
              "outlinewidth": 0,
              "ticks": ""
             }
            },
            "type": "scatterpolar"
           }
          ],
          "scatterpolargl": [
           {
            "marker": {
             "colorbar": {
              "outlinewidth": 0,
              "ticks": ""
             }
            },
            "type": "scatterpolargl"
           }
          ],
          "scatterternary": [
           {
            "marker": {
             "colorbar": {
              "outlinewidth": 0,
              "ticks": ""
             }
            },
            "type": "scatterternary"
           }
          ],
          "surface": [
           {
            "colorbar": {
             "outlinewidth": 0,
             "ticks": ""
            },
            "colorscale": [
             [
              0,
              "#0d0887"
             ],
             [
              0.1111111111111111,
              "#46039f"
             ],
             [
              0.2222222222222222,
              "#7201a8"
             ],
             [
              0.3333333333333333,
              "#9c179e"
             ],
             [
              0.4444444444444444,
              "#bd3786"
             ],
             [
              0.5555555555555556,
              "#d8576b"
             ],
             [
              0.6666666666666666,
              "#ed7953"
             ],
             [
              0.7777777777777778,
              "#fb9f3a"
             ],
             [
              0.8888888888888888,
              "#fdca26"
             ],
             [
              1,
              "#f0f921"
             ]
            ],
            "type": "surface"
           }
          ],
          "table": [
           {
            "cells": {
             "fill": {
              "color": "#EBF0F8"
             },
             "line": {
              "color": "white"
             }
            },
            "header": {
             "fill": {
              "color": "#C8D4E3"
             },
             "line": {
              "color": "white"
             }
            },
            "type": "table"
           }
          ]
         },
         "layout": {
          "annotationdefaults": {
           "arrowcolor": "#2a3f5f",
           "arrowhead": 0,
           "arrowwidth": 1
          },
          "autotypenumbers": "strict",
          "coloraxis": {
           "colorbar": {
            "outlinewidth": 0,
            "ticks": ""
           }
          },
          "colorscale": {
           "diverging": [
            [
             0,
             "#8e0152"
            ],
            [
             0.1,
             "#c51b7d"
            ],
            [
             0.2,
             "#de77ae"
            ],
            [
             0.3,
             "#f1b6da"
            ],
            [
             0.4,
             "#fde0ef"
            ],
            [
             0.5,
             "#f7f7f7"
            ],
            [
             0.6,
             "#e6f5d0"
            ],
            [
             0.7,
             "#b8e186"
            ],
            [
             0.8,
             "#7fbc41"
            ],
            [
             0.9,
             "#4d9221"
            ],
            [
             1,
             "#276419"
            ]
           ],
           "sequential": [
            [
             0,
             "#0d0887"
            ],
            [
             0.1111111111111111,
             "#46039f"
            ],
            [
             0.2222222222222222,
             "#7201a8"
            ],
            [
             0.3333333333333333,
             "#9c179e"
            ],
            [
             0.4444444444444444,
             "#bd3786"
            ],
            [
             0.5555555555555556,
             "#d8576b"
            ],
            [
             0.6666666666666666,
             "#ed7953"
            ],
            [
             0.7777777777777778,
             "#fb9f3a"
            ],
            [
             0.8888888888888888,
             "#fdca26"
            ],
            [
             1,
             "#f0f921"
            ]
           ],
           "sequentialminus": [
            [
             0,
             "#0d0887"
            ],
            [
             0.1111111111111111,
             "#46039f"
            ],
            [
             0.2222222222222222,
             "#7201a8"
            ],
            [
             0.3333333333333333,
             "#9c179e"
            ],
            [
             0.4444444444444444,
             "#bd3786"
            ],
            [
             0.5555555555555556,
             "#d8576b"
            ],
            [
             0.6666666666666666,
             "#ed7953"
            ],
            [
             0.7777777777777778,
             "#fb9f3a"
            ],
            [
             0.8888888888888888,
             "#fdca26"
            ],
            [
             1,
             "#f0f921"
            ]
           ]
          },
          "colorway": [
           "#636efa",
           "#EF553B",
           "#00cc96",
           "#ab63fa",
           "#FFA15A",
           "#19d3f3",
           "#FF6692",
           "#B6E880",
           "#FF97FF",
           "#FECB52"
          ],
          "font": {
           "color": "#2a3f5f"
          },
          "geo": {
           "bgcolor": "white",
           "lakecolor": "white",
           "landcolor": "#E5ECF6",
           "showlakes": true,
           "showland": true,
           "subunitcolor": "white"
          },
          "hoverlabel": {
           "align": "left"
          },
          "hovermode": "closest",
          "mapbox": {
           "style": "light"
          },
          "paper_bgcolor": "white",
          "plot_bgcolor": "#E5ECF6",
          "polar": {
           "angularaxis": {
            "gridcolor": "white",
            "linecolor": "white",
            "ticks": ""
           },
           "bgcolor": "#E5ECF6",
           "radialaxis": {
            "gridcolor": "white",
            "linecolor": "white",
            "ticks": ""
           }
          },
          "scene": {
           "xaxis": {
            "backgroundcolor": "#E5ECF6",
            "gridcolor": "white",
            "gridwidth": 2,
            "linecolor": "white",
            "showbackground": true,
            "ticks": "",
            "zerolinecolor": "white"
           },
           "yaxis": {
            "backgroundcolor": "#E5ECF6",
            "gridcolor": "white",
            "gridwidth": 2,
            "linecolor": "white",
            "showbackground": true,
            "ticks": "",
            "zerolinecolor": "white"
           },
           "zaxis": {
            "backgroundcolor": "#E5ECF6",
            "gridcolor": "white",
            "gridwidth": 2,
            "linecolor": "white",
            "showbackground": true,
            "ticks": "",
            "zerolinecolor": "white"
           }
          },
          "shapedefaults": {
           "line": {
            "color": "#2a3f5f"
           }
          },
          "ternary": {
           "aaxis": {
            "gridcolor": "white",
            "linecolor": "white",
            "ticks": ""
           },
           "baxis": {
            "gridcolor": "white",
            "linecolor": "white",
            "ticks": ""
           },
           "bgcolor": "#E5ECF6",
           "caxis": {
            "gridcolor": "white",
            "linecolor": "white",
            "ticks": ""
           }
          },
          "title": {
           "x": 0.05
          },
          "xaxis": {
           "automargin": true,
           "gridcolor": "white",
           "linecolor": "white",
           "ticks": "",
           "title": {
            "standoff": 15
           },
           "zerolinecolor": "white",
           "zerolinewidth": 2
          },
          "yaxis": {
           "automargin": true,
           "gridcolor": "white",
           "linecolor": "white",
           "ticks": "",
           "title": {
            "standoff": 15
           },
           "zerolinecolor": "white",
           "zerolinewidth": 2
          }
         }
        },
        "title": {
         "text": "Time Series of Closing Prices"
        },
        "xaxis": {
         "anchor": "y",
         "domain": [
          0,
          1
         ],
         "title": {
          "text": "Date"
         }
        },
        "yaxis": {
         "anchor": "x",
         "domain": [
          0,
          1
         ],
         "title": {
          "text": "Closing Price"
         }
        }
       }
      },
      "text/html": [
       "<div>                            <div id=\"3250538c-6722-4271-b038-b8e0753838e5\" class=\"plotly-graph-div\" style=\"height:525px; width:100%;\"></div>            <script type=\"text/javascript\">                require([\"plotly\"], function(Plotly) {                    window.PLOTLYENV=window.PLOTLYENV || {};                                    if (document.getElementById(\"3250538c-6722-4271-b038-b8e0753838e5\")) {                    Plotly.newPlot(                        \"3250538c-6722-4271-b038-b8e0753838e5\",                        [{\"name\":\"AAPL\",\"x\":[\"2023-02-07T00:00:00\",\"2023-02-08T00:00:00\",\"2023-02-09T00:00:00\",\"2023-02-10T00:00:00\",\"2023-02-13T00:00:00\",\"2023-02-14T00:00:00\",\"2023-02-15T00:00:00\",\"2023-02-16T00:00:00\",\"2023-02-17T00:00:00\",\"2023-02-21T00:00:00\",\"2023-02-22T00:00:00\",\"2023-02-23T00:00:00\",\"2023-02-24T00:00:00\",\"2023-02-27T00:00:00\",\"2023-02-28T00:00:00\",\"2023-03-01T00:00:00\",\"2023-03-02T00:00:00\",\"2023-03-03T00:00:00\",\"2023-03-06T00:00:00\",\"2023-03-07T00:00:00\",\"2023-03-08T00:00:00\",\"2023-03-09T00:00:00\",\"2023-03-10T00:00:00\",\"2023-03-13T00:00:00\",\"2023-03-14T00:00:00\",\"2023-03-15T00:00:00\",\"2023-03-16T00:00:00\",\"2023-03-17T00:00:00\",\"2023-03-20T00:00:00\",\"2023-03-21T00:00:00\",\"2023-03-22T00:00:00\",\"2023-03-23T00:00:00\",\"2023-03-24T00:00:00\",\"2023-03-27T00:00:00\",\"2023-03-28T00:00:00\",\"2023-03-29T00:00:00\",\"2023-03-30T00:00:00\",\"2023-03-31T00:00:00\",\"2023-04-03T00:00:00\",\"2023-04-04T00:00:00\",\"2023-04-05T00:00:00\",\"2023-04-06T00:00:00\",\"2023-04-10T00:00:00\",\"2023-04-11T00:00:00\",\"2023-04-12T00:00:00\",\"2023-04-13T00:00:00\",\"2023-04-14T00:00:00\",\"2023-04-17T00:00:00\",\"2023-04-18T00:00:00\",\"2023-04-19T00:00:00\",\"2023-04-20T00:00:00\",\"2023-04-21T00:00:00\",\"2023-04-24T00:00:00\",\"2023-04-25T00:00:00\",\"2023-04-26T00:00:00\",\"2023-04-27T00:00:00\",\"2023-04-28T00:00:00\",\"2023-05-01T00:00:00\",\"2023-05-02T00:00:00\",\"2023-05-03T00:00:00\",\"2023-05-04T00:00:00\",\"2023-05-05T00:00:00\"],\"y\":[154.64999389648438,151.9199981689453,150.8699951171875,151.00999450683594,153.85000610351562,153.1999969482422,155.3300018310547,153.7100067138672,152.5500030517578,148.47999572753906,148.91000366210938,149.39999389648438,146.7100067138672,147.9199981689453,147.41000366210938,145.30999755859375,145.91000366210938,151.02999877929688,153.8300018310547,151.60000610351562,152.8699951171875,150.58999633789062,148.5,150.47000122070312,152.58999633789062,152.99000549316406,155.85000610351562,155.0,157.39999389648438,159.27999877929688,157.8300018310547,158.92999267578125,160.25,158.27999877929688,157.64999389648438,160.77000427246094,162.36000061035156,164.89999389648438,166.1699981689453,165.6300048828125,163.75999450683594,164.66000366210938,162.02999877929688,160.8000030517578,160.10000610351562,165.55999755859375,165.2100067138672,165.22999572753906,166.47000122070312,167.6300048828125,166.64999389648438,165.02000427246094,165.3300018310547,163.77000427246094,163.75999450683594,168.41000366210938,169.67999267578125,169.58999633789062,168.5399932861328,167.4499969482422,165.7899932861328,173.57000732421875],\"type\":\"scatter\",\"xaxis\":\"x\",\"yaxis\":\"y\"},{\"name\":\"GOOG\",\"x\":[\"2023-02-07T00:00:00\",\"2023-02-08T00:00:00\",\"2023-02-09T00:00:00\",\"2023-02-10T00:00:00\",\"2023-02-13T00:00:00\",\"2023-02-14T00:00:00\",\"2023-02-15T00:00:00\",\"2023-02-16T00:00:00\",\"2023-02-17T00:00:00\",\"2023-02-21T00:00:00\",\"2023-02-22T00:00:00\",\"2023-02-23T00:00:00\",\"2023-02-24T00:00:00\",\"2023-02-27T00:00:00\",\"2023-02-28T00:00:00\",\"2023-03-01T00:00:00\",\"2023-03-02T00:00:00\",\"2023-03-03T00:00:00\",\"2023-03-06T00:00:00\",\"2023-03-07T00:00:00\",\"2023-03-08T00:00:00\",\"2023-03-09T00:00:00\",\"2023-03-10T00:00:00\",\"2023-03-13T00:00:00\",\"2023-03-14T00:00:00\",\"2023-03-15T00:00:00\",\"2023-03-16T00:00:00\",\"2023-03-17T00:00:00\",\"2023-03-20T00:00:00\",\"2023-03-21T00:00:00\",\"2023-03-22T00:00:00\",\"2023-03-23T00:00:00\",\"2023-03-24T00:00:00\",\"2023-03-27T00:00:00\",\"2023-03-28T00:00:00\",\"2023-03-29T00:00:00\",\"2023-03-30T00:00:00\",\"2023-03-31T00:00:00\",\"2023-04-03T00:00:00\",\"2023-04-04T00:00:00\",\"2023-04-05T00:00:00\",\"2023-04-06T00:00:00\",\"2023-04-10T00:00:00\",\"2023-04-11T00:00:00\",\"2023-04-12T00:00:00\",\"2023-04-13T00:00:00\",\"2023-04-14T00:00:00\",\"2023-04-17T00:00:00\",\"2023-04-18T00:00:00\",\"2023-04-19T00:00:00\",\"2023-04-20T00:00:00\",\"2023-04-21T00:00:00\",\"2023-04-24T00:00:00\",\"2023-04-25T00:00:00\",\"2023-04-26T00:00:00\",\"2023-04-27T00:00:00\",\"2023-04-28T00:00:00\",\"2023-05-01T00:00:00\",\"2023-05-02T00:00:00\",\"2023-05-03T00:00:00\",\"2023-05-04T00:00:00\",\"2023-05-05T00:00:00\"],\"y\":[108.04000091552734,100.0,95.45999908447266,94.86000061035156,95.0,94.9499969482422,97.0999984741211,95.77999877929688,94.58999633789062,92.0500030517578,91.8000030517578,91.06999969482422,89.3499984741211,90.0999984741211,90.3000030517578,90.51000213623048,92.30999755859376,94.0199966430664,95.58000183105467,94.16999816894533,94.6500015258789,92.66000366210938,91.01000213623048,91.66000366210938,94.25,96.5500030517578,101.06999969482422,102.45999908447266,101.93000030517578,105.83999633789062,104.22000122070312,106.26000213623048,106.05999755859376,103.05999755859376,101.36000061035156,101.9000015258789,101.31999969482422,104.0,104.91000366210938,105.12000274658205,104.9499969482422,108.9000015258789,106.9499969482422,106.12000274658205,105.22000122070312,108.19000244140624,109.45999908447266,106.41999816894533,105.12000274658205,105.0199966430664,105.9000015258789,105.91000366210938,106.77999877929688,104.61000061035156,104.4499969482422,108.37000274658205,108.22000122070312,107.70999908447266,105.9800033569336,106.12000274658205,105.20999908447266,106.21499633789062],\"type\":\"scatter\",\"xaxis\":\"x\",\"yaxis\":\"y\"},{\"name\":\"MSFT\",\"x\":[\"2023-02-07T00:00:00\",\"2023-02-08T00:00:00\",\"2023-02-09T00:00:00\",\"2023-02-10T00:00:00\",\"2023-02-13T00:00:00\",\"2023-02-14T00:00:00\",\"2023-02-15T00:00:00\",\"2023-02-16T00:00:00\",\"2023-02-17T00:00:00\",\"2023-02-21T00:00:00\",\"2023-02-22T00:00:00\",\"2023-02-23T00:00:00\",\"2023-02-24T00:00:00\",\"2023-02-27T00:00:00\",\"2023-02-28T00:00:00\",\"2023-03-01T00:00:00\",\"2023-03-02T00:00:00\",\"2023-03-03T00:00:00\",\"2023-03-06T00:00:00\",\"2023-03-07T00:00:00\",\"2023-03-08T00:00:00\",\"2023-03-09T00:00:00\",\"2023-03-10T00:00:00\",\"2023-03-13T00:00:00\",\"2023-03-14T00:00:00\",\"2023-03-15T00:00:00\",\"2023-03-16T00:00:00\",\"2023-03-17T00:00:00\",\"2023-03-20T00:00:00\",\"2023-03-21T00:00:00\",\"2023-03-22T00:00:00\",\"2023-03-23T00:00:00\",\"2023-03-24T00:00:00\",\"2023-03-27T00:00:00\",\"2023-03-28T00:00:00\",\"2023-03-29T00:00:00\",\"2023-03-30T00:00:00\",\"2023-03-31T00:00:00\",\"2023-04-03T00:00:00\",\"2023-04-04T00:00:00\",\"2023-04-05T00:00:00\",\"2023-04-06T00:00:00\",\"2023-04-10T00:00:00\",\"2023-04-11T00:00:00\",\"2023-04-12T00:00:00\",\"2023-04-13T00:00:00\",\"2023-04-14T00:00:00\",\"2023-04-17T00:00:00\",\"2023-04-18T00:00:00\",\"2023-04-19T00:00:00\",\"2023-04-20T00:00:00\",\"2023-04-21T00:00:00\",\"2023-04-24T00:00:00\",\"2023-04-25T00:00:00\",\"2023-04-26T00:00:00\",\"2023-04-27T00:00:00\",\"2023-04-28T00:00:00\",\"2023-05-01T00:00:00\",\"2023-05-02T00:00:00\",\"2023-05-03T00:00:00\",\"2023-05-04T00:00:00\",\"2023-05-05T00:00:00\"],\"y\":[267.5599975585937,266.7300109863281,263.6199951171875,263.1000061035156,271.32000732421875,272.1700134277344,269.32000732421875,262.1499938964844,258.0599975585937,252.6699981689453,251.50999450683597,254.7700042724609,249.22000122070312,250.16000366210935,249.4199981689453,246.2700042724609,251.1100006103516,255.2899932861328,256.8699951171875,254.1499938964844,253.6999969482422,252.32000732421875,248.58999633789065,253.9199981689453,260.7900085449219,265.44000244140625,276.20001220703125,279.42999267578125,272.2300109863281,273.7799987792969,272.2900085449219,277.6600036621094,280.57000732421875,276.3800048828125,275.2300109863281,280.510009765625,284.04998779296875,288.29998779296875,287.2300109863281,287.17999267578125,284.3399963378906,291.6000061035156,289.3900146484375,282.8299865722656,283.489990234375,289.8399963378906,286.1400146484375,288.79998779296875,288.3699951171875,288.45001220703125,286.1099853515625,285.760009765625,281.7699890136719,275.4200134277344,295.3699951171875,304.8299865722656,307.260009765625,305.5599975585937,305.4100036621094,304.3999938964844,305.4100036621094,310.6499938964844],\"type\":\"scatter\",\"xaxis\":\"x\",\"yaxis\":\"y\"},{\"name\":\"NFLX\",\"x\":[\"2023-02-07T00:00:00\",\"2023-02-08T00:00:00\",\"2023-02-09T00:00:00\",\"2023-02-10T00:00:00\",\"2023-02-13T00:00:00\",\"2023-02-14T00:00:00\",\"2023-02-15T00:00:00\",\"2023-02-16T00:00:00\",\"2023-02-17T00:00:00\",\"2023-02-21T00:00:00\",\"2023-02-22T00:00:00\",\"2023-02-23T00:00:00\",\"2023-02-24T00:00:00\",\"2023-02-27T00:00:00\",\"2023-02-28T00:00:00\",\"2023-03-01T00:00:00\",\"2023-03-02T00:00:00\",\"2023-03-03T00:00:00\",\"2023-03-06T00:00:00\",\"2023-03-07T00:00:00\",\"2023-03-08T00:00:00\",\"2023-03-09T00:00:00\",\"2023-03-10T00:00:00\",\"2023-03-13T00:00:00\",\"2023-03-14T00:00:00\",\"2023-03-15T00:00:00\",\"2023-03-16T00:00:00\",\"2023-03-17T00:00:00\",\"2023-03-20T00:00:00\",\"2023-03-21T00:00:00\",\"2023-03-22T00:00:00\",\"2023-03-23T00:00:00\",\"2023-03-24T00:00:00\",\"2023-03-27T00:00:00\",\"2023-03-28T00:00:00\",\"2023-03-29T00:00:00\",\"2023-03-30T00:00:00\",\"2023-03-31T00:00:00\",\"2023-04-03T00:00:00\",\"2023-04-04T00:00:00\",\"2023-04-05T00:00:00\",\"2023-04-06T00:00:00\",\"2023-04-10T00:00:00\",\"2023-04-11T00:00:00\",\"2023-04-12T00:00:00\",\"2023-04-13T00:00:00\",\"2023-04-14T00:00:00\",\"2023-04-17T00:00:00\",\"2023-04-18T00:00:00\",\"2023-04-19T00:00:00\",\"2023-04-20T00:00:00\",\"2023-04-21T00:00:00\",\"2023-04-24T00:00:00\",\"2023-04-25T00:00:00\",\"2023-04-26T00:00:00\",\"2023-04-27T00:00:00\",\"2023-04-28T00:00:00\",\"2023-05-01T00:00:00\",\"2023-05-02T00:00:00\",\"2023-05-03T00:00:00\",\"2023-05-04T00:00:00\",\"2023-05-05T00:00:00\"],\"y\":[362.9500122070313,366.8299865722656,362.5,347.3599853515625,358.57000732421875,359.9599914550781,361.4200134277344,350.7099914550781,347.9599914550781,337.5,334.8800048828125,323.6499938964844,317.1499938964844,323.0299987792969,322.1300048828125,313.4800109863281,311.8800048828125,315.17999267578125,312.0299987792969,308.4700012207031,311.7900085449219,297.7799987792969,292.760009765625,293.510009765625,294.94000244140625,303.7900085449219,310.0599975585937,303.5,305.1300048828125,305.7900085449219,293.8999938964844,320.3699951171875,328.3900146484375,327.6600036621094,323.5199890136719,332.0299987792969,338.42999267578125,345.4800109863281,348.2799987792969,346.75,342.3500061035156,339.3299865722656,338.989990234375,338.2099914550781,331.0299987792969,346.19000244140625,338.6300048828125,332.7200012207031,333.70001220703125,323.1199951171875,325.3500061035156,327.9800109863281,329.0199890136719,322.54998779296875,321.1499938964844,325.8500061035156,329.92999267578125,324.1199951171875,317.54998779296875,319.29998779296875,320.7799987792969,322.760009765625],\"type\":\"scatter\",\"xaxis\":\"x\",\"yaxis\":\"y\"}],                        {\"template\":{\"data\":{\"histogram2dcontour\":[{\"type\":\"histogram2dcontour\",\"colorbar\":{\"outlinewidth\":0,\"ticks\":\"\"},\"colorscale\":[[0.0,\"#0d0887\"],[0.1111111111111111,\"#46039f\"],[0.2222222222222222,\"#7201a8\"],[0.3333333333333333,\"#9c179e\"],[0.4444444444444444,\"#bd3786\"],[0.5555555555555556,\"#d8576b\"],[0.6666666666666666,\"#ed7953\"],[0.7777777777777778,\"#fb9f3a\"],[0.8888888888888888,\"#fdca26\"],[1.0,\"#f0f921\"]]}],\"choropleth\":[{\"type\":\"choropleth\",\"colorbar\":{\"outlinewidth\":0,\"ticks\":\"\"}}],\"histogram2d\":[{\"type\":\"histogram2d\",\"colorbar\":{\"outlinewidth\":0,\"ticks\":\"\"},\"colorscale\":[[0.0,\"#0d0887\"],[0.1111111111111111,\"#46039f\"],[0.2222222222222222,\"#7201a8\"],[0.3333333333333333,\"#9c179e\"],[0.4444444444444444,\"#bd3786\"],[0.5555555555555556,\"#d8576b\"],[0.6666666666666666,\"#ed7953\"],[0.7777777777777778,\"#fb9f3a\"],[0.8888888888888888,\"#fdca26\"],[1.0,\"#f0f921\"]]}],\"heatmap\":[{\"type\":\"heatmap\",\"colorbar\":{\"outlinewidth\":0,\"ticks\":\"\"},\"colorscale\":[[0.0,\"#0d0887\"],[0.1111111111111111,\"#46039f\"],[0.2222222222222222,\"#7201a8\"],[0.3333333333333333,\"#9c179e\"],[0.4444444444444444,\"#bd3786\"],[0.5555555555555556,\"#d8576b\"],[0.6666666666666666,\"#ed7953\"],[0.7777777777777778,\"#fb9f3a\"],[0.8888888888888888,\"#fdca26\"],[1.0,\"#f0f921\"]]}],\"heatmapgl\":[{\"type\":\"heatmapgl\",\"colorbar\":{\"outlinewidth\":0,\"ticks\":\"\"},\"colorscale\":[[0.0,\"#0d0887\"],[0.1111111111111111,\"#46039f\"],[0.2222222222222222,\"#7201a8\"],[0.3333333333333333,\"#9c179e\"],[0.4444444444444444,\"#bd3786\"],[0.5555555555555556,\"#d8576b\"],[0.6666666666666666,\"#ed7953\"],[0.7777777777777778,\"#fb9f3a\"],[0.8888888888888888,\"#fdca26\"],[1.0,\"#f0f921\"]]}],\"contourcarpet\":[{\"type\":\"contourcarpet\",\"colorbar\":{\"outlinewidth\":0,\"ticks\":\"\"}}],\"contour\":[{\"type\":\"contour\",\"colorbar\":{\"outlinewidth\":0,\"ticks\":\"\"},\"colorscale\":[[0.0,\"#0d0887\"],[0.1111111111111111,\"#46039f\"],[0.2222222222222222,\"#7201a8\"],[0.3333333333333333,\"#9c179e\"],[0.4444444444444444,\"#bd3786\"],[0.5555555555555556,\"#d8576b\"],[0.6666666666666666,\"#ed7953\"],[0.7777777777777778,\"#fb9f3a\"],[0.8888888888888888,\"#fdca26\"],[1.0,\"#f0f921\"]]}],\"surface\":[{\"type\":\"surface\",\"colorbar\":{\"outlinewidth\":0,\"ticks\":\"\"},\"colorscale\":[[0.0,\"#0d0887\"],[0.1111111111111111,\"#46039f\"],[0.2222222222222222,\"#7201a8\"],[0.3333333333333333,\"#9c179e\"],[0.4444444444444444,\"#bd3786\"],[0.5555555555555556,\"#d8576b\"],[0.6666666666666666,\"#ed7953\"],[0.7777777777777778,\"#fb9f3a\"],[0.8888888888888888,\"#fdca26\"],[1.0,\"#f0f921\"]]}],\"mesh3d\":[{\"type\":\"mesh3d\",\"colorbar\":{\"outlinewidth\":0,\"ticks\":\"\"}}],\"scatter\":[{\"fillpattern\":{\"fillmode\":\"overlay\",\"size\":10,\"solidity\":0.2},\"type\":\"scatter\"}],\"parcoords\":[{\"type\":\"parcoords\",\"line\":{\"colorbar\":{\"outlinewidth\":0,\"ticks\":\"\"}}}],\"scatterpolargl\":[{\"type\":\"scatterpolargl\",\"marker\":{\"colorbar\":{\"outlinewidth\":0,\"ticks\":\"\"}}}],\"bar\":[{\"error_x\":{\"color\":\"#2a3f5f\"},\"error_y\":{\"color\":\"#2a3f5f\"},\"marker\":{\"line\":{\"color\":\"#E5ECF6\",\"width\":0.5},\"pattern\":{\"fillmode\":\"overlay\",\"size\":10,\"solidity\":0.2}},\"type\":\"bar\"}],\"scattergeo\":[{\"type\":\"scattergeo\",\"marker\":{\"colorbar\":{\"outlinewidth\":0,\"ticks\":\"\"}}}],\"scatterpolar\":[{\"type\":\"scatterpolar\",\"marker\":{\"colorbar\":{\"outlinewidth\":0,\"ticks\":\"\"}}}],\"histogram\":[{\"marker\":{\"pattern\":{\"fillmode\":\"overlay\",\"size\":10,\"solidity\":0.2}},\"type\":\"histogram\"}],\"scattergl\":[{\"type\":\"scattergl\",\"marker\":{\"colorbar\":{\"outlinewidth\":0,\"ticks\":\"\"}}}],\"scatter3d\":[{\"type\":\"scatter3d\",\"line\":{\"colorbar\":{\"outlinewidth\":0,\"ticks\":\"\"}},\"marker\":{\"colorbar\":{\"outlinewidth\":0,\"ticks\":\"\"}}}],\"scattermapbox\":[{\"type\":\"scattermapbox\",\"marker\":{\"colorbar\":{\"outlinewidth\":0,\"ticks\":\"\"}}}],\"scatterternary\":[{\"type\":\"scatterternary\",\"marker\":{\"colorbar\":{\"outlinewidth\":0,\"ticks\":\"\"}}}],\"scattercarpet\":[{\"type\":\"scattercarpet\",\"marker\":{\"colorbar\":{\"outlinewidth\":0,\"ticks\":\"\"}}}],\"carpet\":[{\"aaxis\":{\"endlinecolor\":\"#2a3f5f\",\"gridcolor\":\"white\",\"linecolor\":\"white\",\"minorgridcolor\":\"white\",\"startlinecolor\":\"#2a3f5f\"},\"baxis\":{\"endlinecolor\":\"#2a3f5f\",\"gridcolor\":\"white\",\"linecolor\":\"white\",\"minorgridcolor\":\"white\",\"startlinecolor\":\"#2a3f5f\"},\"type\":\"carpet\"}],\"table\":[{\"cells\":{\"fill\":{\"color\":\"#EBF0F8\"},\"line\":{\"color\":\"white\"}},\"header\":{\"fill\":{\"color\":\"#C8D4E3\"},\"line\":{\"color\":\"white\"}},\"type\":\"table\"}],\"barpolar\":[{\"marker\":{\"line\":{\"color\":\"#E5ECF6\",\"width\":0.5},\"pattern\":{\"fillmode\":\"overlay\",\"size\":10,\"solidity\":0.2}},\"type\":\"barpolar\"}],\"pie\":[{\"automargin\":true,\"type\":\"pie\"}]},\"layout\":{\"autotypenumbers\":\"strict\",\"colorway\":[\"#636efa\",\"#EF553B\",\"#00cc96\",\"#ab63fa\",\"#FFA15A\",\"#19d3f3\",\"#FF6692\",\"#B6E880\",\"#FF97FF\",\"#FECB52\"],\"font\":{\"color\":\"#2a3f5f\"},\"hovermode\":\"closest\",\"hoverlabel\":{\"align\":\"left\"},\"paper_bgcolor\":\"white\",\"plot_bgcolor\":\"#E5ECF6\",\"polar\":{\"bgcolor\":\"#E5ECF6\",\"angularaxis\":{\"gridcolor\":\"white\",\"linecolor\":\"white\",\"ticks\":\"\"},\"radialaxis\":{\"gridcolor\":\"white\",\"linecolor\":\"white\",\"ticks\":\"\"}},\"ternary\":{\"bgcolor\":\"#E5ECF6\",\"aaxis\":{\"gridcolor\":\"white\",\"linecolor\":\"white\",\"ticks\":\"\"},\"baxis\":{\"gridcolor\":\"white\",\"linecolor\":\"white\",\"ticks\":\"\"},\"caxis\":{\"gridcolor\":\"white\",\"linecolor\":\"white\",\"ticks\":\"\"}},\"coloraxis\":{\"colorbar\":{\"outlinewidth\":0,\"ticks\":\"\"}},\"colorscale\":{\"sequential\":[[0.0,\"#0d0887\"],[0.1111111111111111,\"#46039f\"],[0.2222222222222222,\"#7201a8\"],[0.3333333333333333,\"#9c179e\"],[0.4444444444444444,\"#bd3786\"],[0.5555555555555556,\"#d8576b\"],[0.6666666666666666,\"#ed7953\"],[0.7777777777777778,\"#fb9f3a\"],[0.8888888888888888,\"#fdca26\"],[1.0,\"#f0f921\"]],\"sequentialminus\":[[0.0,\"#0d0887\"],[0.1111111111111111,\"#46039f\"],[0.2222222222222222,\"#7201a8\"],[0.3333333333333333,\"#9c179e\"],[0.4444444444444444,\"#bd3786\"],[0.5555555555555556,\"#d8576b\"],[0.6666666666666666,\"#ed7953\"],[0.7777777777777778,\"#fb9f3a\"],[0.8888888888888888,\"#fdca26\"],[1.0,\"#f0f921\"]],\"diverging\":[[0,\"#8e0152\"],[0.1,\"#c51b7d\"],[0.2,\"#de77ae\"],[0.3,\"#f1b6da\"],[0.4,\"#fde0ef\"],[0.5,\"#f7f7f7\"],[0.6,\"#e6f5d0\"],[0.7,\"#b8e186\"],[0.8,\"#7fbc41\"],[0.9,\"#4d9221\"],[1,\"#276419\"]]},\"xaxis\":{\"gridcolor\":\"white\",\"linecolor\":\"white\",\"ticks\":\"\",\"title\":{\"standoff\":15},\"zerolinecolor\":\"white\",\"automargin\":true,\"zerolinewidth\":2},\"yaxis\":{\"gridcolor\":\"white\",\"linecolor\":\"white\",\"ticks\":\"\",\"title\":{\"standoff\":15},\"zerolinecolor\":\"white\",\"automargin\":true,\"zerolinewidth\":2},\"scene\":{\"xaxis\":{\"backgroundcolor\":\"#E5ECF6\",\"gridcolor\":\"white\",\"linecolor\":\"white\",\"showbackground\":true,\"ticks\":\"\",\"zerolinecolor\":\"white\",\"gridwidth\":2},\"yaxis\":{\"backgroundcolor\":\"#E5ECF6\",\"gridcolor\":\"white\",\"linecolor\":\"white\",\"showbackground\":true,\"ticks\":\"\",\"zerolinecolor\":\"white\",\"gridwidth\":2},\"zaxis\":{\"backgroundcolor\":\"#E5ECF6\",\"gridcolor\":\"white\",\"linecolor\":\"white\",\"showbackground\":true,\"ticks\":\"\",\"zerolinecolor\":\"white\",\"gridwidth\":2}},\"shapedefaults\":{\"line\":{\"color\":\"#2a3f5f\"}},\"annotationdefaults\":{\"arrowcolor\":\"#2a3f5f\",\"arrowhead\":0,\"arrowwidth\":1},\"geo\":{\"bgcolor\":\"white\",\"landcolor\":\"#E5ECF6\",\"subunitcolor\":\"white\",\"showland\":true,\"showlakes\":true,\"lakecolor\":\"white\"},\"title\":{\"x\":0.05},\"mapbox\":{\"style\":\"light\"}}},\"xaxis\":{\"anchor\":\"y\",\"domain\":[0.0,1.0],\"title\":{\"text\":\"Date\"}},\"yaxis\":{\"anchor\":\"x\",\"domain\":[0.0,1.0],\"title\":{\"text\":\"Closing Price\"}},\"title\":{\"text\":\"Time Series of Closing Prices\"},\"legend\":{\"title\":{\"text\":\"Ticker\"}},\"showlegend\":true},                        {\"responsive\": true}                    ).then(function(){\n",
       "                            \n",
       "var gd = document.getElementById('3250538c-6722-4271-b038-b8e0753838e5');\n",
       "var x = new MutationObserver(function (mutations, observer) {{\n",
       "        var display = window.getComputedStyle(gd).display;\n",
       "        if (!display || display === 'none') {{\n",
       "            console.log([gd, 'removed!']);\n",
       "            Plotly.purge(gd);\n",
       "            observer.disconnect();\n",
       "        }}\n",
       "}});\n",
       "\n",
       "// Listen for the removal of the full notebook cells\n",
       "var notebookContainer = gd.closest('#notebook-container');\n",
       "if (notebookContainer) {{\n",
       "    x.observe(notebookContainer, {childList: true});\n",
       "}}\n",
       "\n",
       "// Listen for the clearing of the current output cell\n",
       "var outputEl = gd.closest('.output');\n",
       "if (outputEl) {{\n",
       "    x.observe(outputEl, {childList: true});\n",
       "}}\n",
       "\n",
       "                        })                };                });            </script>        </div>"
      ]
     },
     "metadata": {},
     "output_type": "display_data"
    }
   ],
   "source": [
    "# Time Series Analysis\n",
    "stocks_data['Date'] = pd.to_datetime(stocks_data['Date'])\n",
    "pivot_data = stocks_data.pivot(index='Date', columns='Ticker', values='Close')\n",
    "\n",
    "# Create a subplot\n",
    "fig = make_subplots(rows=1, cols=1)\n",
    "\n",
    "# Add traces for each stock ticker\n",
    "for column in pivot_data.columns:\n",
    "    fig.add_trace(\n",
    "        go.Scatter(x=pivot_data.index, y=pivot_data[column], name=column),\n",
    "        row=1, col=1\n",
    "    )\n",
    "\n",
    "# Update layout\n",
    "fig.update_layout(\n",
    "    title_text='Time Series of Closing Prices',\n",
    "    xaxis_title='Date',\n",
    "    yaxis_title='Closing Price',\n",
    "    legend_title='Ticker',\n",
    "    showlegend=True\n",
    ")\n",
    "\n",
    "# Show the plot\n",
    "fig.show()"
   ]
  },
  {
   "cell_type": "markdown",
   "id": "e9d62b3c",
   "metadata": {},
   "source": [
    "### Observations: \n",
    "\n",
    "1. AAPL and MSFT exhibit a general upward trend in this period.\n",
    "2. NFLX shows more pronounced fluctuations compared to others.\n",
    "3. When comparing the stocks, MSFT and NFLX generally trade at higher price levels than AAPL and GOOG"
   ]
  },
  {
   "cell_type": "markdown",
   "id": "0e88a89f",
   "metadata": {},
   "source": [
    "## 2. Volatility Analysis"
   ]
  },
  {
   "cell_type": "code",
   "execution_count": 63,
   "id": "e1657c1d",
   "metadata": {},
   "outputs": [
    {
     "data": {
      "application/vnd.plotly.v1+json": {
       "config": {
        "plotlyServerURL": "https://plot.ly"
       },
       "data": [
        {
         "alignmentgroup": "True",
         "hovertemplate": "Ticker=%{x}<br>Standard Deviation=%{y}<extra></extra>",
         "legendgroup": "",
         "marker": {
          "color": "#636efa",
          "pattern": {
           "shape": ""
          }
         },
         "name": "",
         "offsetgroup": "",
         "orientation": "v",
         "showlegend": false,
         "textposition": "auto",
         "type": "bar",
         "x": [
          "NFLX",
          "MSFT",
          "AAPL",
          "GOOG"
         ],
         "xaxis": "x",
         "y": [
          18.554418705338584,
          17.676231391058884,
          7.360485288670256,
          6.2794639728257104
         ],
         "yaxis": "y"
        }
       ],
       "layout": {
        "barmode": "relative",
        "legend": {
         "tracegroupgap": 0
        },
        "template": {
         "data": {
          "bar": [
           {
            "error_x": {
             "color": "#2a3f5f"
            },
            "error_y": {
             "color": "#2a3f5f"
            },
            "marker": {
             "line": {
              "color": "#E5ECF6",
              "width": 0.5
             },
             "pattern": {
              "fillmode": "overlay",
              "size": 10,
              "solidity": 0.2
             }
            },
            "type": "bar"
           }
          ],
          "barpolar": [
           {
            "marker": {
             "line": {
              "color": "#E5ECF6",
              "width": 0.5
             },
             "pattern": {
              "fillmode": "overlay",
              "size": 10,
              "solidity": 0.2
             }
            },
            "type": "barpolar"
           }
          ],
          "carpet": [
           {
            "aaxis": {
             "endlinecolor": "#2a3f5f",
             "gridcolor": "white",
             "linecolor": "white",
             "minorgridcolor": "white",
             "startlinecolor": "#2a3f5f"
            },
            "baxis": {
             "endlinecolor": "#2a3f5f",
             "gridcolor": "white",
             "linecolor": "white",
             "minorgridcolor": "white",
             "startlinecolor": "#2a3f5f"
            },
            "type": "carpet"
           }
          ],
          "choropleth": [
           {
            "colorbar": {
             "outlinewidth": 0,
             "ticks": ""
            },
            "type": "choropleth"
           }
          ],
          "contour": [
           {
            "colorbar": {
             "outlinewidth": 0,
             "ticks": ""
            },
            "colorscale": [
             [
              0,
              "#0d0887"
             ],
             [
              0.1111111111111111,
              "#46039f"
             ],
             [
              0.2222222222222222,
              "#7201a8"
             ],
             [
              0.3333333333333333,
              "#9c179e"
             ],
             [
              0.4444444444444444,
              "#bd3786"
             ],
             [
              0.5555555555555556,
              "#d8576b"
             ],
             [
              0.6666666666666666,
              "#ed7953"
             ],
             [
              0.7777777777777778,
              "#fb9f3a"
             ],
             [
              0.8888888888888888,
              "#fdca26"
             ],
             [
              1,
              "#f0f921"
             ]
            ],
            "type": "contour"
           }
          ],
          "contourcarpet": [
           {
            "colorbar": {
             "outlinewidth": 0,
             "ticks": ""
            },
            "type": "contourcarpet"
           }
          ],
          "heatmap": [
           {
            "colorbar": {
             "outlinewidth": 0,
             "ticks": ""
            },
            "colorscale": [
             [
              0,
              "#0d0887"
             ],
             [
              0.1111111111111111,
              "#46039f"
             ],
             [
              0.2222222222222222,
              "#7201a8"
             ],
             [
              0.3333333333333333,
              "#9c179e"
             ],
             [
              0.4444444444444444,
              "#bd3786"
             ],
             [
              0.5555555555555556,
              "#d8576b"
             ],
             [
              0.6666666666666666,
              "#ed7953"
             ],
             [
              0.7777777777777778,
              "#fb9f3a"
             ],
             [
              0.8888888888888888,
              "#fdca26"
             ],
             [
              1,
              "#f0f921"
             ]
            ],
            "type": "heatmap"
           }
          ],
          "heatmapgl": [
           {
            "colorbar": {
             "outlinewidth": 0,
             "ticks": ""
            },
            "colorscale": [
             [
              0,
              "#0d0887"
             ],
             [
              0.1111111111111111,
              "#46039f"
             ],
             [
              0.2222222222222222,
              "#7201a8"
             ],
             [
              0.3333333333333333,
              "#9c179e"
             ],
             [
              0.4444444444444444,
              "#bd3786"
             ],
             [
              0.5555555555555556,
              "#d8576b"
             ],
             [
              0.6666666666666666,
              "#ed7953"
             ],
             [
              0.7777777777777778,
              "#fb9f3a"
             ],
             [
              0.8888888888888888,
              "#fdca26"
             ],
             [
              1,
              "#f0f921"
             ]
            ],
            "type": "heatmapgl"
           }
          ],
          "histogram": [
           {
            "marker": {
             "pattern": {
              "fillmode": "overlay",
              "size": 10,
              "solidity": 0.2
             }
            },
            "type": "histogram"
           }
          ],
          "histogram2d": [
           {
            "colorbar": {
             "outlinewidth": 0,
             "ticks": ""
            },
            "colorscale": [
             [
              0,
              "#0d0887"
             ],
             [
              0.1111111111111111,
              "#46039f"
             ],
             [
              0.2222222222222222,
              "#7201a8"
             ],
             [
              0.3333333333333333,
              "#9c179e"
             ],
             [
              0.4444444444444444,
              "#bd3786"
             ],
             [
              0.5555555555555556,
              "#d8576b"
             ],
             [
              0.6666666666666666,
              "#ed7953"
             ],
             [
              0.7777777777777778,
              "#fb9f3a"
             ],
             [
              0.8888888888888888,
              "#fdca26"
             ],
             [
              1,
              "#f0f921"
             ]
            ],
            "type": "histogram2d"
           }
          ],
          "histogram2dcontour": [
           {
            "colorbar": {
             "outlinewidth": 0,
             "ticks": ""
            },
            "colorscale": [
             [
              0,
              "#0d0887"
             ],
             [
              0.1111111111111111,
              "#46039f"
             ],
             [
              0.2222222222222222,
              "#7201a8"
             ],
             [
              0.3333333333333333,
              "#9c179e"
             ],
             [
              0.4444444444444444,
              "#bd3786"
             ],
             [
              0.5555555555555556,
              "#d8576b"
             ],
             [
              0.6666666666666666,
              "#ed7953"
             ],
             [
              0.7777777777777778,
              "#fb9f3a"
             ],
             [
              0.8888888888888888,
              "#fdca26"
             ],
             [
              1,
              "#f0f921"
             ]
            ],
            "type": "histogram2dcontour"
           }
          ],
          "mesh3d": [
           {
            "colorbar": {
             "outlinewidth": 0,
             "ticks": ""
            },
            "type": "mesh3d"
           }
          ],
          "parcoords": [
           {
            "line": {
             "colorbar": {
              "outlinewidth": 0,
              "ticks": ""
             }
            },
            "type": "parcoords"
           }
          ],
          "pie": [
           {
            "automargin": true,
            "type": "pie"
           }
          ],
          "scatter": [
           {
            "fillpattern": {
             "fillmode": "overlay",
             "size": 10,
             "solidity": 0.2
            },
            "type": "scatter"
           }
          ],
          "scatter3d": [
           {
            "line": {
             "colorbar": {
              "outlinewidth": 0,
              "ticks": ""
             }
            },
            "marker": {
             "colorbar": {
              "outlinewidth": 0,
              "ticks": ""
             }
            },
            "type": "scatter3d"
           }
          ],
          "scattercarpet": [
           {
            "marker": {
             "colorbar": {
              "outlinewidth": 0,
              "ticks": ""
             }
            },
            "type": "scattercarpet"
           }
          ],
          "scattergeo": [
           {
            "marker": {
             "colorbar": {
              "outlinewidth": 0,
              "ticks": ""
             }
            },
            "type": "scattergeo"
           }
          ],
          "scattergl": [
           {
            "marker": {
             "colorbar": {
              "outlinewidth": 0,
              "ticks": ""
             }
            },
            "type": "scattergl"
           }
          ],
          "scattermapbox": [
           {
            "marker": {
             "colorbar": {
              "outlinewidth": 0,
              "ticks": ""
             }
            },
            "type": "scattermapbox"
           }
          ],
          "scatterpolar": [
           {
            "marker": {
             "colorbar": {
              "outlinewidth": 0,
              "ticks": ""
             }
            },
            "type": "scatterpolar"
           }
          ],
          "scatterpolargl": [
           {
            "marker": {
             "colorbar": {
              "outlinewidth": 0,
              "ticks": ""
             }
            },
            "type": "scatterpolargl"
           }
          ],
          "scatterternary": [
           {
            "marker": {
             "colorbar": {
              "outlinewidth": 0,
              "ticks": ""
             }
            },
            "type": "scatterternary"
           }
          ],
          "surface": [
           {
            "colorbar": {
             "outlinewidth": 0,
             "ticks": ""
            },
            "colorscale": [
             [
              0,
              "#0d0887"
             ],
             [
              0.1111111111111111,
              "#46039f"
             ],
             [
              0.2222222222222222,
              "#7201a8"
             ],
             [
              0.3333333333333333,
              "#9c179e"
             ],
             [
              0.4444444444444444,
              "#bd3786"
             ],
             [
              0.5555555555555556,
              "#d8576b"
             ],
             [
              0.6666666666666666,
              "#ed7953"
             ],
             [
              0.7777777777777778,
              "#fb9f3a"
             ],
             [
              0.8888888888888888,
              "#fdca26"
             ],
             [
              1,
              "#f0f921"
             ]
            ],
            "type": "surface"
           }
          ],
          "table": [
           {
            "cells": {
             "fill": {
              "color": "#EBF0F8"
             },
             "line": {
              "color": "white"
             }
            },
            "header": {
             "fill": {
              "color": "#C8D4E3"
             },
             "line": {
              "color": "white"
             }
            },
            "type": "table"
           }
          ]
         },
         "layout": {
          "annotationdefaults": {
           "arrowcolor": "#2a3f5f",
           "arrowhead": 0,
           "arrowwidth": 1
          },
          "autotypenumbers": "strict",
          "coloraxis": {
           "colorbar": {
            "outlinewidth": 0,
            "ticks": ""
           }
          },
          "colorscale": {
           "diverging": [
            [
             0,
             "#8e0152"
            ],
            [
             0.1,
             "#c51b7d"
            ],
            [
             0.2,
             "#de77ae"
            ],
            [
             0.3,
             "#f1b6da"
            ],
            [
             0.4,
             "#fde0ef"
            ],
            [
             0.5,
             "#f7f7f7"
            ],
            [
             0.6,
             "#e6f5d0"
            ],
            [
             0.7,
             "#b8e186"
            ],
            [
             0.8,
             "#7fbc41"
            ],
            [
             0.9,
             "#4d9221"
            ],
            [
             1,
             "#276419"
            ]
           ],
           "sequential": [
            [
             0,
             "#0d0887"
            ],
            [
             0.1111111111111111,
             "#46039f"
            ],
            [
             0.2222222222222222,
             "#7201a8"
            ],
            [
             0.3333333333333333,
             "#9c179e"
            ],
            [
             0.4444444444444444,
             "#bd3786"
            ],
            [
             0.5555555555555556,
             "#d8576b"
            ],
            [
             0.6666666666666666,
             "#ed7953"
            ],
            [
             0.7777777777777778,
             "#fb9f3a"
            ],
            [
             0.8888888888888888,
             "#fdca26"
            ],
            [
             1,
             "#f0f921"
            ]
           ],
           "sequentialminus": [
            [
             0,
             "#0d0887"
            ],
            [
             0.1111111111111111,
             "#46039f"
            ],
            [
             0.2222222222222222,
             "#7201a8"
            ],
            [
             0.3333333333333333,
             "#9c179e"
            ],
            [
             0.4444444444444444,
             "#bd3786"
            ],
            [
             0.5555555555555556,
             "#d8576b"
            ],
            [
             0.6666666666666666,
             "#ed7953"
            ],
            [
             0.7777777777777778,
             "#fb9f3a"
            ],
            [
             0.8888888888888888,
             "#fdca26"
            ],
            [
             1,
             "#f0f921"
            ]
           ]
          },
          "colorway": [
           "#636efa",
           "#EF553B",
           "#00cc96",
           "#ab63fa",
           "#FFA15A",
           "#19d3f3",
           "#FF6692",
           "#B6E880",
           "#FF97FF",
           "#FECB52"
          ],
          "font": {
           "color": "#2a3f5f"
          },
          "geo": {
           "bgcolor": "white",
           "lakecolor": "white",
           "landcolor": "#E5ECF6",
           "showlakes": true,
           "showland": true,
           "subunitcolor": "white"
          },
          "hoverlabel": {
           "align": "left"
          },
          "hovermode": "closest",
          "mapbox": {
           "style": "light"
          },
          "paper_bgcolor": "white",
          "plot_bgcolor": "#E5ECF6",
          "polar": {
           "angularaxis": {
            "gridcolor": "white",
            "linecolor": "white",
            "ticks": ""
           },
           "bgcolor": "#E5ECF6",
           "radialaxis": {
            "gridcolor": "white",
            "linecolor": "white",
            "ticks": ""
           }
          },
          "scene": {
           "xaxis": {
            "backgroundcolor": "#E5ECF6",
            "gridcolor": "white",
            "gridwidth": 2,
            "linecolor": "white",
            "showbackground": true,
            "ticks": "",
            "zerolinecolor": "white"
           },
           "yaxis": {
            "backgroundcolor": "#E5ECF6",
            "gridcolor": "white",
            "gridwidth": 2,
            "linecolor": "white",
            "showbackground": true,
            "ticks": "",
            "zerolinecolor": "white"
           },
           "zaxis": {
            "backgroundcolor": "#E5ECF6",
            "gridcolor": "white",
            "gridwidth": 2,
            "linecolor": "white",
            "showbackground": true,
            "ticks": "",
            "zerolinecolor": "white"
           }
          },
          "shapedefaults": {
           "line": {
            "color": "#2a3f5f"
           }
          },
          "ternary": {
           "aaxis": {
            "gridcolor": "white",
            "linecolor": "white",
            "ticks": ""
           },
           "baxis": {
            "gridcolor": "white",
            "linecolor": "white",
            "ticks": ""
           },
           "bgcolor": "#E5ECF6",
           "caxis": {
            "gridcolor": "white",
            "linecolor": "white",
            "ticks": ""
           }
          },
          "title": {
           "x": 0.05
          },
          "xaxis": {
           "automargin": true,
           "gridcolor": "white",
           "linecolor": "white",
           "ticks": "",
           "title": {
            "standoff": 15
           },
           "zerolinecolor": "white",
           "zerolinewidth": 2
          },
          "yaxis": {
           "automargin": true,
           "gridcolor": "white",
           "linecolor": "white",
           "ticks": "",
           "title": {
            "standoff": 15
           },
           "zerolinecolor": "white",
           "zerolinewidth": 2
          }
         }
        },
        "title": {
         "text": "Volatility of Closing Prices (Standard Deviation)"
        },
        "xaxis": {
         "anchor": "y",
         "domain": [
          0,
          1
         ],
         "title": {
          "text": "Ticker"
         }
        },
        "yaxis": {
         "anchor": "x",
         "domain": [
          0,
          1
         ],
         "title": {
          "text": "Standard Deviation"
         }
        }
       }
      },
      "text/html": [
       "<div>                            <div id=\"93fa0515-b8c2-4152-9e1b-391a42056f05\" class=\"plotly-graph-div\" style=\"height:525px; width:100%;\"></div>            <script type=\"text/javascript\">                require([\"plotly\"], function(Plotly) {                    window.PLOTLYENV=window.PLOTLYENV || {};                                    if (document.getElementById(\"93fa0515-b8c2-4152-9e1b-391a42056f05\")) {                    Plotly.newPlot(                        \"93fa0515-b8c2-4152-9e1b-391a42056f05\",                        [{\"alignmentgroup\":\"True\",\"hovertemplate\":\"Ticker=%{x}<br>Standard Deviation=%{y}<extra></extra>\",\"legendgroup\":\"\",\"marker\":{\"color\":\"#636efa\",\"pattern\":{\"shape\":\"\"}},\"name\":\"\",\"offsetgroup\":\"\",\"orientation\":\"v\",\"showlegend\":false,\"textposition\":\"auto\",\"x\":[\"NFLX\",\"MSFT\",\"AAPL\",\"GOOG\"],\"xaxis\":\"x\",\"y\":[18.554418705338584,17.676231391058884,7.360485288670256,6.2794639728257104],\"yaxis\":\"y\",\"type\":\"bar\"}],                        {\"template\":{\"data\":{\"histogram2dcontour\":[{\"type\":\"histogram2dcontour\",\"colorbar\":{\"outlinewidth\":0,\"ticks\":\"\"},\"colorscale\":[[0.0,\"#0d0887\"],[0.1111111111111111,\"#46039f\"],[0.2222222222222222,\"#7201a8\"],[0.3333333333333333,\"#9c179e\"],[0.4444444444444444,\"#bd3786\"],[0.5555555555555556,\"#d8576b\"],[0.6666666666666666,\"#ed7953\"],[0.7777777777777778,\"#fb9f3a\"],[0.8888888888888888,\"#fdca26\"],[1.0,\"#f0f921\"]]}],\"choropleth\":[{\"type\":\"choropleth\",\"colorbar\":{\"outlinewidth\":0,\"ticks\":\"\"}}],\"histogram2d\":[{\"type\":\"histogram2d\",\"colorbar\":{\"outlinewidth\":0,\"ticks\":\"\"},\"colorscale\":[[0.0,\"#0d0887\"],[0.1111111111111111,\"#46039f\"],[0.2222222222222222,\"#7201a8\"],[0.3333333333333333,\"#9c179e\"],[0.4444444444444444,\"#bd3786\"],[0.5555555555555556,\"#d8576b\"],[0.6666666666666666,\"#ed7953\"],[0.7777777777777778,\"#fb9f3a\"],[0.8888888888888888,\"#fdca26\"],[1.0,\"#f0f921\"]]}],\"heatmap\":[{\"type\":\"heatmap\",\"colorbar\":{\"outlinewidth\":0,\"ticks\":\"\"},\"colorscale\":[[0.0,\"#0d0887\"],[0.1111111111111111,\"#46039f\"],[0.2222222222222222,\"#7201a8\"],[0.3333333333333333,\"#9c179e\"],[0.4444444444444444,\"#bd3786\"],[0.5555555555555556,\"#d8576b\"],[0.6666666666666666,\"#ed7953\"],[0.7777777777777778,\"#fb9f3a\"],[0.8888888888888888,\"#fdca26\"],[1.0,\"#f0f921\"]]}],\"heatmapgl\":[{\"type\":\"heatmapgl\",\"colorbar\":{\"outlinewidth\":0,\"ticks\":\"\"},\"colorscale\":[[0.0,\"#0d0887\"],[0.1111111111111111,\"#46039f\"],[0.2222222222222222,\"#7201a8\"],[0.3333333333333333,\"#9c179e\"],[0.4444444444444444,\"#bd3786\"],[0.5555555555555556,\"#d8576b\"],[0.6666666666666666,\"#ed7953\"],[0.7777777777777778,\"#fb9f3a\"],[0.8888888888888888,\"#fdca26\"],[1.0,\"#f0f921\"]]}],\"contourcarpet\":[{\"type\":\"contourcarpet\",\"colorbar\":{\"outlinewidth\":0,\"ticks\":\"\"}}],\"contour\":[{\"type\":\"contour\",\"colorbar\":{\"outlinewidth\":0,\"ticks\":\"\"},\"colorscale\":[[0.0,\"#0d0887\"],[0.1111111111111111,\"#46039f\"],[0.2222222222222222,\"#7201a8\"],[0.3333333333333333,\"#9c179e\"],[0.4444444444444444,\"#bd3786\"],[0.5555555555555556,\"#d8576b\"],[0.6666666666666666,\"#ed7953\"],[0.7777777777777778,\"#fb9f3a\"],[0.8888888888888888,\"#fdca26\"],[1.0,\"#f0f921\"]]}],\"surface\":[{\"type\":\"surface\",\"colorbar\":{\"outlinewidth\":0,\"ticks\":\"\"},\"colorscale\":[[0.0,\"#0d0887\"],[0.1111111111111111,\"#46039f\"],[0.2222222222222222,\"#7201a8\"],[0.3333333333333333,\"#9c179e\"],[0.4444444444444444,\"#bd3786\"],[0.5555555555555556,\"#d8576b\"],[0.6666666666666666,\"#ed7953\"],[0.7777777777777778,\"#fb9f3a\"],[0.8888888888888888,\"#fdca26\"],[1.0,\"#f0f921\"]]}],\"mesh3d\":[{\"type\":\"mesh3d\",\"colorbar\":{\"outlinewidth\":0,\"ticks\":\"\"}}],\"scatter\":[{\"fillpattern\":{\"fillmode\":\"overlay\",\"size\":10,\"solidity\":0.2},\"type\":\"scatter\"}],\"parcoords\":[{\"type\":\"parcoords\",\"line\":{\"colorbar\":{\"outlinewidth\":0,\"ticks\":\"\"}}}],\"scatterpolargl\":[{\"type\":\"scatterpolargl\",\"marker\":{\"colorbar\":{\"outlinewidth\":0,\"ticks\":\"\"}}}],\"bar\":[{\"error_x\":{\"color\":\"#2a3f5f\"},\"error_y\":{\"color\":\"#2a3f5f\"},\"marker\":{\"line\":{\"color\":\"#E5ECF6\",\"width\":0.5},\"pattern\":{\"fillmode\":\"overlay\",\"size\":10,\"solidity\":0.2}},\"type\":\"bar\"}],\"scattergeo\":[{\"type\":\"scattergeo\",\"marker\":{\"colorbar\":{\"outlinewidth\":0,\"ticks\":\"\"}}}],\"scatterpolar\":[{\"type\":\"scatterpolar\",\"marker\":{\"colorbar\":{\"outlinewidth\":0,\"ticks\":\"\"}}}],\"histogram\":[{\"marker\":{\"pattern\":{\"fillmode\":\"overlay\",\"size\":10,\"solidity\":0.2}},\"type\":\"histogram\"}],\"scattergl\":[{\"type\":\"scattergl\",\"marker\":{\"colorbar\":{\"outlinewidth\":0,\"ticks\":\"\"}}}],\"scatter3d\":[{\"type\":\"scatter3d\",\"line\":{\"colorbar\":{\"outlinewidth\":0,\"ticks\":\"\"}},\"marker\":{\"colorbar\":{\"outlinewidth\":0,\"ticks\":\"\"}}}],\"scattermapbox\":[{\"type\":\"scattermapbox\",\"marker\":{\"colorbar\":{\"outlinewidth\":0,\"ticks\":\"\"}}}],\"scatterternary\":[{\"type\":\"scatterternary\",\"marker\":{\"colorbar\":{\"outlinewidth\":0,\"ticks\":\"\"}}}],\"scattercarpet\":[{\"type\":\"scattercarpet\",\"marker\":{\"colorbar\":{\"outlinewidth\":0,\"ticks\":\"\"}}}],\"carpet\":[{\"aaxis\":{\"endlinecolor\":\"#2a3f5f\",\"gridcolor\":\"white\",\"linecolor\":\"white\",\"minorgridcolor\":\"white\",\"startlinecolor\":\"#2a3f5f\"},\"baxis\":{\"endlinecolor\":\"#2a3f5f\",\"gridcolor\":\"white\",\"linecolor\":\"white\",\"minorgridcolor\":\"white\",\"startlinecolor\":\"#2a3f5f\"},\"type\":\"carpet\"}],\"table\":[{\"cells\":{\"fill\":{\"color\":\"#EBF0F8\"},\"line\":{\"color\":\"white\"}},\"header\":{\"fill\":{\"color\":\"#C8D4E3\"},\"line\":{\"color\":\"white\"}},\"type\":\"table\"}],\"barpolar\":[{\"marker\":{\"line\":{\"color\":\"#E5ECF6\",\"width\":0.5},\"pattern\":{\"fillmode\":\"overlay\",\"size\":10,\"solidity\":0.2}},\"type\":\"barpolar\"}],\"pie\":[{\"automargin\":true,\"type\":\"pie\"}]},\"layout\":{\"autotypenumbers\":\"strict\",\"colorway\":[\"#636efa\",\"#EF553B\",\"#00cc96\",\"#ab63fa\",\"#FFA15A\",\"#19d3f3\",\"#FF6692\",\"#B6E880\",\"#FF97FF\",\"#FECB52\"],\"font\":{\"color\":\"#2a3f5f\"},\"hovermode\":\"closest\",\"hoverlabel\":{\"align\":\"left\"},\"paper_bgcolor\":\"white\",\"plot_bgcolor\":\"#E5ECF6\",\"polar\":{\"bgcolor\":\"#E5ECF6\",\"angularaxis\":{\"gridcolor\":\"white\",\"linecolor\":\"white\",\"ticks\":\"\"},\"radialaxis\":{\"gridcolor\":\"white\",\"linecolor\":\"white\",\"ticks\":\"\"}},\"ternary\":{\"bgcolor\":\"#E5ECF6\",\"aaxis\":{\"gridcolor\":\"white\",\"linecolor\":\"white\",\"ticks\":\"\"},\"baxis\":{\"gridcolor\":\"white\",\"linecolor\":\"white\",\"ticks\":\"\"},\"caxis\":{\"gridcolor\":\"white\",\"linecolor\":\"white\",\"ticks\":\"\"}},\"coloraxis\":{\"colorbar\":{\"outlinewidth\":0,\"ticks\":\"\"}},\"colorscale\":{\"sequential\":[[0.0,\"#0d0887\"],[0.1111111111111111,\"#46039f\"],[0.2222222222222222,\"#7201a8\"],[0.3333333333333333,\"#9c179e\"],[0.4444444444444444,\"#bd3786\"],[0.5555555555555556,\"#d8576b\"],[0.6666666666666666,\"#ed7953\"],[0.7777777777777778,\"#fb9f3a\"],[0.8888888888888888,\"#fdca26\"],[1.0,\"#f0f921\"]],\"sequentialminus\":[[0.0,\"#0d0887\"],[0.1111111111111111,\"#46039f\"],[0.2222222222222222,\"#7201a8\"],[0.3333333333333333,\"#9c179e\"],[0.4444444444444444,\"#bd3786\"],[0.5555555555555556,\"#d8576b\"],[0.6666666666666666,\"#ed7953\"],[0.7777777777777778,\"#fb9f3a\"],[0.8888888888888888,\"#fdca26\"],[1.0,\"#f0f921\"]],\"diverging\":[[0,\"#8e0152\"],[0.1,\"#c51b7d\"],[0.2,\"#de77ae\"],[0.3,\"#f1b6da\"],[0.4,\"#fde0ef\"],[0.5,\"#f7f7f7\"],[0.6,\"#e6f5d0\"],[0.7,\"#b8e186\"],[0.8,\"#7fbc41\"],[0.9,\"#4d9221\"],[1,\"#276419\"]]},\"xaxis\":{\"gridcolor\":\"white\",\"linecolor\":\"white\",\"ticks\":\"\",\"title\":{\"standoff\":15},\"zerolinecolor\":\"white\",\"automargin\":true,\"zerolinewidth\":2},\"yaxis\":{\"gridcolor\":\"white\",\"linecolor\":\"white\",\"ticks\":\"\",\"title\":{\"standoff\":15},\"zerolinecolor\":\"white\",\"automargin\":true,\"zerolinewidth\":2},\"scene\":{\"xaxis\":{\"backgroundcolor\":\"#E5ECF6\",\"gridcolor\":\"white\",\"linecolor\":\"white\",\"showbackground\":true,\"ticks\":\"\",\"zerolinecolor\":\"white\",\"gridwidth\":2},\"yaxis\":{\"backgroundcolor\":\"#E5ECF6\",\"gridcolor\":\"white\",\"linecolor\":\"white\",\"showbackground\":true,\"ticks\":\"\",\"zerolinecolor\":\"white\",\"gridwidth\":2},\"zaxis\":{\"backgroundcolor\":\"#E5ECF6\",\"gridcolor\":\"white\",\"linecolor\":\"white\",\"showbackground\":true,\"ticks\":\"\",\"zerolinecolor\":\"white\",\"gridwidth\":2}},\"shapedefaults\":{\"line\":{\"color\":\"#2a3f5f\"}},\"annotationdefaults\":{\"arrowcolor\":\"#2a3f5f\",\"arrowhead\":0,\"arrowwidth\":1},\"geo\":{\"bgcolor\":\"white\",\"landcolor\":\"#E5ECF6\",\"subunitcolor\":\"white\",\"showland\":true,\"showlakes\":true,\"lakecolor\":\"white\"},\"title\":{\"x\":0.05},\"mapbox\":{\"style\":\"light\"}}},\"xaxis\":{\"anchor\":\"y\",\"domain\":[0.0,1.0],\"title\":{\"text\":\"Ticker\"}},\"yaxis\":{\"anchor\":\"x\",\"domain\":[0.0,1.0],\"title\":{\"text\":\"Standard Deviation\"}},\"legend\":{\"tracegroupgap\":0},\"title\":{\"text\":\"Volatility of Closing Prices (Standard Deviation)\"},\"barmode\":\"relative\"},                        {\"responsive\": true}                    ).then(function(){\n",
       "                            \n",
       "var gd = document.getElementById('93fa0515-b8c2-4152-9e1b-391a42056f05');\n",
       "var x = new MutationObserver(function (mutations, observer) {{\n",
       "        var display = window.getComputedStyle(gd).display;\n",
       "        if (!display || display === 'none') {{\n",
       "            console.log([gd, 'removed!']);\n",
       "            Plotly.purge(gd);\n",
       "            observer.disconnect();\n",
       "        }}\n",
       "}});\n",
       "\n",
       "// Listen for the removal of the full notebook cells\n",
       "var notebookContainer = gd.closest('#notebook-container');\n",
       "if (notebookContainer) {{\n",
       "    x.observe(notebookContainer, {childList: true});\n",
       "}}\n",
       "\n",
       "// Listen for the clearing of the current output cell\n",
       "var outputEl = gd.closest('.output');\n",
       "if (outputEl) {{\n",
       "    x.observe(outputEl, {childList: true});\n",
       "}}\n",
       "\n",
       "                        })                };                });            </script>        </div>"
      ]
     },
     "metadata": {},
     "output_type": "display_data"
    }
   ],
   "source": [
    "# Volatility Analysis\n",
    "volatility = pivot_data.std().sort_values(ascending=False)\n",
    "\n",
    "fig = px.bar(volatility,\n",
    "             x=volatility.index,\n",
    "             y=volatility.values,\n",
    "             labels={'y': 'Standard Deviation', 'x': 'Ticker'},\n",
    "             title='Volatility of Closing Prices (Standard Deviation)')\n",
    "\n",
    "# Show the figure\n",
    "fig.show()"
   ]
  },
  {
   "cell_type": "markdown",
   "id": "dc90511a",
   "metadata": {},
   "source": [
    "### Observations:\n",
    "\n",
    "1. NFLX: Highest volatility with a standard deviation of approximately 18.55.\n",
    "2. MSFT: Next highest, with a standard deviation of around 17.68.\n",
    "3. AAPL: Lower volatility compared to NFLX and MSFT, with a standard deviation of about 7.36.\n",
    "4. GOOG: The least volatile in this set, with a standard deviation of approximately 6.28.\n"
   ]
  },
  {
   "cell_type": "markdown",
   "id": "d42deb56",
   "metadata": {},
   "source": [
    "## 3. Correlation Analysis"
   ]
  },
  {
   "cell_type": "code",
   "execution_count": 64,
   "id": "485fc6e4",
   "metadata": {},
   "outputs": [
    {
     "data": {
      "application/vnd.plotly.v1+json": {
       "config": {
        "plotlyServerURL": "https://plot.ly"
       },
       "data": [
        {
         "colorbar": {
          "title": {
           "text": "Correlation"
          }
         },
         "colorscale": [
          [
           0,
           "rgb(247,251,255)"
          ],
          [
           0.125,
           "rgb(222,235,247)"
          ],
          [
           0.25,
           "rgb(198,219,239)"
          ],
          [
           0.375,
           "rgb(158,202,225)"
          ],
          [
           0.5,
           "rgb(107,174,214)"
          ],
          [
           0.625,
           "rgb(66,146,198)"
          ],
          [
           0.75,
           "rgb(33,113,181)"
          ],
          [
           0.875,
           "rgb(8,81,156)"
          ],
          [
           1,
           "rgb(8,48,107)"
          ]
         ],
         "type": "heatmap",
         "x": [
          "AAPL",
          "GOOG",
          "MSFT",
          "NFLX"
         ],
         "y": [
          "AAPL",
          "GOOG",
          "MSFT",
          "NFLX"
         ],
         "z": [
          [
           1,
           0.9016621511047137,
           0.9530374039554307,
           0.1544175660931925
          ],
          [
           0.9016621511047137,
           1,
           0.8845268030991121,
           0.20104610369838136
          ],
          [
           0.9530374039554307,
           0.8845268030991121,
           1,
           0.19127320231604947
          ],
          [
           0.1544175660931925,
           0.20104610369838136,
           0.19127320231604947,
           1
          ]
         ]
        }
       ],
       "layout": {
        "template": {
         "data": {
          "bar": [
           {
            "error_x": {
             "color": "#2a3f5f"
            },
            "error_y": {
             "color": "#2a3f5f"
            },
            "marker": {
             "line": {
              "color": "#E5ECF6",
              "width": 0.5
             },
             "pattern": {
              "fillmode": "overlay",
              "size": 10,
              "solidity": 0.2
             }
            },
            "type": "bar"
           }
          ],
          "barpolar": [
           {
            "marker": {
             "line": {
              "color": "#E5ECF6",
              "width": 0.5
             },
             "pattern": {
              "fillmode": "overlay",
              "size": 10,
              "solidity": 0.2
             }
            },
            "type": "barpolar"
           }
          ],
          "carpet": [
           {
            "aaxis": {
             "endlinecolor": "#2a3f5f",
             "gridcolor": "white",
             "linecolor": "white",
             "minorgridcolor": "white",
             "startlinecolor": "#2a3f5f"
            },
            "baxis": {
             "endlinecolor": "#2a3f5f",
             "gridcolor": "white",
             "linecolor": "white",
             "minorgridcolor": "white",
             "startlinecolor": "#2a3f5f"
            },
            "type": "carpet"
           }
          ],
          "choropleth": [
           {
            "colorbar": {
             "outlinewidth": 0,
             "ticks": ""
            },
            "type": "choropleth"
           }
          ],
          "contour": [
           {
            "colorbar": {
             "outlinewidth": 0,
             "ticks": ""
            },
            "colorscale": [
             [
              0,
              "#0d0887"
             ],
             [
              0.1111111111111111,
              "#46039f"
             ],
             [
              0.2222222222222222,
              "#7201a8"
             ],
             [
              0.3333333333333333,
              "#9c179e"
             ],
             [
              0.4444444444444444,
              "#bd3786"
             ],
             [
              0.5555555555555556,
              "#d8576b"
             ],
             [
              0.6666666666666666,
              "#ed7953"
             ],
             [
              0.7777777777777778,
              "#fb9f3a"
             ],
             [
              0.8888888888888888,
              "#fdca26"
             ],
             [
              1,
              "#f0f921"
             ]
            ],
            "type": "contour"
           }
          ],
          "contourcarpet": [
           {
            "colorbar": {
             "outlinewidth": 0,
             "ticks": ""
            },
            "type": "contourcarpet"
           }
          ],
          "heatmap": [
           {
            "colorbar": {
             "outlinewidth": 0,
             "ticks": ""
            },
            "colorscale": [
             [
              0,
              "#0d0887"
             ],
             [
              0.1111111111111111,
              "#46039f"
             ],
             [
              0.2222222222222222,
              "#7201a8"
             ],
             [
              0.3333333333333333,
              "#9c179e"
             ],
             [
              0.4444444444444444,
              "#bd3786"
             ],
             [
              0.5555555555555556,
              "#d8576b"
             ],
             [
              0.6666666666666666,
              "#ed7953"
             ],
             [
              0.7777777777777778,
              "#fb9f3a"
             ],
             [
              0.8888888888888888,
              "#fdca26"
             ],
             [
              1,
              "#f0f921"
             ]
            ],
            "type": "heatmap"
           }
          ],
          "heatmapgl": [
           {
            "colorbar": {
             "outlinewidth": 0,
             "ticks": ""
            },
            "colorscale": [
             [
              0,
              "#0d0887"
             ],
             [
              0.1111111111111111,
              "#46039f"
             ],
             [
              0.2222222222222222,
              "#7201a8"
             ],
             [
              0.3333333333333333,
              "#9c179e"
             ],
             [
              0.4444444444444444,
              "#bd3786"
             ],
             [
              0.5555555555555556,
              "#d8576b"
             ],
             [
              0.6666666666666666,
              "#ed7953"
             ],
             [
              0.7777777777777778,
              "#fb9f3a"
             ],
             [
              0.8888888888888888,
              "#fdca26"
             ],
             [
              1,
              "#f0f921"
             ]
            ],
            "type": "heatmapgl"
           }
          ],
          "histogram": [
           {
            "marker": {
             "pattern": {
              "fillmode": "overlay",
              "size": 10,
              "solidity": 0.2
             }
            },
            "type": "histogram"
           }
          ],
          "histogram2d": [
           {
            "colorbar": {
             "outlinewidth": 0,
             "ticks": ""
            },
            "colorscale": [
             [
              0,
              "#0d0887"
             ],
             [
              0.1111111111111111,
              "#46039f"
             ],
             [
              0.2222222222222222,
              "#7201a8"
             ],
             [
              0.3333333333333333,
              "#9c179e"
             ],
             [
              0.4444444444444444,
              "#bd3786"
             ],
             [
              0.5555555555555556,
              "#d8576b"
             ],
             [
              0.6666666666666666,
              "#ed7953"
             ],
             [
              0.7777777777777778,
              "#fb9f3a"
             ],
             [
              0.8888888888888888,
              "#fdca26"
             ],
             [
              1,
              "#f0f921"
             ]
            ],
            "type": "histogram2d"
           }
          ],
          "histogram2dcontour": [
           {
            "colorbar": {
             "outlinewidth": 0,
             "ticks": ""
            },
            "colorscale": [
             [
              0,
              "#0d0887"
             ],
             [
              0.1111111111111111,
              "#46039f"
             ],
             [
              0.2222222222222222,
              "#7201a8"
             ],
             [
              0.3333333333333333,
              "#9c179e"
             ],
             [
              0.4444444444444444,
              "#bd3786"
             ],
             [
              0.5555555555555556,
              "#d8576b"
             ],
             [
              0.6666666666666666,
              "#ed7953"
             ],
             [
              0.7777777777777778,
              "#fb9f3a"
             ],
             [
              0.8888888888888888,
              "#fdca26"
             ],
             [
              1,
              "#f0f921"
             ]
            ],
            "type": "histogram2dcontour"
           }
          ],
          "mesh3d": [
           {
            "colorbar": {
             "outlinewidth": 0,
             "ticks": ""
            },
            "type": "mesh3d"
           }
          ],
          "parcoords": [
           {
            "line": {
             "colorbar": {
              "outlinewidth": 0,
              "ticks": ""
             }
            },
            "type": "parcoords"
           }
          ],
          "pie": [
           {
            "automargin": true,
            "type": "pie"
           }
          ],
          "scatter": [
           {
            "fillpattern": {
             "fillmode": "overlay",
             "size": 10,
             "solidity": 0.2
            },
            "type": "scatter"
           }
          ],
          "scatter3d": [
           {
            "line": {
             "colorbar": {
              "outlinewidth": 0,
              "ticks": ""
             }
            },
            "marker": {
             "colorbar": {
              "outlinewidth": 0,
              "ticks": ""
             }
            },
            "type": "scatter3d"
           }
          ],
          "scattercarpet": [
           {
            "marker": {
             "colorbar": {
              "outlinewidth": 0,
              "ticks": ""
             }
            },
            "type": "scattercarpet"
           }
          ],
          "scattergeo": [
           {
            "marker": {
             "colorbar": {
              "outlinewidth": 0,
              "ticks": ""
             }
            },
            "type": "scattergeo"
           }
          ],
          "scattergl": [
           {
            "marker": {
             "colorbar": {
              "outlinewidth": 0,
              "ticks": ""
             }
            },
            "type": "scattergl"
           }
          ],
          "scattermapbox": [
           {
            "marker": {
             "colorbar": {
              "outlinewidth": 0,
              "ticks": ""
             }
            },
            "type": "scattermapbox"
           }
          ],
          "scatterpolar": [
           {
            "marker": {
             "colorbar": {
              "outlinewidth": 0,
              "ticks": ""
             }
            },
            "type": "scatterpolar"
           }
          ],
          "scatterpolargl": [
           {
            "marker": {
             "colorbar": {
              "outlinewidth": 0,
              "ticks": ""
             }
            },
            "type": "scatterpolargl"
           }
          ],
          "scatterternary": [
           {
            "marker": {
             "colorbar": {
              "outlinewidth": 0,
              "ticks": ""
             }
            },
            "type": "scatterternary"
           }
          ],
          "surface": [
           {
            "colorbar": {
             "outlinewidth": 0,
             "ticks": ""
            },
            "colorscale": [
             [
              0,
              "#0d0887"
             ],
             [
              0.1111111111111111,
              "#46039f"
             ],
             [
              0.2222222222222222,
              "#7201a8"
             ],
             [
              0.3333333333333333,
              "#9c179e"
             ],
             [
              0.4444444444444444,
              "#bd3786"
             ],
             [
              0.5555555555555556,
              "#d8576b"
             ],
             [
              0.6666666666666666,
              "#ed7953"
             ],
             [
              0.7777777777777778,
              "#fb9f3a"
             ],
             [
              0.8888888888888888,
              "#fdca26"
             ],
             [
              1,
              "#f0f921"
             ]
            ],
            "type": "surface"
           }
          ],
          "table": [
           {
            "cells": {
             "fill": {
              "color": "#EBF0F8"
             },
             "line": {
              "color": "white"
             }
            },
            "header": {
             "fill": {
              "color": "#C8D4E3"
             },
             "line": {
              "color": "white"
             }
            },
            "type": "table"
           }
          ]
         },
         "layout": {
          "annotationdefaults": {
           "arrowcolor": "#2a3f5f",
           "arrowhead": 0,
           "arrowwidth": 1
          },
          "autotypenumbers": "strict",
          "coloraxis": {
           "colorbar": {
            "outlinewidth": 0,
            "ticks": ""
           }
          },
          "colorscale": {
           "diverging": [
            [
             0,
             "#8e0152"
            ],
            [
             0.1,
             "#c51b7d"
            ],
            [
             0.2,
             "#de77ae"
            ],
            [
             0.3,
             "#f1b6da"
            ],
            [
             0.4,
             "#fde0ef"
            ],
            [
             0.5,
             "#f7f7f7"
            ],
            [
             0.6,
             "#e6f5d0"
            ],
            [
             0.7,
             "#b8e186"
            ],
            [
             0.8,
             "#7fbc41"
            ],
            [
             0.9,
             "#4d9221"
            ],
            [
             1,
             "#276419"
            ]
           ],
           "sequential": [
            [
             0,
             "#0d0887"
            ],
            [
             0.1111111111111111,
             "#46039f"
            ],
            [
             0.2222222222222222,
             "#7201a8"
            ],
            [
             0.3333333333333333,
             "#9c179e"
            ],
            [
             0.4444444444444444,
             "#bd3786"
            ],
            [
             0.5555555555555556,
             "#d8576b"
            ],
            [
             0.6666666666666666,
             "#ed7953"
            ],
            [
             0.7777777777777778,
             "#fb9f3a"
            ],
            [
             0.8888888888888888,
             "#fdca26"
            ],
            [
             1,
             "#f0f921"
            ]
           ],
           "sequentialminus": [
            [
             0,
             "#0d0887"
            ],
            [
             0.1111111111111111,
             "#46039f"
            ],
            [
             0.2222222222222222,
             "#7201a8"
            ],
            [
             0.3333333333333333,
             "#9c179e"
            ],
            [
             0.4444444444444444,
             "#bd3786"
            ],
            [
             0.5555555555555556,
             "#d8576b"
            ],
            [
             0.6666666666666666,
             "#ed7953"
            ],
            [
             0.7777777777777778,
             "#fb9f3a"
            ],
            [
             0.8888888888888888,
             "#fdca26"
            ],
            [
             1,
             "#f0f921"
            ]
           ]
          },
          "colorway": [
           "#636efa",
           "#EF553B",
           "#00cc96",
           "#ab63fa",
           "#FFA15A",
           "#19d3f3",
           "#FF6692",
           "#B6E880",
           "#FF97FF",
           "#FECB52"
          ],
          "font": {
           "color": "#2a3f5f"
          },
          "geo": {
           "bgcolor": "white",
           "lakecolor": "white",
           "landcolor": "#E5ECF6",
           "showlakes": true,
           "showland": true,
           "subunitcolor": "white"
          },
          "hoverlabel": {
           "align": "left"
          },
          "hovermode": "closest",
          "mapbox": {
           "style": "light"
          },
          "paper_bgcolor": "white",
          "plot_bgcolor": "#E5ECF6",
          "polar": {
           "angularaxis": {
            "gridcolor": "white",
            "linecolor": "white",
            "ticks": ""
           },
           "bgcolor": "#E5ECF6",
           "radialaxis": {
            "gridcolor": "white",
            "linecolor": "white",
            "ticks": ""
           }
          },
          "scene": {
           "xaxis": {
            "backgroundcolor": "#E5ECF6",
            "gridcolor": "white",
            "gridwidth": 2,
            "linecolor": "white",
            "showbackground": true,
            "ticks": "",
            "zerolinecolor": "white"
           },
           "yaxis": {
            "backgroundcolor": "#E5ECF6",
            "gridcolor": "white",
            "gridwidth": 2,
            "linecolor": "white",
            "showbackground": true,
            "ticks": "",
            "zerolinecolor": "white"
           },
           "zaxis": {
            "backgroundcolor": "#E5ECF6",
            "gridcolor": "white",
            "gridwidth": 2,
            "linecolor": "white",
            "showbackground": true,
            "ticks": "",
            "zerolinecolor": "white"
           }
          },
          "shapedefaults": {
           "line": {
            "color": "#2a3f5f"
           }
          },
          "ternary": {
           "aaxis": {
            "gridcolor": "white",
            "linecolor": "white",
            "ticks": ""
           },
           "baxis": {
            "gridcolor": "white",
            "linecolor": "white",
            "ticks": ""
           },
           "bgcolor": "#E5ECF6",
           "caxis": {
            "gridcolor": "white",
            "linecolor": "white",
            "ticks": ""
           }
          },
          "title": {
           "x": 0.05
          },
          "xaxis": {
           "automargin": true,
           "gridcolor": "white",
           "linecolor": "white",
           "ticks": "",
           "title": {
            "standoff": 15
           },
           "zerolinecolor": "white",
           "zerolinewidth": 2
          },
          "yaxis": {
           "automargin": true,
           "gridcolor": "white",
           "linecolor": "white",
           "ticks": "",
           "title": {
            "standoff": 15
           },
           "zerolinecolor": "white",
           "zerolinewidth": 2
          }
         }
        },
        "title": {
         "text": "Correlation Matrix of Closing Prices"
        },
        "xaxis": {
         "title": {
          "text": "Ticker"
         }
        },
        "yaxis": {
         "title": {
          "text": "Ticker"
         }
        }
       }
      },
      "text/html": [
       "<div>                            <div id=\"1b1ef1dd-1e78-4e0a-9827-584fcf7692a1\" class=\"plotly-graph-div\" style=\"height:525px; width:100%;\"></div>            <script type=\"text/javascript\">                require([\"plotly\"], function(Plotly) {                    window.PLOTLYENV=window.PLOTLYENV || {};                                    if (document.getElementById(\"1b1ef1dd-1e78-4e0a-9827-584fcf7692a1\")) {                    Plotly.newPlot(                        \"1b1ef1dd-1e78-4e0a-9827-584fcf7692a1\",                        [{\"colorbar\":{\"title\":{\"text\":\"Correlation\"}},\"colorscale\":[[0.0,\"rgb(247,251,255)\"],[0.125,\"rgb(222,235,247)\"],[0.25,\"rgb(198,219,239)\"],[0.375,\"rgb(158,202,225)\"],[0.5,\"rgb(107,174,214)\"],[0.625,\"rgb(66,146,198)\"],[0.75,\"rgb(33,113,181)\"],[0.875,\"rgb(8,81,156)\"],[1.0,\"rgb(8,48,107)\"]],\"x\":[\"AAPL\",\"GOOG\",\"MSFT\",\"NFLX\"],\"y\":[\"AAPL\",\"GOOG\",\"MSFT\",\"NFLX\"],\"z\":[[1.0,0.9016621511047137,0.9530374039554307,0.1544175660931925],[0.9016621511047137,1.0,0.8845268030991121,0.20104610369838136],[0.9530374039554307,0.8845268030991121,1.0,0.19127320231604947],[0.1544175660931925,0.20104610369838136,0.19127320231604947,1.0]],\"type\":\"heatmap\"}],                        {\"template\":{\"data\":{\"histogram2dcontour\":[{\"type\":\"histogram2dcontour\",\"colorbar\":{\"outlinewidth\":0,\"ticks\":\"\"},\"colorscale\":[[0.0,\"#0d0887\"],[0.1111111111111111,\"#46039f\"],[0.2222222222222222,\"#7201a8\"],[0.3333333333333333,\"#9c179e\"],[0.4444444444444444,\"#bd3786\"],[0.5555555555555556,\"#d8576b\"],[0.6666666666666666,\"#ed7953\"],[0.7777777777777778,\"#fb9f3a\"],[0.8888888888888888,\"#fdca26\"],[1.0,\"#f0f921\"]]}],\"choropleth\":[{\"type\":\"choropleth\",\"colorbar\":{\"outlinewidth\":0,\"ticks\":\"\"}}],\"histogram2d\":[{\"type\":\"histogram2d\",\"colorbar\":{\"outlinewidth\":0,\"ticks\":\"\"},\"colorscale\":[[0.0,\"#0d0887\"],[0.1111111111111111,\"#46039f\"],[0.2222222222222222,\"#7201a8\"],[0.3333333333333333,\"#9c179e\"],[0.4444444444444444,\"#bd3786\"],[0.5555555555555556,\"#d8576b\"],[0.6666666666666666,\"#ed7953\"],[0.7777777777777778,\"#fb9f3a\"],[0.8888888888888888,\"#fdca26\"],[1.0,\"#f0f921\"]]}],\"heatmap\":[{\"type\":\"heatmap\",\"colorbar\":{\"outlinewidth\":0,\"ticks\":\"\"},\"colorscale\":[[0.0,\"#0d0887\"],[0.1111111111111111,\"#46039f\"],[0.2222222222222222,\"#7201a8\"],[0.3333333333333333,\"#9c179e\"],[0.4444444444444444,\"#bd3786\"],[0.5555555555555556,\"#d8576b\"],[0.6666666666666666,\"#ed7953\"],[0.7777777777777778,\"#fb9f3a\"],[0.8888888888888888,\"#fdca26\"],[1.0,\"#f0f921\"]]}],\"heatmapgl\":[{\"type\":\"heatmapgl\",\"colorbar\":{\"outlinewidth\":0,\"ticks\":\"\"},\"colorscale\":[[0.0,\"#0d0887\"],[0.1111111111111111,\"#46039f\"],[0.2222222222222222,\"#7201a8\"],[0.3333333333333333,\"#9c179e\"],[0.4444444444444444,\"#bd3786\"],[0.5555555555555556,\"#d8576b\"],[0.6666666666666666,\"#ed7953\"],[0.7777777777777778,\"#fb9f3a\"],[0.8888888888888888,\"#fdca26\"],[1.0,\"#f0f921\"]]}],\"contourcarpet\":[{\"type\":\"contourcarpet\",\"colorbar\":{\"outlinewidth\":0,\"ticks\":\"\"}}],\"contour\":[{\"type\":\"contour\",\"colorbar\":{\"outlinewidth\":0,\"ticks\":\"\"},\"colorscale\":[[0.0,\"#0d0887\"],[0.1111111111111111,\"#46039f\"],[0.2222222222222222,\"#7201a8\"],[0.3333333333333333,\"#9c179e\"],[0.4444444444444444,\"#bd3786\"],[0.5555555555555556,\"#d8576b\"],[0.6666666666666666,\"#ed7953\"],[0.7777777777777778,\"#fb9f3a\"],[0.8888888888888888,\"#fdca26\"],[1.0,\"#f0f921\"]]}],\"surface\":[{\"type\":\"surface\",\"colorbar\":{\"outlinewidth\":0,\"ticks\":\"\"},\"colorscale\":[[0.0,\"#0d0887\"],[0.1111111111111111,\"#46039f\"],[0.2222222222222222,\"#7201a8\"],[0.3333333333333333,\"#9c179e\"],[0.4444444444444444,\"#bd3786\"],[0.5555555555555556,\"#d8576b\"],[0.6666666666666666,\"#ed7953\"],[0.7777777777777778,\"#fb9f3a\"],[0.8888888888888888,\"#fdca26\"],[1.0,\"#f0f921\"]]}],\"mesh3d\":[{\"type\":\"mesh3d\",\"colorbar\":{\"outlinewidth\":0,\"ticks\":\"\"}}],\"scatter\":[{\"fillpattern\":{\"fillmode\":\"overlay\",\"size\":10,\"solidity\":0.2},\"type\":\"scatter\"}],\"parcoords\":[{\"type\":\"parcoords\",\"line\":{\"colorbar\":{\"outlinewidth\":0,\"ticks\":\"\"}}}],\"scatterpolargl\":[{\"type\":\"scatterpolargl\",\"marker\":{\"colorbar\":{\"outlinewidth\":0,\"ticks\":\"\"}}}],\"bar\":[{\"error_x\":{\"color\":\"#2a3f5f\"},\"error_y\":{\"color\":\"#2a3f5f\"},\"marker\":{\"line\":{\"color\":\"#E5ECF6\",\"width\":0.5},\"pattern\":{\"fillmode\":\"overlay\",\"size\":10,\"solidity\":0.2}},\"type\":\"bar\"}],\"scattergeo\":[{\"type\":\"scattergeo\",\"marker\":{\"colorbar\":{\"outlinewidth\":0,\"ticks\":\"\"}}}],\"scatterpolar\":[{\"type\":\"scatterpolar\",\"marker\":{\"colorbar\":{\"outlinewidth\":0,\"ticks\":\"\"}}}],\"histogram\":[{\"marker\":{\"pattern\":{\"fillmode\":\"overlay\",\"size\":10,\"solidity\":0.2}},\"type\":\"histogram\"}],\"scattergl\":[{\"type\":\"scattergl\",\"marker\":{\"colorbar\":{\"outlinewidth\":0,\"ticks\":\"\"}}}],\"scatter3d\":[{\"type\":\"scatter3d\",\"line\":{\"colorbar\":{\"outlinewidth\":0,\"ticks\":\"\"}},\"marker\":{\"colorbar\":{\"outlinewidth\":0,\"ticks\":\"\"}}}],\"scattermapbox\":[{\"type\":\"scattermapbox\",\"marker\":{\"colorbar\":{\"outlinewidth\":0,\"ticks\":\"\"}}}],\"scatterternary\":[{\"type\":\"scatterternary\",\"marker\":{\"colorbar\":{\"outlinewidth\":0,\"ticks\":\"\"}}}],\"scattercarpet\":[{\"type\":\"scattercarpet\",\"marker\":{\"colorbar\":{\"outlinewidth\":0,\"ticks\":\"\"}}}],\"carpet\":[{\"aaxis\":{\"endlinecolor\":\"#2a3f5f\",\"gridcolor\":\"white\",\"linecolor\":\"white\",\"minorgridcolor\":\"white\",\"startlinecolor\":\"#2a3f5f\"},\"baxis\":{\"endlinecolor\":\"#2a3f5f\",\"gridcolor\":\"white\",\"linecolor\":\"white\",\"minorgridcolor\":\"white\",\"startlinecolor\":\"#2a3f5f\"},\"type\":\"carpet\"}],\"table\":[{\"cells\":{\"fill\":{\"color\":\"#EBF0F8\"},\"line\":{\"color\":\"white\"}},\"header\":{\"fill\":{\"color\":\"#C8D4E3\"},\"line\":{\"color\":\"white\"}},\"type\":\"table\"}],\"barpolar\":[{\"marker\":{\"line\":{\"color\":\"#E5ECF6\",\"width\":0.5},\"pattern\":{\"fillmode\":\"overlay\",\"size\":10,\"solidity\":0.2}},\"type\":\"barpolar\"}],\"pie\":[{\"automargin\":true,\"type\":\"pie\"}]},\"layout\":{\"autotypenumbers\":\"strict\",\"colorway\":[\"#636efa\",\"#EF553B\",\"#00cc96\",\"#ab63fa\",\"#FFA15A\",\"#19d3f3\",\"#FF6692\",\"#B6E880\",\"#FF97FF\",\"#FECB52\"],\"font\":{\"color\":\"#2a3f5f\"},\"hovermode\":\"closest\",\"hoverlabel\":{\"align\":\"left\"},\"paper_bgcolor\":\"white\",\"plot_bgcolor\":\"#E5ECF6\",\"polar\":{\"bgcolor\":\"#E5ECF6\",\"angularaxis\":{\"gridcolor\":\"white\",\"linecolor\":\"white\",\"ticks\":\"\"},\"radialaxis\":{\"gridcolor\":\"white\",\"linecolor\":\"white\",\"ticks\":\"\"}},\"ternary\":{\"bgcolor\":\"#E5ECF6\",\"aaxis\":{\"gridcolor\":\"white\",\"linecolor\":\"white\",\"ticks\":\"\"},\"baxis\":{\"gridcolor\":\"white\",\"linecolor\":\"white\",\"ticks\":\"\"},\"caxis\":{\"gridcolor\":\"white\",\"linecolor\":\"white\",\"ticks\":\"\"}},\"coloraxis\":{\"colorbar\":{\"outlinewidth\":0,\"ticks\":\"\"}},\"colorscale\":{\"sequential\":[[0.0,\"#0d0887\"],[0.1111111111111111,\"#46039f\"],[0.2222222222222222,\"#7201a8\"],[0.3333333333333333,\"#9c179e\"],[0.4444444444444444,\"#bd3786\"],[0.5555555555555556,\"#d8576b\"],[0.6666666666666666,\"#ed7953\"],[0.7777777777777778,\"#fb9f3a\"],[0.8888888888888888,\"#fdca26\"],[1.0,\"#f0f921\"]],\"sequentialminus\":[[0.0,\"#0d0887\"],[0.1111111111111111,\"#46039f\"],[0.2222222222222222,\"#7201a8\"],[0.3333333333333333,\"#9c179e\"],[0.4444444444444444,\"#bd3786\"],[0.5555555555555556,\"#d8576b\"],[0.6666666666666666,\"#ed7953\"],[0.7777777777777778,\"#fb9f3a\"],[0.8888888888888888,\"#fdca26\"],[1.0,\"#f0f921\"]],\"diverging\":[[0,\"#8e0152\"],[0.1,\"#c51b7d\"],[0.2,\"#de77ae\"],[0.3,\"#f1b6da\"],[0.4,\"#fde0ef\"],[0.5,\"#f7f7f7\"],[0.6,\"#e6f5d0\"],[0.7,\"#b8e186\"],[0.8,\"#7fbc41\"],[0.9,\"#4d9221\"],[1,\"#276419\"]]},\"xaxis\":{\"gridcolor\":\"white\",\"linecolor\":\"white\",\"ticks\":\"\",\"title\":{\"standoff\":15},\"zerolinecolor\":\"white\",\"automargin\":true,\"zerolinewidth\":2},\"yaxis\":{\"gridcolor\":\"white\",\"linecolor\":\"white\",\"ticks\":\"\",\"title\":{\"standoff\":15},\"zerolinecolor\":\"white\",\"automargin\":true,\"zerolinewidth\":2},\"scene\":{\"xaxis\":{\"backgroundcolor\":\"#E5ECF6\",\"gridcolor\":\"white\",\"linecolor\":\"white\",\"showbackground\":true,\"ticks\":\"\",\"zerolinecolor\":\"white\",\"gridwidth\":2},\"yaxis\":{\"backgroundcolor\":\"#E5ECF6\",\"gridcolor\":\"white\",\"linecolor\":\"white\",\"showbackground\":true,\"ticks\":\"\",\"zerolinecolor\":\"white\",\"gridwidth\":2},\"zaxis\":{\"backgroundcolor\":\"#E5ECF6\",\"gridcolor\":\"white\",\"linecolor\":\"white\",\"showbackground\":true,\"ticks\":\"\",\"zerolinecolor\":\"white\",\"gridwidth\":2}},\"shapedefaults\":{\"line\":{\"color\":\"#2a3f5f\"}},\"annotationdefaults\":{\"arrowcolor\":\"#2a3f5f\",\"arrowhead\":0,\"arrowwidth\":1},\"geo\":{\"bgcolor\":\"white\",\"landcolor\":\"#E5ECF6\",\"subunitcolor\":\"white\",\"showland\":true,\"showlakes\":true,\"lakecolor\":\"white\"},\"title\":{\"x\":0.05},\"mapbox\":{\"style\":\"light\"}}},\"title\":{\"text\":\"Correlation Matrix of Closing Prices\"},\"xaxis\":{\"title\":{\"text\":\"Ticker\"}},\"yaxis\":{\"title\":{\"text\":\"Ticker\"}}},                        {\"responsive\": true}                    ).then(function(){\n",
       "                            \n",
       "var gd = document.getElementById('1b1ef1dd-1e78-4e0a-9827-584fcf7692a1');\n",
       "var x = new MutationObserver(function (mutations, observer) {{\n",
       "        var display = window.getComputedStyle(gd).display;\n",
       "        if (!display || display === 'none') {{\n",
       "            console.log([gd, 'removed!']);\n",
       "            Plotly.purge(gd);\n",
       "            observer.disconnect();\n",
       "        }}\n",
       "}});\n",
       "\n",
       "// Listen for the removal of the full notebook cells\n",
       "var notebookContainer = gd.closest('#notebook-container');\n",
       "if (notebookContainer) {{\n",
       "    x.observe(notebookContainer, {childList: true});\n",
       "}}\n",
       "\n",
       "// Listen for the clearing of the current output cell\n",
       "var outputEl = gd.closest('.output');\n",
       "if (outputEl) {{\n",
       "    x.observe(outputEl, {childList: true});\n",
       "}}\n",
       "\n",
       "                        })                };                });            </script>        </div>"
      ]
     },
     "metadata": {},
     "output_type": "display_data"
    }
   ],
   "source": [
    "# Correlation Analysis\n",
    "correlation_matrix = pivot_data.corr()\n",
    "\n",
    "fig = go.Figure(data=go.Heatmap(\n",
    "                    z=correlation_matrix,\n",
    "                    x=correlation_matrix.columns,\n",
    "                    y=correlation_matrix.columns,\n",
    "                    colorscale='blues',\n",
    "                    colorbar=dict(title='Correlation'),\n",
    "                    ))\n",
    "\n",
    "# Update layout\n",
    "fig.update_layout(\n",
    "    title='Correlation Matrix of Closing Prices',\n",
    "    xaxis_title='Ticker',\n",
    "    yaxis_title='Ticker'\n",
    ")\n",
    "\n",
    "# Show the figure\n",
    "fig.show()\n"
   ]
  },
  {
   "cell_type": "markdown",
   "id": "ae4cef84",
   "metadata": {},
   "source": [
    "### Observations:\n",
    "\n",
    "1. AAPL and MSFT seem to have a relatively higher positive correlation."
   ]
  },
  {
   "cell_type": "markdown",
   "id": "c73be284",
   "metadata": {},
   "source": [
    "## 4. Comparative Analysis"
   ]
  },
  {
   "cell_type": "code",
   "execution_count": 65,
   "id": "181108a5",
   "metadata": {},
   "outputs": [
    {
     "data": {
      "application/vnd.plotly.v1+json": {
       "config": {
        "plotlyServerURL": "https://plot.ly"
       },
       "data": [
        {
         "alignmentgroup": "True",
         "hovertemplate": "Ticker=%{x}<br>Percentage Change (%%)=%{y}<extra></extra>",
         "legendgroup": "",
         "marker": {
          "color": "#636efa",
          "pattern": {
           "shape": ""
          }
         },
         "name": "",
         "offsetgroup": "",
         "orientation": "v",
         "showlegend": false,
         "textposition": "auto",
         "type": "bar",
         "x": [
          "AAPL",
          "GOOG",
          "MSFT",
          "NFLX"
         ],
         "xaxis": "x",
         "y": [
          12.234086113445672,
          -1.689193411858285,
          16.104797701851634,
          -11.073150871939196
         ],
         "yaxis": "y"
        }
       ],
       "layout": {
        "barmode": "relative",
        "legend": {
         "tracegroupgap": 0
        },
        "template": {
         "data": {
          "bar": [
           {
            "error_x": {
             "color": "#2a3f5f"
            },
            "error_y": {
             "color": "#2a3f5f"
            },
            "marker": {
             "line": {
              "color": "#E5ECF6",
              "width": 0.5
             },
             "pattern": {
              "fillmode": "overlay",
              "size": 10,
              "solidity": 0.2
             }
            },
            "type": "bar"
           }
          ],
          "barpolar": [
           {
            "marker": {
             "line": {
              "color": "#E5ECF6",
              "width": 0.5
             },
             "pattern": {
              "fillmode": "overlay",
              "size": 10,
              "solidity": 0.2
             }
            },
            "type": "barpolar"
           }
          ],
          "carpet": [
           {
            "aaxis": {
             "endlinecolor": "#2a3f5f",
             "gridcolor": "white",
             "linecolor": "white",
             "minorgridcolor": "white",
             "startlinecolor": "#2a3f5f"
            },
            "baxis": {
             "endlinecolor": "#2a3f5f",
             "gridcolor": "white",
             "linecolor": "white",
             "minorgridcolor": "white",
             "startlinecolor": "#2a3f5f"
            },
            "type": "carpet"
           }
          ],
          "choropleth": [
           {
            "colorbar": {
             "outlinewidth": 0,
             "ticks": ""
            },
            "type": "choropleth"
           }
          ],
          "contour": [
           {
            "colorbar": {
             "outlinewidth": 0,
             "ticks": ""
            },
            "colorscale": [
             [
              0,
              "#0d0887"
             ],
             [
              0.1111111111111111,
              "#46039f"
             ],
             [
              0.2222222222222222,
              "#7201a8"
             ],
             [
              0.3333333333333333,
              "#9c179e"
             ],
             [
              0.4444444444444444,
              "#bd3786"
             ],
             [
              0.5555555555555556,
              "#d8576b"
             ],
             [
              0.6666666666666666,
              "#ed7953"
             ],
             [
              0.7777777777777778,
              "#fb9f3a"
             ],
             [
              0.8888888888888888,
              "#fdca26"
             ],
             [
              1,
              "#f0f921"
             ]
            ],
            "type": "contour"
           }
          ],
          "contourcarpet": [
           {
            "colorbar": {
             "outlinewidth": 0,
             "ticks": ""
            },
            "type": "contourcarpet"
           }
          ],
          "heatmap": [
           {
            "colorbar": {
             "outlinewidth": 0,
             "ticks": ""
            },
            "colorscale": [
             [
              0,
              "#0d0887"
             ],
             [
              0.1111111111111111,
              "#46039f"
             ],
             [
              0.2222222222222222,
              "#7201a8"
             ],
             [
              0.3333333333333333,
              "#9c179e"
             ],
             [
              0.4444444444444444,
              "#bd3786"
             ],
             [
              0.5555555555555556,
              "#d8576b"
             ],
             [
              0.6666666666666666,
              "#ed7953"
             ],
             [
              0.7777777777777778,
              "#fb9f3a"
             ],
             [
              0.8888888888888888,
              "#fdca26"
             ],
             [
              1,
              "#f0f921"
             ]
            ],
            "type": "heatmap"
           }
          ],
          "heatmapgl": [
           {
            "colorbar": {
             "outlinewidth": 0,
             "ticks": ""
            },
            "colorscale": [
             [
              0,
              "#0d0887"
             ],
             [
              0.1111111111111111,
              "#46039f"
             ],
             [
              0.2222222222222222,
              "#7201a8"
             ],
             [
              0.3333333333333333,
              "#9c179e"
             ],
             [
              0.4444444444444444,
              "#bd3786"
             ],
             [
              0.5555555555555556,
              "#d8576b"
             ],
             [
              0.6666666666666666,
              "#ed7953"
             ],
             [
              0.7777777777777778,
              "#fb9f3a"
             ],
             [
              0.8888888888888888,
              "#fdca26"
             ],
             [
              1,
              "#f0f921"
             ]
            ],
            "type": "heatmapgl"
           }
          ],
          "histogram": [
           {
            "marker": {
             "pattern": {
              "fillmode": "overlay",
              "size": 10,
              "solidity": 0.2
             }
            },
            "type": "histogram"
           }
          ],
          "histogram2d": [
           {
            "colorbar": {
             "outlinewidth": 0,
             "ticks": ""
            },
            "colorscale": [
             [
              0,
              "#0d0887"
             ],
             [
              0.1111111111111111,
              "#46039f"
             ],
             [
              0.2222222222222222,
              "#7201a8"
             ],
             [
              0.3333333333333333,
              "#9c179e"
             ],
             [
              0.4444444444444444,
              "#bd3786"
             ],
             [
              0.5555555555555556,
              "#d8576b"
             ],
             [
              0.6666666666666666,
              "#ed7953"
             ],
             [
              0.7777777777777778,
              "#fb9f3a"
             ],
             [
              0.8888888888888888,
              "#fdca26"
             ],
             [
              1,
              "#f0f921"
             ]
            ],
            "type": "histogram2d"
           }
          ],
          "histogram2dcontour": [
           {
            "colorbar": {
             "outlinewidth": 0,
             "ticks": ""
            },
            "colorscale": [
             [
              0,
              "#0d0887"
             ],
             [
              0.1111111111111111,
              "#46039f"
             ],
             [
              0.2222222222222222,
              "#7201a8"
             ],
             [
              0.3333333333333333,
              "#9c179e"
             ],
             [
              0.4444444444444444,
              "#bd3786"
             ],
             [
              0.5555555555555556,
              "#d8576b"
             ],
             [
              0.6666666666666666,
              "#ed7953"
             ],
             [
              0.7777777777777778,
              "#fb9f3a"
             ],
             [
              0.8888888888888888,
              "#fdca26"
             ],
             [
              1,
              "#f0f921"
             ]
            ],
            "type": "histogram2dcontour"
           }
          ],
          "mesh3d": [
           {
            "colorbar": {
             "outlinewidth": 0,
             "ticks": ""
            },
            "type": "mesh3d"
           }
          ],
          "parcoords": [
           {
            "line": {
             "colorbar": {
              "outlinewidth": 0,
              "ticks": ""
             }
            },
            "type": "parcoords"
           }
          ],
          "pie": [
           {
            "automargin": true,
            "type": "pie"
           }
          ],
          "scatter": [
           {
            "fillpattern": {
             "fillmode": "overlay",
             "size": 10,
             "solidity": 0.2
            },
            "type": "scatter"
           }
          ],
          "scatter3d": [
           {
            "line": {
             "colorbar": {
              "outlinewidth": 0,
              "ticks": ""
             }
            },
            "marker": {
             "colorbar": {
              "outlinewidth": 0,
              "ticks": ""
             }
            },
            "type": "scatter3d"
           }
          ],
          "scattercarpet": [
           {
            "marker": {
             "colorbar": {
              "outlinewidth": 0,
              "ticks": ""
             }
            },
            "type": "scattercarpet"
           }
          ],
          "scattergeo": [
           {
            "marker": {
             "colorbar": {
              "outlinewidth": 0,
              "ticks": ""
             }
            },
            "type": "scattergeo"
           }
          ],
          "scattergl": [
           {
            "marker": {
             "colorbar": {
              "outlinewidth": 0,
              "ticks": ""
             }
            },
            "type": "scattergl"
           }
          ],
          "scattermapbox": [
           {
            "marker": {
             "colorbar": {
              "outlinewidth": 0,
              "ticks": ""
             }
            },
            "type": "scattermapbox"
           }
          ],
          "scatterpolar": [
           {
            "marker": {
             "colorbar": {
              "outlinewidth": 0,
              "ticks": ""
             }
            },
            "type": "scatterpolar"
           }
          ],
          "scatterpolargl": [
           {
            "marker": {
             "colorbar": {
              "outlinewidth": 0,
              "ticks": ""
             }
            },
            "type": "scatterpolargl"
           }
          ],
          "scatterternary": [
           {
            "marker": {
             "colorbar": {
              "outlinewidth": 0,
              "ticks": ""
             }
            },
            "type": "scatterternary"
           }
          ],
          "surface": [
           {
            "colorbar": {
             "outlinewidth": 0,
             "ticks": ""
            },
            "colorscale": [
             [
              0,
              "#0d0887"
             ],
             [
              0.1111111111111111,
              "#46039f"
             ],
             [
              0.2222222222222222,
              "#7201a8"
             ],
             [
              0.3333333333333333,
              "#9c179e"
             ],
             [
              0.4444444444444444,
              "#bd3786"
             ],
             [
              0.5555555555555556,
              "#d8576b"
             ],
             [
              0.6666666666666666,
              "#ed7953"
             ],
             [
              0.7777777777777778,
              "#fb9f3a"
             ],
             [
              0.8888888888888888,
              "#fdca26"
             ],
             [
              1,
              "#f0f921"
             ]
            ],
            "type": "surface"
           }
          ],
          "table": [
           {
            "cells": {
             "fill": {
              "color": "#EBF0F8"
             },
             "line": {
              "color": "white"
             }
            },
            "header": {
             "fill": {
              "color": "#C8D4E3"
             },
             "line": {
              "color": "white"
             }
            },
            "type": "table"
           }
          ]
         },
         "layout": {
          "annotationdefaults": {
           "arrowcolor": "#2a3f5f",
           "arrowhead": 0,
           "arrowwidth": 1
          },
          "autotypenumbers": "strict",
          "coloraxis": {
           "colorbar": {
            "outlinewidth": 0,
            "ticks": ""
           }
          },
          "colorscale": {
           "diverging": [
            [
             0,
             "#8e0152"
            ],
            [
             0.1,
             "#c51b7d"
            ],
            [
             0.2,
             "#de77ae"
            ],
            [
             0.3,
             "#f1b6da"
            ],
            [
             0.4,
             "#fde0ef"
            ],
            [
             0.5,
             "#f7f7f7"
            ],
            [
             0.6,
             "#e6f5d0"
            ],
            [
             0.7,
             "#b8e186"
            ],
            [
             0.8,
             "#7fbc41"
            ],
            [
             0.9,
             "#4d9221"
            ],
            [
             1,
             "#276419"
            ]
           ],
           "sequential": [
            [
             0,
             "#0d0887"
            ],
            [
             0.1111111111111111,
             "#46039f"
            ],
            [
             0.2222222222222222,
             "#7201a8"
            ],
            [
             0.3333333333333333,
             "#9c179e"
            ],
            [
             0.4444444444444444,
             "#bd3786"
            ],
            [
             0.5555555555555556,
             "#d8576b"
            ],
            [
             0.6666666666666666,
             "#ed7953"
            ],
            [
             0.7777777777777778,
             "#fb9f3a"
            ],
            [
             0.8888888888888888,
             "#fdca26"
            ],
            [
             1,
             "#f0f921"
            ]
           ],
           "sequentialminus": [
            [
             0,
             "#0d0887"
            ],
            [
             0.1111111111111111,
             "#46039f"
            ],
            [
             0.2222222222222222,
             "#7201a8"
            ],
            [
             0.3333333333333333,
             "#9c179e"
            ],
            [
             0.4444444444444444,
             "#bd3786"
            ],
            [
             0.5555555555555556,
             "#d8576b"
            ],
            [
             0.6666666666666666,
             "#ed7953"
            ],
            [
             0.7777777777777778,
             "#fb9f3a"
            ],
            [
             0.8888888888888888,
             "#fdca26"
            ],
            [
             1,
             "#f0f921"
            ]
           ]
          },
          "colorway": [
           "#636efa",
           "#EF553B",
           "#00cc96",
           "#ab63fa",
           "#FFA15A",
           "#19d3f3",
           "#FF6692",
           "#B6E880",
           "#FF97FF",
           "#FECB52"
          ],
          "font": {
           "color": "#2a3f5f"
          },
          "geo": {
           "bgcolor": "white",
           "lakecolor": "white",
           "landcolor": "#E5ECF6",
           "showlakes": true,
           "showland": true,
           "subunitcolor": "white"
          },
          "hoverlabel": {
           "align": "left"
          },
          "hovermode": "closest",
          "mapbox": {
           "style": "light"
          },
          "paper_bgcolor": "white",
          "plot_bgcolor": "#E5ECF6",
          "polar": {
           "angularaxis": {
            "gridcolor": "white",
            "linecolor": "white",
            "ticks": ""
           },
           "bgcolor": "#E5ECF6",
           "radialaxis": {
            "gridcolor": "white",
            "linecolor": "white",
            "ticks": ""
           }
          },
          "scene": {
           "xaxis": {
            "backgroundcolor": "#E5ECF6",
            "gridcolor": "white",
            "gridwidth": 2,
            "linecolor": "white",
            "showbackground": true,
            "ticks": "",
            "zerolinecolor": "white"
           },
           "yaxis": {
            "backgroundcolor": "#E5ECF6",
            "gridcolor": "white",
            "gridwidth": 2,
            "linecolor": "white",
            "showbackground": true,
            "ticks": "",
            "zerolinecolor": "white"
           },
           "zaxis": {
            "backgroundcolor": "#E5ECF6",
            "gridcolor": "white",
            "gridwidth": 2,
            "linecolor": "white",
            "showbackground": true,
            "ticks": "",
            "zerolinecolor": "white"
           }
          },
          "shapedefaults": {
           "line": {
            "color": "#2a3f5f"
           }
          },
          "ternary": {
           "aaxis": {
            "gridcolor": "white",
            "linecolor": "white",
            "ticks": ""
           },
           "baxis": {
            "gridcolor": "white",
            "linecolor": "white",
            "ticks": ""
           },
           "bgcolor": "#E5ECF6",
           "caxis": {
            "gridcolor": "white",
            "linecolor": "white",
            "ticks": ""
           }
          },
          "title": {
           "x": 0.05
          },
          "xaxis": {
           "automargin": true,
           "gridcolor": "white",
           "linecolor": "white",
           "ticks": "",
           "title": {
            "standoff": 15
           },
           "zerolinecolor": "white",
           "zerolinewidth": 2
          },
          "yaxis": {
           "automargin": true,
           "gridcolor": "white",
           "linecolor": "white",
           "ticks": "",
           "title": {
            "standoff": 15
           },
           "zerolinecolor": "white",
           "zerolinewidth": 2
          }
         }
        },
        "title": {
         "text": "Percentage Change in Closing Prices"
        },
        "xaxis": {
         "anchor": "y",
         "domain": [
          0,
          1
         ],
         "title": {
          "text": "Ticker"
         }
        },
        "yaxis": {
         "anchor": "x",
         "domain": [
          0,
          1
         ],
         "title": {
          "text": "Percentage Change (%%)"
         }
        }
       }
      },
      "text/html": [
       "<div>                            <div id=\"58253718-d1d7-4a41-a581-caa09d992fe7\" class=\"plotly-graph-div\" style=\"height:525px; width:100%;\"></div>            <script type=\"text/javascript\">                require([\"plotly\"], function(Plotly) {                    window.PLOTLYENV=window.PLOTLYENV || {};                                    if (document.getElementById(\"58253718-d1d7-4a41-a581-caa09d992fe7\")) {                    Plotly.newPlot(                        \"58253718-d1d7-4a41-a581-caa09d992fe7\",                        [{\"alignmentgroup\":\"True\",\"hovertemplate\":\"Ticker=%{x}<br>Percentage Change (%%)=%{y}<extra></extra>\",\"legendgroup\":\"\",\"marker\":{\"color\":\"#636efa\",\"pattern\":{\"shape\":\"\"}},\"name\":\"\",\"offsetgroup\":\"\",\"orientation\":\"v\",\"showlegend\":false,\"textposition\":\"auto\",\"x\":[\"AAPL\",\"GOOG\",\"MSFT\",\"NFLX\"],\"xaxis\":\"x\",\"y\":[12.234086113445672,-1.689193411858285,16.104797701851634,-11.073150871939196],\"yaxis\":\"y\",\"type\":\"bar\"}],                        {\"template\":{\"data\":{\"histogram2dcontour\":[{\"type\":\"histogram2dcontour\",\"colorbar\":{\"outlinewidth\":0,\"ticks\":\"\"},\"colorscale\":[[0.0,\"#0d0887\"],[0.1111111111111111,\"#46039f\"],[0.2222222222222222,\"#7201a8\"],[0.3333333333333333,\"#9c179e\"],[0.4444444444444444,\"#bd3786\"],[0.5555555555555556,\"#d8576b\"],[0.6666666666666666,\"#ed7953\"],[0.7777777777777778,\"#fb9f3a\"],[0.8888888888888888,\"#fdca26\"],[1.0,\"#f0f921\"]]}],\"choropleth\":[{\"type\":\"choropleth\",\"colorbar\":{\"outlinewidth\":0,\"ticks\":\"\"}}],\"histogram2d\":[{\"type\":\"histogram2d\",\"colorbar\":{\"outlinewidth\":0,\"ticks\":\"\"},\"colorscale\":[[0.0,\"#0d0887\"],[0.1111111111111111,\"#46039f\"],[0.2222222222222222,\"#7201a8\"],[0.3333333333333333,\"#9c179e\"],[0.4444444444444444,\"#bd3786\"],[0.5555555555555556,\"#d8576b\"],[0.6666666666666666,\"#ed7953\"],[0.7777777777777778,\"#fb9f3a\"],[0.8888888888888888,\"#fdca26\"],[1.0,\"#f0f921\"]]}],\"heatmap\":[{\"type\":\"heatmap\",\"colorbar\":{\"outlinewidth\":0,\"ticks\":\"\"},\"colorscale\":[[0.0,\"#0d0887\"],[0.1111111111111111,\"#46039f\"],[0.2222222222222222,\"#7201a8\"],[0.3333333333333333,\"#9c179e\"],[0.4444444444444444,\"#bd3786\"],[0.5555555555555556,\"#d8576b\"],[0.6666666666666666,\"#ed7953\"],[0.7777777777777778,\"#fb9f3a\"],[0.8888888888888888,\"#fdca26\"],[1.0,\"#f0f921\"]]}],\"heatmapgl\":[{\"type\":\"heatmapgl\",\"colorbar\":{\"outlinewidth\":0,\"ticks\":\"\"},\"colorscale\":[[0.0,\"#0d0887\"],[0.1111111111111111,\"#46039f\"],[0.2222222222222222,\"#7201a8\"],[0.3333333333333333,\"#9c179e\"],[0.4444444444444444,\"#bd3786\"],[0.5555555555555556,\"#d8576b\"],[0.6666666666666666,\"#ed7953\"],[0.7777777777777778,\"#fb9f3a\"],[0.8888888888888888,\"#fdca26\"],[1.0,\"#f0f921\"]]}],\"contourcarpet\":[{\"type\":\"contourcarpet\",\"colorbar\":{\"outlinewidth\":0,\"ticks\":\"\"}}],\"contour\":[{\"type\":\"contour\",\"colorbar\":{\"outlinewidth\":0,\"ticks\":\"\"},\"colorscale\":[[0.0,\"#0d0887\"],[0.1111111111111111,\"#46039f\"],[0.2222222222222222,\"#7201a8\"],[0.3333333333333333,\"#9c179e\"],[0.4444444444444444,\"#bd3786\"],[0.5555555555555556,\"#d8576b\"],[0.6666666666666666,\"#ed7953\"],[0.7777777777777778,\"#fb9f3a\"],[0.8888888888888888,\"#fdca26\"],[1.0,\"#f0f921\"]]}],\"surface\":[{\"type\":\"surface\",\"colorbar\":{\"outlinewidth\":0,\"ticks\":\"\"},\"colorscale\":[[0.0,\"#0d0887\"],[0.1111111111111111,\"#46039f\"],[0.2222222222222222,\"#7201a8\"],[0.3333333333333333,\"#9c179e\"],[0.4444444444444444,\"#bd3786\"],[0.5555555555555556,\"#d8576b\"],[0.6666666666666666,\"#ed7953\"],[0.7777777777777778,\"#fb9f3a\"],[0.8888888888888888,\"#fdca26\"],[1.0,\"#f0f921\"]]}],\"mesh3d\":[{\"type\":\"mesh3d\",\"colorbar\":{\"outlinewidth\":0,\"ticks\":\"\"}}],\"scatter\":[{\"fillpattern\":{\"fillmode\":\"overlay\",\"size\":10,\"solidity\":0.2},\"type\":\"scatter\"}],\"parcoords\":[{\"type\":\"parcoords\",\"line\":{\"colorbar\":{\"outlinewidth\":0,\"ticks\":\"\"}}}],\"scatterpolargl\":[{\"type\":\"scatterpolargl\",\"marker\":{\"colorbar\":{\"outlinewidth\":0,\"ticks\":\"\"}}}],\"bar\":[{\"error_x\":{\"color\":\"#2a3f5f\"},\"error_y\":{\"color\":\"#2a3f5f\"},\"marker\":{\"line\":{\"color\":\"#E5ECF6\",\"width\":0.5},\"pattern\":{\"fillmode\":\"overlay\",\"size\":10,\"solidity\":0.2}},\"type\":\"bar\"}],\"scattergeo\":[{\"type\":\"scattergeo\",\"marker\":{\"colorbar\":{\"outlinewidth\":0,\"ticks\":\"\"}}}],\"scatterpolar\":[{\"type\":\"scatterpolar\",\"marker\":{\"colorbar\":{\"outlinewidth\":0,\"ticks\":\"\"}}}],\"histogram\":[{\"marker\":{\"pattern\":{\"fillmode\":\"overlay\",\"size\":10,\"solidity\":0.2}},\"type\":\"histogram\"}],\"scattergl\":[{\"type\":\"scattergl\",\"marker\":{\"colorbar\":{\"outlinewidth\":0,\"ticks\":\"\"}}}],\"scatter3d\":[{\"type\":\"scatter3d\",\"line\":{\"colorbar\":{\"outlinewidth\":0,\"ticks\":\"\"}},\"marker\":{\"colorbar\":{\"outlinewidth\":0,\"ticks\":\"\"}}}],\"scattermapbox\":[{\"type\":\"scattermapbox\",\"marker\":{\"colorbar\":{\"outlinewidth\":0,\"ticks\":\"\"}}}],\"scatterternary\":[{\"type\":\"scatterternary\",\"marker\":{\"colorbar\":{\"outlinewidth\":0,\"ticks\":\"\"}}}],\"scattercarpet\":[{\"type\":\"scattercarpet\",\"marker\":{\"colorbar\":{\"outlinewidth\":0,\"ticks\":\"\"}}}],\"carpet\":[{\"aaxis\":{\"endlinecolor\":\"#2a3f5f\",\"gridcolor\":\"white\",\"linecolor\":\"white\",\"minorgridcolor\":\"white\",\"startlinecolor\":\"#2a3f5f\"},\"baxis\":{\"endlinecolor\":\"#2a3f5f\",\"gridcolor\":\"white\",\"linecolor\":\"white\",\"minorgridcolor\":\"white\",\"startlinecolor\":\"#2a3f5f\"},\"type\":\"carpet\"}],\"table\":[{\"cells\":{\"fill\":{\"color\":\"#EBF0F8\"},\"line\":{\"color\":\"white\"}},\"header\":{\"fill\":{\"color\":\"#C8D4E3\"},\"line\":{\"color\":\"white\"}},\"type\":\"table\"}],\"barpolar\":[{\"marker\":{\"line\":{\"color\":\"#E5ECF6\",\"width\":0.5},\"pattern\":{\"fillmode\":\"overlay\",\"size\":10,\"solidity\":0.2}},\"type\":\"barpolar\"}],\"pie\":[{\"automargin\":true,\"type\":\"pie\"}]},\"layout\":{\"autotypenumbers\":\"strict\",\"colorway\":[\"#636efa\",\"#EF553B\",\"#00cc96\",\"#ab63fa\",\"#FFA15A\",\"#19d3f3\",\"#FF6692\",\"#B6E880\",\"#FF97FF\",\"#FECB52\"],\"font\":{\"color\":\"#2a3f5f\"},\"hovermode\":\"closest\",\"hoverlabel\":{\"align\":\"left\"},\"paper_bgcolor\":\"white\",\"plot_bgcolor\":\"#E5ECF6\",\"polar\":{\"bgcolor\":\"#E5ECF6\",\"angularaxis\":{\"gridcolor\":\"white\",\"linecolor\":\"white\",\"ticks\":\"\"},\"radialaxis\":{\"gridcolor\":\"white\",\"linecolor\":\"white\",\"ticks\":\"\"}},\"ternary\":{\"bgcolor\":\"#E5ECF6\",\"aaxis\":{\"gridcolor\":\"white\",\"linecolor\":\"white\",\"ticks\":\"\"},\"baxis\":{\"gridcolor\":\"white\",\"linecolor\":\"white\",\"ticks\":\"\"},\"caxis\":{\"gridcolor\":\"white\",\"linecolor\":\"white\",\"ticks\":\"\"}},\"coloraxis\":{\"colorbar\":{\"outlinewidth\":0,\"ticks\":\"\"}},\"colorscale\":{\"sequential\":[[0.0,\"#0d0887\"],[0.1111111111111111,\"#46039f\"],[0.2222222222222222,\"#7201a8\"],[0.3333333333333333,\"#9c179e\"],[0.4444444444444444,\"#bd3786\"],[0.5555555555555556,\"#d8576b\"],[0.6666666666666666,\"#ed7953\"],[0.7777777777777778,\"#fb9f3a\"],[0.8888888888888888,\"#fdca26\"],[1.0,\"#f0f921\"]],\"sequentialminus\":[[0.0,\"#0d0887\"],[0.1111111111111111,\"#46039f\"],[0.2222222222222222,\"#7201a8\"],[0.3333333333333333,\"#9c179e\"],[0.4444444444444444,\"#bd3786\"],[0.5555555555555556,\"#d8576b\"],[0.6666666666666666,\"#ed7953\"],[0.7777777777777778,\"#fb9f3a\"],[0.8888888888888888,\"#fdca26\"],[1.0,\"#f0f921\"]],\"diverging\":[[0,\"#8e0152\"],[0.1,\"#c51b7d\"],[0.2,\"#de77ae\"],[0.3,\"#f1b6da\"],[0.4,\"#fde0ef\"],[0.5,\"#f7f7f7\"],[0.6,\"#e6f5d0\"],[0.7,\"#b8e186\"],[0.8,\"#7fbc41\"],[0.9,\"#4d9221\"],[1,\"#276419\"]]},\"xaxis\":{\"gridcolor\":\"white\",\"linecolor\":\"white\",\"ticks\":\"\",\"title\":{\"standoff\":15},\"zerolinecolor\":\"white\",\"automargin\":true,\"zerolinewidth\":2},\"yaxis\":{\"gridcolor\":\"white\",\"linecolor\":\"white\",\"ticks\":\"\",\"title\":{\"standoff\":15},\"zerolinecolor\":\"white\",\"automargin\":true,\"zerolinewidth\":2},\"scene\":{\"xaxis\":{\"backgroundcolor\":\"#E5ECF6\",\"gridcolor\":\"white\",\"linecolor\":\"white\",\"showbackground\":true,\"ticks\":\"\",\"zerolinecolor\":\"white\",\"gridwidth\":2},\"yaxis\":{\"backgroundcolor\":\"#E5ECF6\",\"gridcolor\":\"white\",\"linecolor\":\"white\",\"showbackground\":true,\"ticks\":\"\",\"zerolinecolor\":\"white\",\"gridwidth\":2},\"zaxis\":{\"backgroundcolor\":\"#E5ECF6\",\"gridcolor\":\"white\",\"linecolor\":\"white\",\"showbackground\":true,\"ticks\":\"\",\"zerolinecolor\":\"white\",\"gridwidth\":2}},\"shapedefaults\":{\"line\":{\"color\":\"#2a3f5f\"}},\"annotationdefaults\":{\"arrowcolor\":\"#2a3f5f\",\"arrowhead\":0,\"arrowwidth\":1},\"geo\":{\"bgcolor\":\"white\",\"landcolor\":\"#E5ECF6\",\"subunitcolor\":\"white\",\"showland\":true,\"showlakes\":true,\"lakecolor\":\"white\"},\"title\":{\"x\":0.05},\"mapbox\":{\"style\":\"light\"}}},\"xaxis\":{\"anchor\":\"y\",\"domain\":[0.0,1.0],\"title\":{\"text\":\"Ticker\"}},\"yaxis\":{\"anchor\":\"x\",\"domain\":[0.0,1.0],\"title\":{\"text\":\"Percentage Change (%%)\"}},\"legend\":{\"tracegroupgap\":0},\"title\":{\"text\":\"Percentage Change in Closing Prices\"},\"barmode\":\"relative\"},                        {\"responsive\": true}                    ).then(function(){\n",
       "                            \n",
       "var gd = document.getElementById('58253718-d1d7-4a41-a581-caa09d992fe7');\n",
       "var x = new MutationObserver(function (mutations, observer) {{\n",
       "        var display = window.getComputedStyle(gd).display;\n",
       "        if (!display || display === 'none') {{\n",
       "            console.log([gd, 'removed!']);\n",
       "            Plotly.purge(gd);\n",
       "            observer.disconnect();\n",
       "        }}\n",
       "}});\n",
       "\n",
       "// Listen for the removal of the full notebook cells\n",
       "var notebookContainer = gd.closest('#notebook-container');\n",
       "if (notebookContainer) {{\n",
       "    x.observe(notebookContainer, {childList: true});\n",
       "}}\n",
       "\n",
       "// Listen for the clearing of the current output cell\n",
       "var outputEl = gd.closest('.output');\n",
       "if (outputEl) {{\n",
       "    x.observe(outputEl, {childList: true});\n",
       "}}\n",
       "\n",
       "                        })                };                });            </script>        </div>"
      ]
     },
     "metadata": {},
     "output_type": "display_data"
    }
   ],
   "source": [
    "# Calculating the percentage change in closing prices\n",
    "percentage_change = ((pivot_data.iloc[-1] - pivot_data.iloc[0]) / pivot_data.iloc[0]) * 100\n",
    "\n",
    "fig = px.bar(percentage_change,\n",
    "             x=percentage_change.index,\n",
    "             y=percentage_change.values,\n",
    "             labels={'y': 'Percentage Change (%%)', 'x': 'Ticker'},\n",
    "             title='Percentage Change in Closing Prices')\n",
    "\n",
    "# Show the plot\n",
    "fig.show()"
   ]
  },
  {
   "cell_type": "markdown",
   "id": "373714fa",
   "metadata": {},
   "source": [
    "### Observations:\n",
    "\n",
    "1. MSFT: The highest positive change of approximately 16.10%.\n",
    "2. AAPL: Exhibited a positive change of approximately 12.23%. It indicates a solid performance, though slightly lower than MSFT’s.\n",
    "3. GOOG: Showed a slight negative change of about -1.69%. It indicates a minor decline in its stock price over the observed period.\n",
    "4. NFLX: Experienced the most significant negative change, at approximately -11.07%. It suggests a notable decrease in its stock price during the period."
   ]
  },
  {
   "cell_type": "markdown",
   "id": "792669c3",
   "metadata": {},
   "source": [
    "## 5. Daily Return vs Risk Analysis"
   ]
  },
  {
   "cell_type": "code",
   "execution_count": 66,
   "id": "f3792c52",
   "metadata": {},
   "outputs": [
    {
     "data": {
      "application/vnd.plotly.v1+json": {
       "config": {
        "plotlyServerURL": "https://plot.ly"
       },
       "data": [
        {
         "marker": {
          "size": 10
         },
         "mode": "markers+text",
         "text": [
          "AAPL",
          "GOOG",
          "MSFT",
          "NFLX"
         ],
         "textposition": "top center",
         "type": "scatter",
         "x": [
          0.014152223819857788,
          0.02071018305867296,
          0.017880778211219434,
          0.02248133504519506
         ],
         "y": [
          0.0019914967001490743,
          -6.680907497623024e-05,
          0.002605883762994603,
          -0.001676395789809318
         ]
        }
       ],
       "layout": {
        "showlegend": false,
        "template": {
         "data": {
          "bar": [
           {
            "error_x": {
             "color": "#2a3f5f"
            },
            "error_y": {
             "color": "#2a3f5f"
            },
            "marker": {
             "line": {
              "color": "#E5ECF6",
              "width": 0.5
             },
             "pattern": {
              "fillmode": "overlay",
              "size": 10,
              "solidity": 0.2
             }
            },
            "type": "bar"
           }
          ],
          "barpolar": [
           {
            "marker": {
             "line": {
              "color": "#E5ECF6",
              "width": 0.5
             },
             "pattern": {
              "fillmode": "overlay",
              "size": 10,
              "solidity": 0.2
             }
            },
            "type": "barpolar"
           }
          ],
          "carpet": [
           {
            "aaxis": {
             "endlinecolor": "#2a3f5f",
             "gridcolor": "white",
             "linecolor": "white",
             "minorgridcolor": "white",
             "startlinecolor": "#2a3f5f"
            },
            "baxis": {
             "endlinecolor": "#2a3f5f",
             "gridcolor": "white",
             "linecolor": "white",
             "minorgridcolor": "white",
             "startlinecolor": "#2a3f5f"
            },
            "type": "carpet"
           }
          ],
          "choropleth": [
           {
            "colorbar": {
             "outlinewidth": 0,
             "ticks": ""
            },
            "type": "choropleth"
           }
          ],
          "contour": [
           {
            "colorbar": {
             "outlinewidth": 0,
             "ticks": ""
            },
            "colorscale": [
             [
              0,
              "#0d0887"
             ],
             [
              0.1111111111111111,
              "#46039f"
             ],
             [
              0.2222222222222222,
              "#7201a8"
             ],
             [
              0.3333333333333333,
              "#9c179e"
             ],
             [
              0.4444444444444444,
              "#bd3786"
             ],
             [
              0.5555555555555556,
              "#d8576b"
             ],
             [
              0.6666666666666666,
              "#ed7953"
             ],
             [
              0.7777777777777778,
              "#fb9f3a"
             ],
             [
              0.8888888888888888,
              "#fdca26"
             ],
             [
              1,
              "#f0f921"
             ]
            ],
            "type": "contour"
           }
          ],
          "contourcarpet": [
           {
            "colorbar": {
             "outlinewidth": 0,
             "ticks": ""
            },
            "type": "contourcarpet"
           }
          ],
          "heatmap": [
           {
            "colorbar": {
             "outlinewidth": 0,
             "ticks": ""
            },
            "colorscale": [
             [
              0,
              "#0d0887"
             ],
             [
              0.1111111111111111,
              "#46039f"
             ],
             [
              0.2222222222222222,
              "#7201a8"
             ],
             [
              0.3333333333333333,
              "#9c179e"
             ],
             [
              0.4444444444444444,
              "#bd3786"
             ],
             [
              0.5555555555555556,
              "#d8576b"
             ],
             [
              0.6666666666666666,
              "#ed7953"
             ],
             [
              0.7777777777777778,
              "#fb9f3a"
             ],
             [
              0.8888888888888888,
              "#fdca26"
             ],
             [
              1,
              "#f0f921"
             ]
            ],
            "type": "heatmap"
           }
          ],
          "heatmapgl": [
           {
            "colorbar": {
             "outlinewidth": 0,
             "ticks": ""
            },
            "colorscale": [
             [
              0,
              "#0d0887"
             ],
             [
              0.1111111111111111,
              "#46039f"
             ],
             [
              0.2222222222222222,
              "#7201a8"
             ],
             [
              0.3333333333333333,
              "#9c179e"
             ],
             [
              0.4444444444444444,
              "#bd3786"
             ],
             [
              0.5555555555555556,
              "#d8576b"
             ],
             [
              0.6666666666666666,
              "#ed7953"
             ],
             [
              0.7777777777777778,
              "#fb9f3a"
             ],
             [
              0.8888888888888888,
              "#fdca26"
             ],
             [
              1,
              "#f0f921"
             ]
            ],
            "type": "heatmapgl"
           }
          ],
          "histogram": [
           {
            "marker": {
             "pattern": {
              "fillmode": "overlay",
              "size": 10,
              "solidity": 0.2
             }
            },
            "type": "histogram"
           }
          ],
          "histogram2d": [
           {
            "colorbar": {
             "outlinewidth": 0,
             "ticks": ""
            },
            "colorscale": [
             [
              0,
              "#0d0887"
             ],
             [
              0.1111111111111111,
              "#46039f"
             ],
             [
              0.2222222222222222,
              "#7201a8"
             ],
             [
              0.3333333333333333,
              "#9c179e"
             ],
             [
              0.4444444444444444,
              "#bd3786"
             ],
             [
              0.5555555555555556,
              "#d8576b"
             ],
             [
              0.6666666666666666,
              "#ed7953"
             ],
             [
              0.7777777777777778,
              "#fb9f3a"
             ],
             [
              0.8888888888888888,
              "#fdca26"
             ],
             [
              1,
              "#f0f921"
             ]
            ],
            "type": "histogram2d"
           }
          ],
          "histogram2dcontour": [
           {
            "colorbar": {
             "outlinewidth": 0,
             "ticks": ""
            },
            "colorscale": [
             [
              0,
              "#0d0887"
             ],
             [
              0.1111111111111111,
              "#46039f"
             ],
             [
              0.2222222222222222,
              "#7201a8"
             ],
             [
              0.3333333333333333,
              "#9c179e"
             ],
             [
              0.4444444444444444,
              "#bd3786"
             ],
             [
              0.5555555555555556,
              "#d8576b"
             ],
             [
              0.6666666666666666,
              "#ed7953"
             ],
             [
              0.7777777777777778,
              "#fb9f3a"
             ],
             [
              0.8888888888888888,
              "#fdca26"
             ],
             [
              1,
              "#f0f921"
             ]
            ],
            "type": "histogram2dcontour"
           }
          ],
          "mesh3d": [
           {
            "colorbar": {
             "outlinewidth": 0,
             "ticks": ""
            },
            "type": "mesh3d"
           }
          ],
          "parcoords": [
           {
            "line": {
             "colorbar": {
              "outlinewidth": 0,
              "ticks": ""
             }
            },
            "type": "parcoords"
           }
          ],
          "pie": [
           {
            "automargin": true,
            "type": "pie"
           }
          ],
          "scatter": [
           {
            "fillpattern": {
             "fillmode": "overlay",
             "size": 10,
             "solidity": 0.2
            },
            "type": "scatter"
           }
          ],
          "scatter3d": [
           {
            "line": {
             "colorbar": {
              "outlinewidth": 0,
              "ticks": ""
             }
            },
            "marker": {
             "colorbar": {
              "outlinewidth": 0,
              "ticks": ""
             }
            },
            "type": "scatter3d"
           }
          ],
          "scattercarpet": [
           {
            "marker": {
             "colorbar": {
              "outlinewidth": 0,
              "ticks": ""
             }
            },
            "type": "scattercarpet"
           }
          ],
          "scattergeo": [
           {
            "marker": {
             "colorbar": {
              "outlinewidth": 0,
              "ticks": ""
             }
            },
            "type": "scattergeo"
           }
          ],
          "scattergl": [
           {
            "marker": {
             "colorbar": {
              "outlinewidth": 0,
              "ticks": ""
             }
            },
            "type": "scattergl"
           }
          ],
          "scattermapbox": [
           {
            "marker": {
             "colorbar": {
              "outlinewidth": 0,
              "ticks": ""
             }
            },
            "type": "scattermapbox"
           }
          ],
          "scatterpolar": [
           {
            "marker": {
             "colorbar": {
              "outlinewidth": 0,
              "ticks": ""
             }
            },
            "type": "scatterpolar"
           }
          ],
          "scatterpolargl": [
           {
            "marker": {
             "colorbar": {
              "outlinewidth": 0,
              "ticks": ""
             }
            },
            "type": "scatterpolargl"
           }
          ],
          "scatterternary": [
           {
            "marker": {
             "colorbar": {
              "outlinewidth": 0,
              "ticks": ""
             }
            },
            "type": "scatterternary"
           }
          ],
          "surface": [
           {
            "colorbar": {
             "outlinewidth": 0,
             "ticks": ""
            },
            "colorscale": [
             [
              0,
              "#0d0887"
             ],
             [
              0.1111111111111111,
              "#46039f"
             ],
             [
              0.2222222222222222,
              "#7201a8"
             ],
             [
              0.3333333333333333,
              "#9c179e"
             ],
             [
              0.4444444444444444,
              "#bd3786"
             ],
             [
              0.5555555555555556,
              "#d8576b"
             ],
             [
              0.6666666666666666,
              "#ed7953"
             ],
             [
              0.7777777777777778,
              "#fb9f3a"
             ],
             [
              0.8888888888888888,
              "#fdca26"
             ],
             [
              1,
              "#f0f921"
             ]
            ],
            "type": "surface"
           }
          ],
          "table": [
           {
            "cells": {
             "fill": {
              "color": "#EBF0F8"
             },
             "line": {
              "color": "white"
             }
            },
            "header": {
             "fill": {
              "color": "#C8D4E3"
             },
             "line": {
              "color": "white"
             }
            },
            "type": "table"
           }
          ]
         },
         "layout": {
          "annotationdefaults": {
           "arrowcolor": "#2a3f5f",
           "arrowhead": 0,
           "arrowwidth": 1
          },
          "autotypenumbers": "strict",
          "coloraxis": {
           "colorbar": {
            "outlinewidth": 0,
            "ticks": ""
           }
          },
          "colorscale": {
           "diverging": [
            [
             0,
             "#8e0152"
            ],
            [
             0.1,
             "#c51b7d"
            ],
            [
             0.2,
             "#de77ae"
            ],
            [
             0.3,
             "#f1b6da"
            ],
            [
             0.4,
             "#fde0ef"
            ],
            [
             0.5,
             "#f7f7f7"
            ],
            [
             0.6,
             "#e6f5d0"
            ],
            [
             0.7,
             "#b8e186"
            ],
            [
             0.8,
             "#7fbc41"
            ],
            [
             0.9,
             "#4d9221"
            ],
            [
             1,
             "#276419"
            ]
           ],
           "sequential": [
            [
             0,
             "#0d0887"
            ],
            [
             0.1111111111111111,
             "#46039f"
            ],
            [
             0.2222222222222222,
             "#7201a8"
            ],
            [
             0.3333333333333333,
             "#9c179e"
            ],
            [
             0.4444444444444444,
             "#bd3786"
            ],
            [
             0.5555555555555556,
             "#d8576b"
            ],
            [
             0.6666666666666666,
             "#ed7953"
            ],
            [
             0.7777777777777778,
             "#fb9f3a"
            ],
            [
             0.8888888888888888,
             "#fdca26"
            ],
            [
             1,
             "#f0f921"
            ]
           ],
           "sequentialminus": [
            [
             0,
             "#0d0887"
            ],
            [
             0.1111111111111111,
             "#46039f"
            ],
            [
             0.2222222222222222,
             "#7201a8"
            ],
            [
             0.3333333333333333,
             "#9c179e"
            ],
            [
             0.4444444444444444,
             "#bd3786"
            ],
            [
             0.5555555555555556,
             "#d8576b"
            ],
            [
             0.6666666666666666,
             "#ed7953"
            ],
            [
             0.7777777777777778,
             "#fb9f3a"
            ],
            [
             0.8888888888888888,
             "#fdca26"
            ],
            [
             1,
             "#f0f921"
            ]
           ]
          },
          "colorway": [
           "#636efa",
           "#EF553B",
           "#00cc96",
           "#ab63fa",
           "#FFA15A",
           "#19d3f3",
           "#FF6692",
           "#B6E880",
           "#FF97FF",
           "#FECB52"
          ],
          "font": {
           "color": "#2a3f5f"
          },
          "geo": {
           "bgcolor": "white",
           "lakecolor": "white",
           "landcolor": "#E5ECF6",
           "showlakes": true,
           "showland": true,
           "subunitcolor": "white"
          },
          "hoverlabel": {
           "align": "left"
          },
          "hovermode": "closest",
          "mapbox": {
           "style": "light"
          },
          "paper_bgcolor": "white",
          "plot_bgcolor": "#E5ECF6",
          "polar": {
           "angularaxis": {
            "gridcolor": "white",
            "linecolor": "white",
            "ticks": ""
           },
           "bgcolor": "#E5ECF6",
           "radialaxis": {
            "gridcolor": "white",
            "linecolor": "white",
            "ticks": ""
           }
          },
          "scene": {
           "xaxis": {
            "backgroundcolor": "#E5ECF6",
            "gridcolor": "white",
            "gridwidth": 2,
            "linecolor": "white",
            "showbackground": true,
            "ticks": "",
            "zerolinecolor": "white"
           },
           "yaxis": {
            "backgroundcolor": "#E5ECF6",
            "gridcolor": "white",
            "gridwidth": 2,
            "linecolor": "white",
            "showbackground": true,
            "ticks": "",
            "zerolinecolor": "white"
           },
           "zaxis": {
            "backgroundcolor": "#E5ECF6",
            "gridcolor": "white",
            "gridwidth": 2,
            "linecolor": "white",
            "showbackground": true,
            "ticks": "",
            "zerolinecolor": "white"
           }
          },
          "shapedefaults": {
           "line": {
            "color": "#2a3f5f"
           }
          },
          "ternary": {
           "aaxis": {
            "gridcolor": "white",
            "linecolor": "white",
            "ticks": ""
           },
           "baxis": {
            "gridcolor": "white",
            "linecolor": "white",
            "ticks": ""
           },
           "bgcolor": "#E5ECF6",
           "caxis": {
            "gridcolor": "white",
            "linecolor": "white",
            "ticks": ""
           }
          },
          "title": {
           "x": 0.05
          },
          "xaxis": {
           "automargin": true,
           "gridcolor": "white",
           "linecolor": "white",
           "ticks": "",
           "title": {
            "standoff": 15
           },
           "zerolinecolor": "white",
           "zerolinewidth": 2
          },
          "yaxis": {
           "automargin": true,
           "gridcolor": "white",
           "linecolor": "white",
           "ticks": "",
           "title": {
            "standoff": 15
           },
           "zerolinecolor": "white",
           "zerolinewidth": 2
          }
         }
        },
        "title": {
         "text": "Risk vs. Return Analysis"
        },
        "xaxis": {
         "title": {
          "text": "Risk (Standard Deviation)"
         }
        },
        "yaxis": {
         "title": {
          "text": "Average Daily Return"
         }
        }
       }
      },
      "text/html": [
       "<div>                            <div id=\"c31f0d94-38bb-48c8-9d6a-6fd0f90d1ead\" class=\"plotly-graph-div\" style=\"height:525px; width:100%;\"></div>            <script type=\"text/javascript\">                require([\"plotly\"], function(Plotly) {                    window.PLOTLYENV=window.PLOTLYENV || {};                                    if (document.getElementById(\"c31f0d94-38bb-48c8-9d6a-6fd0f90d1ead\")) {                    Plotly.newPlot(                        \"c31f0d94-38bb-48c8-9d6a-6fd0f90d1ead\",                        [{\"marker\":{\"size\":10},\"mode\":\"markers+text\",\"text\":[\"AAPL\",\"GOOG\",\"MSFT\",\"NFLX\"],\"textposition\":\"top center\",\"x\":[0.014152223819857788,0.02071018305867296,0.017880778211219434,0.02248133504519506],\"y\":[0.0019914967001490743,-6.680907497623024e-05,0.002605883762994603,-0.001676395789809318],\"type\":\"scatter\"}],                        {\"template\":{\"data\":{\"histogram2dcontour\":[{\"type\":\"histogram2dcontour\",\"colorbar\":{\"outlinewidth\":0,\"ticks\":\"\"},\"colorscale\":[[0.0,\"#0d0887\"],[0.1111111111111111,\"#46039f\"],[0.2222222222222222,\"#7201a8\"],[0.3333333333333333,\"#9c179e\"],[0.4444444444444444,\"#bd3786\"],[0.5555555555555556,\"#d8576b\"],[0.6666666666666666,\"#ed7953\"],[0.7777777777777778,\"#fb9f3a\"],[0.8888888888888888,\"#fdca26\"],[1.0,\"#f0f921\"]]}],\"choropleth\":[{\"type\":\"choropleth\",\"colorbar\":{\"outlinewidth\":0,\"ticks\":\"\"}}],\"histogram2d\":[{\"type\":\"histogram2d\",\"colorbar\":{\"outlinewidth\":0,\"ticks\":\"\"},\"colorscale\":[[0.0,\"#0d0887\"],[0.1111111111111111,\"#46039f\"],[0.2222222222222222,\"#7201a8\"],[0.3333333333333333,\"#9c179e\"],[0.4444444444444444,\"#bd3786\"],[0.5555555555555556,\"#d8576b\"],[0.6666666666666666,\"#ed7953\"],[0.7777777777777778,\"#fb9f3a\"],[0.8888888888888888,\"#fdca26\"],[1.0,\"#f0f921\"]]}],\"heatmap\":[{\"type\":\"heatmap\",\"colorbar\":{\"outlinewidth\":0,\"ticks\":\"\"},\"colorscale\":[[0.0,\"#0d0887\"],[0.1111111111111111,\"#46039f\"],[0.2222222222222222,\"#7201a8\"],[0.3333333333333333,\"#9c179e\"],[0.4444444444444444,\"#bd3786\"],[0.5555555555555556,\"#d8576b\"],[0.6666666666666666,\"#ed7953\"],[0.7777777777777778,\"#fb9f3a\"],[0.8888888888888888,\"#fdca26\"],[1.0,\"#f0f921\"]]}],\"heatmapgl\":[{\"type\":\"heatmapgl\",\"colorbar\":{\"outlinewidth\":0,\"ticks\":\"\"},\"colorscale\":[[0.0,\"#0d0887\"],[0.1111111111111111,\"#46039f\"],[0.2222222222222222,\"#7201a8\"],[0.3333333333333333,\"#9c179e\"],[0.4444444444444444,\"#bd3786\"],[0.5555555555555556,\"#d8576b\"],[0.6666666666666666,\"#ed7953\"],[0.7777777777777778,\"#fb9f3a\"],[0.8888888888888888,\"#fdca26\"],[1.0,\"#f0f921\"]]}],\"contourcarpet\":[{\"type\":\"contourcarpet\",\"colorbar\":{\"outlinewidth\":0,\"ticks\":\"\"}}],\"contour\":[{\"type\":\"contour\",\"colorbar\":{\"outlinewidth\":0,\"ticks\":\"\"},\"colorscale\":[[0.0,\"#0d0887\"],[0.1111111111111111,\"#46039f\"],[0.2222222222222222,\"#7201a8\"],[0.3333333333333333,\"#9c179e\"],[0.4444444444444444,\"#bd3786\"],[0.5555555555555556,\"#d8576b\"],[0.6666666666666666,\"#ed7953\"],[0.7777777777777778,\"#fb9f3a\"],[0.8888888888888888,\"#fdca26\"],[1.0,\"#f0f921\"]]}],\"surface\":[{\"type\":\"surface\",\"colorbar\":{\"outlinewidth\":0,\"ticks\":\"\"},\"colorscale\":[[0.0,\"#0d0887\"],[0.1111111111111111,\"#46039f\"],[0.2222222222222222,\"#7201a8\"],[0.3333333333333333,\"#9c179e\"],[0.4444444444444444,\"#bd3786\"],[0.5555555555555556,\"#d8576b\"],[0.6666666666666666,\"#ed7953\"],[0.7777777777777778,\"#fb9f3a\"],[0.8888888888888888,\"#fdca26\"],[1.0,\"#f0f921\"]]}],\"mesh3d\":[{\"type\":\"mesh3d\",\"colorbar\":{\"outlinewidth\":0,\"ticks\":\"\"}}],\"scatter\":[{\"fillpattern\":{\"fillmode\":\"overlay\",\"size\":10,\"solidity\":0.2},\"type\":\"scatter\"}],\"parcoords\":[{\"type\":\"parcoords\",\"line\":{\"colorbar\":{\"outlinewidth\":0,\"ticks\":\"\"}}}],\"scatterpolargl\":[{\"type\":\"scatterpolargl\",\"marker\":{\"colorbar\":{\"outlinewidth\":0,\"ticks\":\"\"}}}],\"bar\":[{\"error_x\":{\"color\":\"#2a3f5f\"},\"error_y\":{\"color\":\"#2a3f5f\"},\"marker\":{\"line\":{\"color\":\"#E5ECF6\",\"width\":0.5},\"pattern\":{\"fillmode\":\"overlay\",\"size\":10,\"solidity\":0.2}},\"type\":\"bar\"}],\"scattergeo\":[{\"type\":\"scattergeo\",\"marker\":{\"colorbar\":{\"outlinewidth\":0,\"ticks\":\"\"}}}],\"scatterpolar\":[{\"type\":\"scatterpolar\",\"marker\":{\"colorbar\":{\"outlinewidth\":0,\"ticks\":\"\"}}}],\"histogram\":[{\"marker\":{\"pattern\":{\"fillmode\":\"overlay\",\"size\":10,\"solidity\":0.2}},\"type\":\"histogram\"}],\"scattergl\":[{\"type\":\"scattergl\",\"marker\":{\"colorbar\":{\"outlinewidth\":0,\"ticks\":\"\"}}}],\"scatter3d\":[{\"type\":\"scatter3d\",\"line\":{\"colorbar\":{\"outlinewidth\":0,\"ticks\":\"\"}},\"marker\":{\"colorbar\":{\"outlinewidth\":0,\"ticks\":\"\"}}}],\"scattermapbox\":[{\"type\":\"scattermapbox\",\"marker\":{\"colorbar\":{\"outlinewidth\":0,\"ticks\":\"\"}}}],\"scatterternary\":[{\"type\":\"scatterternary\",\"marker\":{\"colorbar\":{\"outlinewidth\":0,\"ticks\":\"\"}}}],\"scattercarpet\":[{\"type\":\"scattercarpet\",\"marker\":{\"colorbar\":{\"outlinewidth\":0,\"ticks\":\"\"}}}],\"carpet\":[{\"aaxis\":{\"endlinecolor\":\"#2a3f5f\",\"gridcolor\":\"white\",\"linecolor\":\"white\",\"minorgridcolor\":\"white\",\"startlinecolor\":\"#2a3f5f\"},\"baxis\":{\"endlinecolor\":\"#2a3f5f\",\"gridcolor\":\"white\",\"linecolor\":\"white\",\"minorgridcolor\":\"white\",\"startlinecolor\":\"#2a3f5f\"},\"type\":\"carpet\"}],\"table\":[{\"cells\":{\"fill\":{\"color\":\"#EBF0F8\"},\"line\":{\"color\":\"white\"}},\"header\":{\"fill\":{\"color\":\"#C8D4E3\"},\"line\":{\"color\":\"white\"}},\"type\":\"table\"}],\"barpolar\":[{\"marker\":{\"line\":{\"color\":\"#E5ECF6\",\"width\":0.5},\"pattern\":{\"fillmode\":\"overlay\",\"size\":10,\"solidity\":0.2}},\"type\":\"barpolar\"}],\"pie\":[{\"automargin\":true,\"type\":\"pie\"}]},\"layout\":{\"autotypenumbers\":\"strict\",\"colorway\":[\"#636efa\",\"#EF553B\",\"#00cc96\",\"#ab63fa\",\"#FFA15A\",\"#19d3f3\",\"#FF6692\",\"#B6E880\",\"#FF97FF\",\"#FECB52\"],\"font\":{\"color\":\"#2a3f5f\"},\"hovermode\":\"closest\",\"hoverlabel\":{\"align\":\"left\"},\"paper_bgcolor\":\"white\",\"plot_bgcolor\":\"#E5ECF6\",\"polar\":{\"bgcolor\":\"#E5ECF6\",\"angularaxis\":{\"gridcolor\":\"white\",\"linecolor\":\"white\",\"ticks\":\"\"},\"radialaxis\":{\"gridcolor\":\"white\",\"linecolor\":\"white\",\"ticks\":\"\"}},\"ternary\":{\"bgcolor\":\"#E5ECF6\",\"aaxis\":{\"gridcolor\":\"white\",\"linecolor\":\"white\",\"ticks\":\"\"},\"baxis\":{\"gridcolor\":\"white\",\"linecolor\":\"white\",\"ticks\":\"\"},\"caxis\":{\"gridcolor\":\"white\",\"linecolor\":\"white\",\"ticks\":\"\"}},\"coloraxis\":{\"colorbar\":{\"outlinewidth\":0,\"ticks\":\"\"}},\"colorscale\":{\"sequential\":[[0.0,\"#0d0887\"],[0.1111111111111111,\"#46039f\"],[0.2222222222222222,\"#7201a8\"],[0.3333333333333333,\"#9c179e\"],[0.4444444444444444,\"#bd3786\"],[0.5555555555555556,\"#d8576b\"],[0.6666666666666666,\"#ed7953\"],[0.7777777777777778,\"#fb9f3a\"],[0.8888888888888888,\"#fdca26\"],[1.0,\"#f0f921\"]],\"sequentialminus\":[[0.0,\"#0d0887\"],[0.1111111111111111,\"#46039f\"],[0.2222222222222222,\"#7201a8\"],[0.3333333333333333,\"#9c179e\"],[0.4444444444444444,\"#bd3786\"],[0.5555555555555556,\"#d8576b\"],[0.6666666666666666,\"#ed7953\"],[0.7777777777777778,\"#fb9f3a\"],[0.8888888888888888,\"#fdca26\"],[1.0,\"#f0f921\"]],\"diverging\":[[0,\"#8e0152\"],[0.1,\"#c51b7d\"],[0.2,\"#de77ae\"],[0.3,\"#f1b6da\"],[0.4,\"#fde0ef\"],[0.5,\"#f7f7f7\"],[0.6,\"#e6f5d0\"],[0.7,\"#b8e186\"],[0.8,\"#7fbc41\"],[0.9,\"#4d9221\"],[1,\"#276419\"]]},\"xaxis\":{\"gridcolor\":\"white\",\"linecolor\":\"white\",\"ticks\":\"\",\"title\":{\"standoff\":15},\"zerolinecolor\":\"white\",\"automargin\":true,\"zerolinewidth\":2},\"yaxis\":{\"gridcolor\":\"white\",\"linecolor\":\"white\",\"ticks\":\"\",\"title\":{\"standoff\":15},\"zerolinecolor\":\"white\",\"automargin\":true,\"zerolinewidth\":2},\"scene\":{\"xaxis\":{\"backgroundcolor\":\"#E5ECF6\",\"gridcolor\":\"white\",\"linecolor\":\"white\",\"showbackground\":true,\"ticks\":\"\",\"zerolinecolor\":\"white\",\"gridwidth\":2},\"yaxis\":{\"backgroundcolor\":\"#E5ECF6\",\"gridcolor\":\"white\",\"linecolor\":\"white\",\"showbackground\":true,\"ticks\":\"\",\"zerolinecolor\":\"white\",\"gridwidth\":2},\"zaxis\":{\"backgroundcolor\":\"#E5ECF6\",\"gridcolor\":\"white\",\"linecolor\":\"white\",\"showbackground\":true,\"ticks\":\"\",\"zerolinecolor\":\"white\",\"gridwidth\":2}},\"shapedefaults\":{\"line\":{\"color\":\"#2a3f5f\"}},\"annotationdefaults\":{\"arrowcolor\":\"#2a3f5f\",\"arrowhead\":0,\"arrowwidth\":1},\"geo\":{\"bgcolor\":\"white\",\"landcolor\":\"#E5ECF6\",\"subunitcolor\":\"white\",\"showland\":true,\"showlakes\":true,\"lakecolor\":\"white\"},\"title\":{\"x\":0.05},\"mapbox\":{\"style\":\"light\"}}},\"title\":{\"text\":\"Risk vs. Return Analysis\"},\"xaxis\":{\"title\":{\"text\":\"Risk (Standard Deviation)\"}},\"yaxis\":{\"title\":{\"text\":\"Average Daily Return\"}},\"showlegend\":false},                        {\"responsive\": true}                    ).then(function(){\n",
       "                            \n",
       "var gd = document.getElementById('c31f0d94-38bb-48c8-9d6a-6fd0f90d1ead');\n",
       "var x = new MutationObserver(function (mutations, observer) {{\n",
       "        var display = window.getComputedStyle(gd).display;\n",
       "        if (!display || display === 'none') {{\n",
       "            console.log([gd, 'removed!']);\n",
       "            Plotly.purge(gd);\n",
       "            observer.disconnect();\n",
       "        }}\n",
       "}});\n",
       "\n",
       "// Listen for the removal of the full notebook cells\n",
       "var notebookContainer = gd.closest('#notebook-container');\n",
       "if (notebookContainer) {{\n",
       "    x.observe(notebookContainer, {childList: true});\n",
       "}}\n",
       "\n",
       "// Listen for the clearing of the current output cell\n",
       "var outputEl = gd.closest('.output');\n",
       "if (outputEl) {{\n",
       "    x.observe(outputEl, {childList: true});\n",
       "}}\n",
       "\n",
       "                        })                };                });            </script>        </div>"
      ]
     },
     "metadata": {},
     "output_type": "display_data"
    }
   ],
   "source": [
    "daily_returns = pivot_data.pct_change().dropna()\n",
    "\n",
    "# Recalculating average daily return and standard deviation (risk)\n",
    "avg_daily_return = daily_returns.mean()\n",
    "risk = daily_returns.std()\n",
    "\n",
    "# Creating a DataFrame for plotting\n",
    "risk_return_df = pd.DataFrame({'Risk': risk, 'Average Daily Return': avg_daily_return})\n",
    "\n",
    "fig = go.Figure()\n",
    "\n",
    "# Add scatter plot points\n",
    "fig.add_trace(go.Scatter(\n",
    "    x=risk_return_df['Risk'],\n",
    "    y=risk_return_df['Average Daily Return'],\n",
    "    mode='markers+text',\n",
    "    text=risk_return_df.index,\n",
    "    textposition=\"top center\",\n",
    "    marker=dict(size=10)\n",
    "))\n",
    "\n",
    "# Update layout\n",
    "fig.update_layout(\n",
    "    title='Risk vs. Return Analysis',\n",
    "    xaxis_title='Risk (Standard Deviation)',\n",
    "    yaxis_title='Average Daily Return',\n",
    "    showlegend=False\n",
    ")\n",
    "\n",
    "# Show the plot\n",
    "fig.show()"
   ]
  },
  {
   "cell_type": "markdown",
   "id": "c884b620",
   "metadata": {},
   "source": [
    "### Observations:\n",
    "\n",
    "1. AAPL shows the lowest risk combined with a positive average daily return, suggesting a more stable investment.\n",
    "2. GOOG has higher volatility than AAPL and, on average, a slightly negative daily return, indicating a riskier investment.\n",
    "3. MSFT shows moderate risk with the highest average daily return, suggesting a potentially more rewarding investment, although with higher volatility compared to AAPL.\n",
    "4. NFLX exhibits the highest risk and a negative average daily return."
   ]
  },
  {
   "cell_type": "code",
   "execution_count": null,
   "id": "b2344725",
   "metadata": {},
   "outputs": [],
   "source": []
  },
  {
   "cell_type": "code",
   "execution_count": null,
   "id": "3d89be7f",
   "metadata": {},
   "outputs": [],
   "source": []
  },
  {
   "cell_type": "code",
   "execution_count": null,
   "id": "ea86aa54",
   "metadata": {},
   "outputs": [],
   "source": []
  },
  {
   "cell_type": "code",
   "execution_count": null,
   "id": "83136491",
   "metadata": {},
   "outputs": [],
   "source": []
  },
  {
   "cell_type": "code",
   "execution_count": null,
   "id": "ba2e445f",
   "metadata": {},
   "outputs": [],
   "source": []
  },
  {
   "cell_type": "code",
   "execution_count": null,
   "id": "523fc2ae",
   "metadata": {},
   "outputs": [],
   "source": []
  },
  {
   "cell_type": "code",
   "execution_count": null,
   "id": "7d5eb029",
   "metadata": {},
   "outputs": [],
   "source": []
  },
  {
   "cell_type": "code",
   "execution_count": null,
   "id": "e8d32d09",
   "metadata": {},
   "outputs": [],
   "source": []
  },
  {
   "cell_type": "code",
   "execution_count": null,
   "id": "36837285",
   "metadata": {},
   "outputs": [],
   "source": []
  },
  {
   "cell_type": "code",
   "execution_count": null,
   "id": "a40b6bb3",
   "metadata": {},
   "outputs": [],
   "source": []
  },
  {
   "cell_type": "code",
   "execution_count": null,
   "id": "bddfeaaa",
   "metadata": {},
   "outputs": [],
   "source": []
  },
  {
   "cell_type": "code",
   "execution_count": null,
   "id": "9319d972",
   "metadata": {},
   "outputs": [],
   "source": []
  },
  {
   "cell_type": "code",
   "execution_count": null,
   "id": "b283dd93",
   "metadata": {},
   "outputs": [],
   "source": []
  },
  {
   "cell_type": "code",
   "execution_count": null,
   "id": "0f85b639",
   "metadata": {},
   "outputs": [],
   "source": []
  },
  {
   "cell_type": "code",
   "execution_count": null,
   "id": "34c816ad",
   "metadata": {},
   "outputs": [],
   "source": []
  },
  {
   "cell_type": "code",
   "execution_count": null,
   "id": "5556e408",
   "metadata": {},
   "outputs": [],
   "source": []
  },
  {
   "cell_type": "code",
   "execution_count": null,
   "id": "b72db022",
   "metadata": {},
   "outputs": [],
   "source": []
  },
  {
   "cell_type": "code",
   "execution_count": null,
   "id": "2d214fec",
   "metadata": {},
   "outputs": [],
   "source": []
  },
  {
   "cell_type": "code",
   "execution_count": null,
   "id": "9ce4b985",
   "metadata": {},
   "outputs": [],
   "source": []
  },
  {
   "cell_type": "code",
   "execution_count": null,
   "id": "e0608534",
   "metadata": {},
   "outputs": [],
   "source": []
  },
  {
   "cell_type": "code",
   "execution_count": null,
   "id": "a5306c54",
   "metadata": {},
   "outputs": [],
   "source": []
  },
  {
   "cell_type": "code",
   "execution_count": null,
   "id": "44d098bf",
   "metadata": {},
   "outputs": [],
   "source": []
  },
  {
   "cell_type": "code",
   "execution_count": null,
   "id": "92c8f438",
   "metadata": {},
   "outputs": [],
   "source": []
  },
  {
   "cell_type": "code",
   "execution_count": null,
   "id": "b9c9e112",
   "metadata": {},
   "outputs": [],
   "source": []
  },
  {
   "cell_type": "code",
   "execution_count": null,
   "id": "6b8a6ba8",
   "metadata": {},
   "outputs": [],
   "source": []
  },
  {
   "cell_type": "code",
   "execution_count": null,
   "id": "cc56a3d4",
   "metadata": {},
   "outputs": [],
   "source": []
  },
  {
   "cell_type": "code",
   "execution_count": null,
   "id": "03ce0f0f",
   "metadata": {},
   "outputs": [],
   "source": []
  },
  {
   "cell_type": "code",
   "execution_count": null,
   "id": "6543226d",
   "metadata": {},
   "outputs": [],
   "source": []
  }
 ],
 "metadata": {
  "kernelspec": {
   "display_name": "Python 3 (ipykernel)",
   "language": "python",
   "name": "python3"
  },
  "language_info": {
   "codemirror_mode": {
    "name": "ipython",
    "version": 3
   },
   "file_extension": ".py",
   "mimetype": "text/x-python",
   "name": "python",
   "nbconvert_exporter": "python",
   "pygments_lexer": "ipython3",
   "version": "3.11.5"
  }
 },
 "nbformat": 4,
 "nbformat_minor": 5
}
